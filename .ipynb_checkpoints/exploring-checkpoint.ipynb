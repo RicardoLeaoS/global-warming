{
 "cells": [
  {
   "cell_type": "markdown",
   "metadata": {},
   "source": [
    "# importing"
   ]
  },
  {
   "cell_type": "code",
   "execution_count": 1,
   "metadata": {},
   "outputs": [],
   "source": [
    "from scipy import stats\n",
    "import matplotlib.pyplot as plt\n",
    "import seaborn as sns\n",
    "from sklearn.model_selection import train_test_split\n",
    "\n",
    "import pandas as pd\n",
    "import numpy as np"
   ]
  },
  {
   "cell_type": "code",
   "execution_count": 2,
   "metadata": {},
   "outputs": [],
   "source": [
    "global_temp_df = pd.read_csv('data/global_temp_train.csv')"
   ]
  },
  {
   "cell_type": "code",
   "execution_count": 3,
   "metadata": {},
   "outputs": [],
   "source": [
    "co2_concentration_df = pd.read_csv('data/co2_concentration_train.csv')"
   ]
  },
  {
   "cell_type": "markdown",
   "metadata": {},
   "source": [
    "# exploring global temp"
   ]
  },
  {
   "cell_type": "code",
   "execution_count": 7,
   "metadata": {},
   "outputs": [
    {
     "data": {
      "text/html": [
       "<div>\n",
       "<style scoped>\n",
       "    .dataframe tbody tr th:only-of-type {\n",
       "        vertical-align: middle;\n",
       "    }\n",
       "\n",
       "    .dataframe tbody tr th {\n",
       "        vertical-align: top;\n",
       "    }\n",
       "\n",
       "    .dataframe thead th {\n",
       "        text-align: right;\n",
       "    }\n",
       "</style>\n",
       "<table border=\"1\" class=\"dataframe\">\n",
       "  <thead>\n",
       "    <tr style=\"text-align: right;\">\n",
       "      <th></th>\n",
       "      <th>dt</th>\n",
       "      <th>LandAverageTemperature</th>\n",
       "      <th>LandAverageTemperatureUncertainty</th>\n",
       "      <th>LandMaxTemperature</th>\n",
       "      <th>LandMaxTemperatureUncertainty</th>\n",
       "      <th>LandMinTemperature</th>\n",
       "      <th>LandMinTemperatureUncertainty</th>\n",
       "      <th>LandAndOceanAverageTemperature</th>\n",
       "      <th>LandAndOceanAverageTemperatureUncertainty</th>\n",
       "    </tr>\n",
       "  </thead>\n",
       "  <tbody>\n",
       "    <tr>\n",
       "      <th>0</th>\n",
       "      <td>1750-01-01</td>\n",
       "      <td>3.034</td>\n",
       "      <td>3.574</td>\n",
       "      <td>NaN</td>\n",
       "      <td>NaN</td>\n",
       "      <td>NaN</td>\n",
       "      <td>NaN</td>\n",
       "      <td>NaN</td>\n",
       "      <td>NaN</td>\n",
       "    </tr>\n",
       "    <tr>\n",
       "      <th>1</th>\n",
       "      <td>1750-02-01</td>\n",
       "      <td>3.083</td>\n",
       "      <td>3.702</td>\n",
       "      <td>NaN</td>\n",
       "      <td>NaN</td>\n",
       "      <td>NaN</td>\n",
       "      <td>NaN</td>\n",
       "      <td>NaN</td>\n",
       "      <td>NaN</td>\n",
       "    </tr>\n",
       "    <tr>\n",
       "      <th>2</th>\n",
       "      <td>1750-03-01</td>\n",
       "      <td>5.626</td>\n",
       "      <td>3.076</td>\n",
       "      <td>NaN</td>\n",
       "      <td>NaN</td>\n",
       "      <td>NaN</td>\n",
       "      <td>NaN</td>\n",
       "      <td>NaN</td>\n",
       "      <td>NaN</td>\n",
       "    </tr>\n",
       "    <tr>\n",
       "      <th>3</th>\n",
       "      <td>1750-04-01</td>\n",
       "      <td>8.490</td>\n",
       "      <td>2.451</td>\n",
       "      <td>NaN</td>\n",
       "      <td>NaN</td>\n",
       "      <td>NaN</td>\n",
       "      <td>NaN</td>\n",
       "      <td>NaN</td>\n",
       "      <td>NaN</td>\n",
       "    </tr>\n",
       "    <tr>\n",
       "      <th>4</th>\n",
       "      <td>1750-05-01</td>\n",
       "      <td>11.573</td>\n",
       "      <td>2.072</td>\n",
       "      <td>NaN</td>\n",
       "      <td>NaN</td>\n",
       "      <td>NaN</td>\n",
       "      <td>NaN</td>\n",
       "      <td>NaN</td>\n",
       "      <td>NaN</td>\n",
       "    </tr>\n",
       "  </tbody>\n",
       "</table>\n",
       "</div>"
      ],
      "text/plain": [
       "           dt  LandAverageTemperature  LandAverageTemperatureUncertainty  \\\n",
       "0  1750-01-01                   3.034                              3.574   \n",
       "1  1750-02-01                   3.083                              3.702   \n",
       "2  1750-03-01                   5.626                              3.076   \n",
       "3  1750-04-01                   8.490                              2.451   \n",
       "4  1750-05-01                  11.573                              2.072   \n",
       "\n",
       "   LandMaxTemperature  LandMaxTemperatureUncertainty  LandMinTemperature  \\\n",
       "0                 NaN                            NaN                 NaN   \n",
       "1                 NaN                            NaN                 NaN   \n",
       "2                 NaN                            NaN                 NaN   \n",
       "3                 NaN                            NaN                 NaN   \n",
       "4                 NaN                            NaN                 NaN   \n",
       "\n",
       "   LandMinTemperatureUncertainty  LandAndOceanAverageTemperature  \\\n",
       "0                            NaN                             NaN   \n",
       "1                            NaN                             NaN   \n",
       "2                            NaN                             NaN   \n",
       "3                            NaN                             NaN   \n",
       "4                            NaN                             NaN   \n",
       "\n",
       "   LandAndOceanAverageTemperatureUncertainty  \n",
       "0                                        NaN  \n",
       "1                                        NaN  \n",
       "2                                        NaN  \n",
       "3                                        NaN  \n",
       "4                                        NaN  "
      ]
     },
     "execution_count": 7,
     "metadata": {},
     "output_type": "execute_result"
    }
   ],
   "source": [
    "global_temp_df.head()"
   ]
  },
  {
   "cell_type": "code",
   "execution_count": 8,
   "metadata": {},
   "outputs": [
    {
     "name": "stdout",
     "output_type": "stream",
     "text": [
      "<class 'pandas.core.frame.DataFrame'>\n",
      "Int64Index: 2394 entries, 0 to 2393\n",
      "Data columns (total 9 columns):\n",
      " #   Column                                     Non-Null Count  Dtype  \n",
      "---  ------                                     --------------  -----  \n",
      " 0   dt                                         2394 non-null   object \n",
      " 1   LandAverageTemperature                     2382 non-null   float64\n",
      " 2   LandAverageTemperatureUncertainty          2382 non-null   float64\n",
      " 3   LandMaxTemperature                         1194 non-null   float64\n",
      " 4   LandMaxTemperatureUncertainty              1194 non-null   float64\n",
      " 5   LandMinTemperature                         1194 non-null   float64\n",
      " 6   LandMinTemperatureUncertainty              1194 non-null   float64\n",
      " 7   LandAndOceanAverageTemperature             1194 non-null   float64\n",
      " 8   LandAndOceanAverageTemperatureUncertainty  1194 non-null   float64\n",
      "dtypes: float64(8), object(1)\n",
      "memory usage: 187.0+ KB\n"
     ]
    }
   ],
   "source": [
    "global_temp_df.info()"
   ]
  },
  {
   "cell_type": "code",
   "execution_count": 9,
   "metadata": {},
   "outputs": [
    {
     "data": {
      "text/html": [
       "<div>\n",
       "<style scoped>\n",
       "    .dataframe tbody tr th:only-of-type {\n",
       "        vertical-align: middle;\n",
       "    }\n",
       "\n",
       "    .dataframe tbody tr th {\n",
       "        vertical-align: top;\n",
       "    }\n",
       "\n",
       "    .dataframe thead th {\n",
       "        text-align: right;\n",
       "    }\n",
       "</style>\n",
       "<table border=\"1\" class=\"dataframe\">\n",
       "  <thead>\n",
       "    <tr style=\"text-align: right;\">\n",
       "      <th></th>\n",
       "      <th>LandAverageTemperature</th>\n",
       "      <th>LandAverageTemperatureUncertainty</th>\n",
       "      <th>LandMaxTemperature</th>\n",
       "      <th>LandMaxTemperatureUncertainty</th>\n",
       "      <th>LandMinTemperature</th>\n",
       "      <th>LandMinTemperatureUncertainty</th>\n",
       "      <th>LandAndOceanAverageTemperature</th>\n",
       "      <th>LandAndOceanAverageTemperatureUncertainty</th>\n",
       "    </tr>\n",
       "  </thead>\n",
       "  <tbody>\n",
       "    <tr>\n",
       "      <th>count</th>\n",
       "      <td>2382.000000</td>\n",
       "      <td>2382.000000</td>\n",
       "      <td>1194.000000</td>\n",
       "      <td>1194.000000</td>\n",
       "      <td>1194.000000</td>\n",
       "      <td>1194.000000</td>\n",
       "      <td>1194.000000</td>\n",
       "      <td>1194.000000</td>\n",
       "    </tr>\n",
       "    <tr>\n",
       "      <th>mean</th>\n",
       "      <td>8.170852</td>\n",
       "      <td>1.218999</td>\n",
       "      <td>14.123902</td>\n",
       "      <td>0.709533</td>\n",
       "      <td>2.343603</td>\n",
       "      <td>0.621685</td>\n",
       "      <td>15.028077</td>\n",
       "      <td>0.171550</td>\n",
       "    </tr>\n",
       "    <tr>\n",
       "      <th>std</th>\n",
       "      <td>4.434369</td>\n",
       "      <td>1.136068</td>\n",
       "      <td>4.327334</td>\n",
       "      <td>0.658636</td>\n",
       "      <td>4.171006</td>\n",
       "      <td>0.489054</td>\n",
       "      <td>1.262979</td>\n",
       "      <td>0.065399</td>\n",
       "    </tr>\n",
       "    <tr>\n",
       "      <th>min</th>\n",
       "      <td>-2.080000</td>\n",
       "      <td>0.161000</td>\n",
       "      <td>5.900000</td>\n",
       "      <td>0.147000</td>\n",
       "      <td>-5.407000</td>\n",
       "      <td>0.193000</td>\n",
       "      <td>12.475000</td>\n",
       "      <td>0.101000</td>\n",
       "    </tr>\n",
       "    <tr>\n",
       "      <th>25%</th>\n",
       "      <td>4.048500</td>\n",
       "      <td>0.314250</td>\n",
       "      <td>9.809500</td>\n",
       "      <td>0.275250</td>\n",
       "      <td>-1.806500</td>\n",
       "      <td>0.298000</td>\n",
       "      <td>13.834500</td>\n",
       "      <td>0.127000</td>\n",
       "    </tr>\n",
       "    <tr>\n",
       "      <th>50%</th>\n",
       "      <td>8.326000</td>\n",
       "      <td>0.798000</td>\n",
       "      <td>14.484000</td>\n",
       "      <td>0.430000</td>\n",
       "      <td>2.563500</td>\n",
       "      <td>0.388000</td>\n",
       "      <td>15.064000</td>\n",
       "      <td>0.143000</td>\n",
       "    </tr>\n",
       "    <tr>\n",
       "      <th>75%</th>\n",
       "      <td>12.322750</td>\n",
       "      <td>1.795250</td>\n",
       "      <td>18.090750</td>\n",
       "      <td>0.875750</td>\n",
       "      <td>6.417750</td>\n",
       "      <td>0.840750</td>\n",
       "      <td>16.242000</td>\n",
       "      <td>0.200750</td>\n",
       "    </tr>\n",
       "    <tr>\n",
       "      <th>max</th>\n",
       "      <td>19.021000</td>\n",
       "      <td>7.880000</td>\n",
       "      <td>20.733000</td>\n",
       "      <td>4.373000</td>\n",
       "      <td>9.210000</td>\n",
       "      <td>3.498000</td>\n",
       "      <td>17.131000</td>\n",
       "      <td>0.457000</td>\n",
       "    </tr>\n",
       "  </tbody>\n",
       "</table>\n",
       "</div>"
      ],
      "text/plain": [
       "       LandAverageTemperature  LandAverageTemperatureUncertainty  \\\n",
       "count             2382.000000                        2382.000000   \n",
       "mean                 8.170852                           1.218999   \n",
       "std                  4.434369                           1.136068   \n",
       "min                 -2.080000                           0.161000   \n",
       "25%                  4.048500                           0.314250   \n",
       "50%                  8.326000                           0.798000   \n",
       "75%                 12.322750                           1.795250   \n",
       "max                 19.021000                           7.880000   \n",
       "\n",
       "       LandMaxTemperature  LandMaxTemperatureUncertainty  LandMinTemperature  \\\n",
       "count         1194.000000                    1194.000000         1194.000000   \n",
       "mean            14.123902                       0.709533            2.343603   \n",
       "std              4.327334                       0.658636            4.171006   \n",
       "min              5.900000                       0.147000           -5.407000   \n",
       "25%              9.809500                       0.275250           -1.806500   \n",
       "50%             14.484000                       0.430000            2.563500   \n",
       "75%             18.090750                       0.875750            6.417750   \n",
       "max             20.733000                       4.373000            9.210000   \n",
       "\n",
       "       LandMinTemperatureUncertainty  LandAndOceanAverageTemperature  \\\n",
       "count                    1194.000000                     1194.000000   \n",
       "mean                        0.621685                       15.028077   \n",
       "std                         0.489054                        1.262979   \n",
       "min                         0.193000                       12.475000   \n",
       "25%                         0.298000                       13.834500   \n",
       "50%                         0.388000                       15.064000   \n",
       "75%                         0.840750                       16.242000   \n",
       "max                         3.498000                       17.131000   \n",
       "\n",
       "       LandAndOceanAverageTemperatureUncertainty  \n",
       "count                                1194.000000  \n",
       "mean                                    0.171550  \n",
       "std                                     0.065399  \n",
       "min                                     0.101000  \n",
       "25%                                     0.127000  \n",
       "50%                                     0.143000  \n",
       "75%                                     0.200750  \n",
       "max                                     0.457000  "
      ]
     },
     "execution_count": 9,
     "metadata": {},
     "output_type": "execute_result"
    }
   ],
   "source": [
    "global_temp_df.describe()"
   ]
  },
  {
   "cell_type": "code",
   "execution_count": 10,
   "metadata": {},
   "outputs": [
    {
     "data": {
      "text/plain": [
       "dt                                           False\n",
       "LandAverageTemperature                        True\n",
       "LandAverageTemperatureUncertainty             True\n",
       "LandMaxTemperature                            True\n",
       "LandMaxTemperatureUncertainty                 True\n",
       "LandMinTemperature                            True\n",
       "LandMinTemperatureUncertainty                 True\n",
       "LandAndOceanAverageTemperature                True\n",
       "LandAndOceanAverageTemperatureUncertainty     True\n",
       "dtype: bool"
      ]
     },
     "execution_count": 10,
     "metadata": {},
     "output_type": "execute_result"
    }
   ],
   "source": [
    "global_temp_df.isnull().any()"
   ]
  },
  {
   "cell_type": "code",
   "execution_count": 11,
   "metadata": {},
   "outputs": [
    {
     "data": {
      "text/plain": [
       "dt                                           0.000000\n",
       "LandAverageTemperature                       0.005013\n",
       "LandAverageTemperatureUncertainty            0.005013\n",
       "LandMaxTemperature                           0.501253\n",
       "LandMaxTemperatureUncertainty                0.501253\n",
       "LandMinTemperature                           0.501253\n",
       "LandMinTemperatureUncertainty                0.501253\n",
       "LandAndOceanAverageTemperature               0.501253\n",
       "LandAndOceanAverageTemperatureUncertainty    0.501253\n",
       "dtype: float64"
      ]
     },
     "execution_count": 11,
     "metadata": {},
     "output_type": "execute_result"
    }
   ],
   "source": [
    "global_temp_df.isnull().mean()"
   ]
  },
  {
   "cell_type": "code",
   "execution_count": 12,
   "metadata": {},
   "outputs": [],
   "source": [
    "years = np.unique(global_temp_df.dt.apply(lambda x: x[:4]))"
   ]
  },
  {
   "cell_type": "code",
   "execution_count": 13,
   "metadata": {},
   "outputs": [
    {
     "name": "stderr",
     "output_type": "stream",
     "text": [
      "/usr/local/lib/python3.7/site-packages/pandas/core/indexing.py:845: SettingWithCopyWarning: \n",
      "A value is trying to be set on a copy of a slice from a DataFrame.\n",
      "Try using .loc[row_indexer,col_indexer] = value instead\n",
      "\n",
      "See the caveats in the documentation: https://pandas.pydata.org/pandas-docs/stable/user_guide/indexing.html#returning-a-view-versus-a-copy\n",
      "  self.obj[key] = _infer_fill_value(value)\n",
      "/usr/local/lib/python3.7/site-packages/pandas/core/indexing.py:966: SettingWithCopyWarning: \n",
      "A value is trying to be set on a copy of a slice from a DataFrame.\n",
      "Try using .loc[row_indexer,col_indexer] = value instead\n",
      "\n",
      "See the caveats in the documentation: https://pandas.pydata.org/pandas-docs/stable/user_guide/indexing.html#returning-a-view-versus-a-copy\n",
      "  self.obj[item] = s\n"
     ]
    }
   ],
   "source": [
    "global_temp_df['year'] = pd.to_datetime(global_temp_df.loc[:, 'dt'], format='%Y-%m-%d').apply(lambda x : x.year)"
   ]
  },
  {
   "cell_type": "code",
   "execution_count": 14,
   "metadata": {},
   "outputs": [
    {
     "data": {
      "text/plain": [
       "0       1750\n",
       "1       1750\n",
       "2       1750\n",
       "3       1750\n",
       "4       1750\n",
       "        ... \n",
       "2389    1949\n",
       "2390    1949\n",
       "2391    1949\n",
       "2392    1949\n",
       "2393    1949\n",
       "Name: year, Length: 2394, dtype: int64"
      ]
     },
     "execution_count": 14,
     "metadata": {},
     "output_type": "execute_result"
    }
   ],
   "source": [
    "global_temp_df['year']"
   ]
  },
  {
   "cell_type": "code",
   "execution_count": 15,
   "metadata": {},
   "outputs": [
    {
     "data": {
      "text/plain": [
       "dt                                           0.000000\n",
       "LandAverageTemperature                       0.005013\n",
       "LandAverageTemperatureUncertainty            0.005013\n",
       "LandMaxTemperature                           0.501253\n",
       "LandMaxTemperatureUncertainty                0.501253\n",
       "LandMinTemperature                           0.501253\n",
       "LandMinTemperatureUncertainty                0.501253\n",
       "LandAndOceanAverageTemperature               0.501253\n",
       "LandAndOceanAverageTemperatureUncertainty    0.501253\n",
       "year                                         0.000000\n",
       "dtype: float64"
      ]
     },
     "execution_count": 15,
     "metadata": {},
     "output_type": "execute_result"
    }
   ],
   "source": [
    "global_temp_df.isnull().mean()"
   ]
  }
 ],
 "metadata": {
  "kernelspec": {
   "display_name": "Python 3",
   "language": "python",
   "name": "python3"
  },
  "language_info": {
   "codemirror_mode": {
    "name": "ipython",
    "version": 3
   },
   "file_extension": ".py",
   "mimetype": "text/x-python",
   "name": "python",
   "nbconvert_exporter": "python",
   "pygments_lexer": "ipython3",
   "version": "3.7.7"
  }
 },
 "nbformat": 4,
 "nbformat_minor": 4
}
