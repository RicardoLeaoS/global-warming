{
 "cells": [
  {
   "cell_type": "markdown",
   "metadata": {},
   "source": [
    "# imports"
   ]
  },
  {
   "cell_type": "code",
   "execution_count": 33,
   "metadata": {},
   "outputs": [],
   "source": [
    "from scipy import stats\n",
    "import matplotlib.pyplot as plt\n",
    "import seaborn as sns\n",
    "\n",
    "import pandas as pd\n",
    "import numpy as np\n",
    "import datetime\n",
    "\n",
    "from statsmodels.graphics.tsaplots import plot_pacf\n",
    "from statsmodels.graphics.tsaplots import plot_acf\n",
    "from statsmodels.tsa.seasonal import seasonal_decompose\n",
    "sns.set(style=\"darkgrid\")\n",
    "\n",
    "\n",
    "\n",
    "from sklearn.tree import DecisionTreeRegressor\n",
    "from sklearn.ensemble import RandomForestRegressor, GradientBoostingRegressor\n",
    "from sklearn.model_selection import ParameterGrid"
   ]
  },
  {
   "cell_type": "code",
   "execution_count": 2,
   "metadata": {},
   "outputs": [],
   "source": [
    "co2_df = pd.read_csv('data/co2_concentration_df.csv')"
   ]
  },
  {
   "cell_type": "code",
   "execution_count": 3,
   "metadata": {},
   "outputs": [],
   "source": [
    "co2_df['datetime'] = co2_df['datetime'].apply(lambda x : datetime.datetime.strptime(x, '%Y-%m-%d'))\n",
    "co2_df.set_index('datetime', inplace=True)"
   ]
  },
  {
   "cell_type": "markdown",
   "metadata": {},
   "source": [
    "## treating data"
   ]
  },
  {
   "cell_type": "code",
   "execution_count": 4,
   "metadata": {},
   "outputs": [],
   "source": [
    "co2_diff = pd.DataFrame(co2_df['data_mean_global'].diff(1))"
   ]
  },
  {
   "cell_type": "code",
   "execution_count": 5,
   "metadata": {},
   "outputs": [],
   "source": [
    "co2_diff.dropna(inplace=True)"
   ]
  },
  {
   "cell_type": "code",
   "execution_count": 6,
   "metadata": {},
   "outputs": [
    {
     "data": {
      "text/html": [
       "<div>\n",
       "<style scoped>\n",
       "    .dataframe tbody tr th:only-of-type {\n",
       "        vertical-align: middle;\n",
       "    }\n",
       "\n",
       "    .dataframe tbody tr th {\n",
       "        vertical-align: top;\n",
       "    }\n",
       "\n",
       "    .dataframe thead th {\n",
       "        text-align: right;\n",
       "    }\n",
       "</style>\n",
       "<table border=\"1\" class=\"dataframe\">\n",
       "  <thead>\n",
       "    <tr style=\"text-align: right;\">\n",
       "      <th></th>\n",
       "      <th>data_mean_global</th>\n",
       "    </tr>\n",
       "    <tr>\n",
       "      <th>datetime</th>\n",
       "      <th></th>\n",
       "    </tr>\n",
       "  </thead>\n",
       "  <tbody>\n",
       "    <tr>\n",
       "      <th>1677-11-15</th>\n",
       "      <td>1.004565</td>\n",
       "    </tr>\n",
       "    <tr>\n",
       "      <th>1677-12-15</th>\n",
       "      <td>0.637296</td>\n",
       "    </tr>\n",
       "    <tr>\n",
       "      <th>1678-01-15</th>\n",
       "      <td>0.460474</td>\n",
       "    </tr>\n",
       "    <tr>\n",
       "      <th>1678-02-15</th>\n",
       "      <td>0.383064</td>\n",
       "    </tr>\n",
       "    <tr>\n",
       "      <th>1678-03-15</th>\n",
       "      <td>0.341987</td>\n",
       "    </tr>\n",
       "    <tr>\n",
       "      <th>...</th>\n",
       "      <td>...</td>\n",
       "    </tr>\n",
       "    <tr>\n",
       "      <th>2014-08-15</th>\n",
       "      <td>-1.075374</td>\n",
       "    </tr>\n",
       "    <tr>\n",
       "      <th>2014-09-15</th>\n",
       "      <td>0.453349</td>\n",
       "    </tr>\n",
       "    <tr>\n",
       "      <th>2014-10-15</th>\n",
       "      <td>1.641950</td>\n",
       "    </tr>\n",
       "    <tr>\n",
       "      <th>2014-11-15</th>\n",
       "      <td>1.520315</td>\n",
       "    </tr>\n",
       "    <tr>\n",
       "      <th>2014-12-15</th>\n",
       "      <td>0.990618</td>\n",
       "    </tr>\n",
       "  </tbody>\n",
       "</table>\n",
       "<p>4046 rows × 1 columns</p>\n",
       "</div>"
      ],
      "text/plain": [
       "            data_mean_global\n",
       "datetime                    \n",
       "1677-11-15          1.004565\n",
       "1677-12-15          0.637296\n",
       "1678-01-15          0.460474\n",
       "1678-02-15          0.383064\n",
       "1678-03-15          0.341987\n",
       "...                      ...\n",
       "2014-08-15         -1.075374\n",
       "2014-09-15          0.453349\n",
       "2014-10-15          1.641950\n",
       "2014-11-15          1.520315\n",
       "2014-12-15          0.990618\n",
       "\n",
       "[4046 rows x 1 columns]"
      ]
     },
     "execution_count": 6,
     "metadata": {},
     "output_type": "execute_result"
    }
   ],
   "source": [
    "co2_diff"
   ]
  },
  {
   "cell_type": "code",
   "execution_count": 7,
   "metadata": {},
   "outputs": [
    {
     "data": {
      "text/plain": [
       "<matplotlib.axes._subplots.AxesSubplot at 0x12411ec50>"
      ]
     },
     "execution_count": 7,
     "metadata": {},
     "output_type": "execute_result"
    },
    {
     "data": {
      "image/png": "[encoded data removed]",
      "text/plain": [
       "<Figure size 432x288 with 1 Axes>"
      ]
     },
     "metadata": {},
     "output_type": "display_data"
    }
   ],
   "source": [
    "co2_diff['data_mean_global'].plot(kind='kde')"
   ]
  },
  {
   "cell_type": "code",
   "execution_count": 8,
   "metadata": {},
   "outputs": [
    {
     "data": {
      "image/png": "[encoded data removed]",
      "text/plain": [
       "<Figure size 432x288 with 4 Axes>"
      ]
     },
     "metadata": {},
     "output_type": "display_data"
    }
   ],
   "source": [
    "s_decomp = seasonal_decompose(co2_diff['data_mean_global'], model='additive', period=12)\n",
    "s_decomp.plot()\n",
    "plt.show()"
   ]
  },
  {
   "cell_type": "code",
   "execution_count": 9,
   "metadata": {},
   "outputs": [
    {
     "data": {
      "text/plain": [
       "<matplotlib.axes._subplots.AxesSubplot at 0x1284c89d0>"
      ]
     },
     "execution_count": 9,
     "metadata": {},
     "output_type": "execute_result"
    },
    {
     "data": {
      "image/png": "[encoded data removed]",
      "text/plain": [
       "<Figure size 432x288 with 1 Axes>"
      ]
     },
     "metadata": {},
     "output_type": "display_data"
    }
   ],
   "source": [
    "s_decomp.trend.plot()\n",
    "\n"
   ]
  },
  {
   "cell_type": "code",
   "execution_count": 10,
   "metadata": {},
   "outputs": [
    {
     "data": {
      "image/png": "[encoded data removed]",
      "text/plain": [
       "<Figure size 1440x720 with 1 Axes>"
      ]
     },
     "metadata": {},
     "output_type": "display_data"
    }
   ],
   "source": [
    "fig, ax = plt.subplots(figsize=(20,10))\n",
    "\n",
    "ax = plot_acf(co2_diff['data_mean_global'], ax, title='CO2 Concentration 1st Difference Autocorrelation')\n",
    "\n",
    "plt.show()"
   ]
  },
  {
   "cell_type": "markdown",
   "metadata": {},
   "source": [
    "## creating lagged DF"
   ]
  },
  {
   "cell_type": "code",
   "execution_count": 11,
   "metadata": {},
   "outputs": [],
   "source": [
    "lagged_df = pd.DataFrame()"
   ]
  },
  {
   "cell_type": "code",
   "execution_count": 12,
   "metadata": {},
   "outputs": [],
   "source": [
    "for i in range(12, 0, -1):\n",
    "    lagged_df[['t-' + str(i)]] = co2_diff.shift(i)\n",
    "\n",
    "lagged_df['t'] = co2_diff['data_mean_global']"
   ]
  },
  {
   "cell_type": "code",
   "execution_count": 13,
   "metadata": {},
   "outputs": [
    {
     "data": {
      "text/html": [
       "<div>\n",
       "<style scoped>\n",
       "    .dataframe tbody tr th:only-of-type {\n",
       "        vertical-align: middle;\n",
       "    }\n",
       "\n",
       "    .dataframe tbody tr th {\n",
       "        vertical-align: top;\n",
       "    }\n",
       "\n",
       "    .dataframe thead th {\n",
       "        text-align: right;\n",
       "    }\n",
       "</style>\n",
       "<table border=\"1\" class=\"dataframe\">\n",
       "  <thead>\n",
       "    <tr style=\"text-align: right;\">\n",
       "      <th></th>\n",
       "      <th>t-12</th>\n",
       "      <th>t-11</th>\n",
       "      <th>t-10</th>\n",
       "      <th>t-9</th>\n",
       "      <th>t-8</th>\n",
       "      <th>t-7</th>\n",
       "      <th>t-6</th>\n",
       "      <th>t-5</th>\n",
       "      <th>t-4</th>\n",
       "      <th>t-3</th>\n",
       "      <th>t-2</th>\n",
       "      <th>t-1</th>\n",
       "      <th>t</th>\n",
       "    </tr>\n",
       "    <tr>\n",
       "      <th>datetime</th>\n",
       "      <th></th>\n",
       "      <th></th>\n",
       "      <th></th>\n",
       "      <th></th>\n",
       "      <th></th>\n",
       "      <th></th>\n",
       "      <th></th>\n",
       "      <th></th>\n",
       "      <th></th>\n",
       "      <th></th>\n",
       "      <th></th>\n",
       "      <th></th>\n",
       "      <th></th>\n",
       "    </tr>\n",
       "  </thead>\n",
       "  <tbody>\n",
       "    <tr>\n",
       "      <th>1677-11-15</th>\n",
       "      <td>NaN</td>\n",
       "      <td>NaN</td>\n",
       "      <td>NaN</td>\n",
       "      <td>NaN</td>\n",
       "      <td>NaN</td>\n",
       "      <td>NaN</td>\n",
       "      <td>NaN</td>\n",
       "      <td>NaN</td>\n",
       "      <td>NaN</td>\n",
       "      <td>NaN</td>\n",
       "      <td>NaN</td>\n",
       "      <td>NaN</td>\n",
       "      <td>1.004565</td>\n",
       "    </tr>\n",
       "    <tr>\n",
       "      <th>1677-12-15</th>\n",
       "      <td>NaN</td>\n",
       "      <td>NaN</td>\n",
       "      <td>NaN</td>\n",
       "      <td>NaN</td>\n",
       "      <td>NaN</td>\n",
       "      <td>NaN</td>\n",
       "      <td>NaN</td>\n",
       "      <td>NaN</td>\n",
       "      <td>NaN</td>\n",
       "      <td>NaN</td>\n",
       "      <td>NaN</td>\n",
       "      <td>1.004565</td>\n",
       "      <td>0.637296</td>\n",
       "    </tr>\n",
       "    <tr>\n",
       "      <th>1678-01-15</th>\n",
       "      <td>NaN</td>\n",
       "      <td>NaN</td>\n",
       "      <td>NaN</td>\n",
       "      <td>NaN</td>\n",
       "      <td>NaN</td>\n",
       "      <td>NaN</td>\n",
       "      <td>NaN</td>\n",
       "      <td>NaN</td>\n",
       "      <td>NaN</td>\n",
       "      <td>NaN</td>\n",
       "      <td>1.004565</td>\n",
       "      <td>0.637296</td>\n",
       "      <td>0.460474</td>\n",
       "    </tr>\n",
       "    <tr>\n",
       "      <th>1678-02-15</th>\n",
       "      <td>NaN</td>\n",
       "      <td>NaN</td>\n",
       "      <td>NaN</td>\n",
       "      <td>NaN</td>\n",
       "      <td>NaN</td>\n",
       "      <td>NaN</td>\n",
       "      <td>NaN</td>\n",
       "      <td>NaN</td>\n",
       "      <td>NaN</td>\n",
       "      <td>1.004565</td>\n",
       "      <td>0.637296</td>\n",
       "      <td>0.460474</td>\n",
       "      <td>0.383064</td>\n",
       "    </tr>\n",
       "    <tr>\n",
       "      <th>1678-03-15</th>\n",
       "      <td>NaN</td>\n",
       "      <td>NaN</td>\n",
       "      <td>NaN</td>\n",
       "      <td>NaN</td>\n",
       "      <td>NaN</td>\n",
       "      <td>NaN</td>\n",
       "      <td>NaN</td>\n",
       "      <td>NaN</td>\n",
       "      <td>1.004565</td>\n",
       "      <td>0.637296</td>\n",
       "      <td>0.460474</td>\n",
       "      <td>0.383064</td>\n",
       "      <td>0.341987</td>\n",
       "    </tr>\n",
       "    <tr>\n",
       "      <th>...</th>\n",
       "      <td>...</td>\n",
       "      <td>...</td>\n",
       "      <td>...</td>\n",
       "      <td>...</td>\n",
       "      <td>...</td>\n",
       "      <td>...</td>\n",
       "      <td>...</td>\n",
       "      <td>...</td>\n",
       "      <td>...</td>\n",
       "      <td>...</td>\n",
       "      <td>...</td>\n",
       "      <td>...</td>\n",
       "      <td>...</td>\n",
       "    </tr>\n",
       "    <tr>\n",
       "      <th>2014-08-15</th>\n",
       "      <td>-1.054752</td>\n",
       "      <td>0.459491</td>\n",
       "      <td>1.601446</td>\n",
       "      <td>1.466388</td>\n",
       "      <td>0.933017</td>\n",
       "      <td>0.820863</td>\n",
       "      <td>0.380413</td>\n",
       "      <td>0.229407</td>\n",
       "      <td>0.074560</td>\n",
       "      <td>-0.470685</td>\n",
       "      <td>-1.286312</td>\n",
       "      <td>-1.688781</td>\n",
       "      <td>-1.075374</td>\n",
       "    </tr>\n",
       "    <tr>\n",
       "      <th>2014-09-15</th>\n",
       "      <td>0.459491</td>\n",
       "      <td>1.601446</td>\n",
       "      <td>1.466388</td>\n",
       "      <td>0.933017</td>\n",
       "      <td>0.820863</td>\n",
       "      <td>0.380413</td>\n",
       "      <td>0.229407</td>\n",
       "      <td>0.074560</td>\n",
       "      <td>-0.470685</td>\n",
       "      <td>-1.286312</td>\n",
       "      <td>-1.688781</td>\n",
       "      <td>-1.075374</td>\n",
       "      <td>0.453349</td>\n",
       "    </tr>\n",
       "    <tr>\n",
       "      <th>2014-10-15</th>\n",
       "      <td>1.601446</td>\n",
       "      <td>1.466388</td>\n",
       "      <td>0.933017</td>\n",
       "      <td>0.820863</td>\n",
       "      <td>0.380413</td>\n",
       "      <td>0.229407</td>\n",
       "      <td>0.074560</td>\n",
       "      <td>-0.470685</td>\n",
       "      <td>-1.286312</td>\n",
       "      <td>-1.688781</td>\n",
       "      <td>-1.075374</td>\n",
       "      <td>0.453349</td>\n",
       "      <td>1.641950</td>\n",
       "    </tr>\n",
       "    <tr>\n",
       "      <th>2014-11-15</th>\n",
       "      <td>1.466388</td>\n",
       "      <td>0.933017</td>\n",
       "      <td>0.820863</td>\n",
       "      <td>0.380413</td>\n",
       "      <td>0.229407</td>\n",
       "      <td>0.074560</td>\n",
       "      <td>-0.470685</td>\n",
       "      <td>-1.286312</td>\n",
       "      <td>-1.688781</td>\n",
       "      <td>-1.075374</td>\n",
       "      <td>0.453349</td>\n",
       "      <td>1.641950</td>\n",
       "      <td>1.520315</td>\n",
       "    </tr>\n",
       "    <tr>\n",
       "      <th>2014-12-15</th>\n",
       "      <td>0.933017</td>\n",
       "      <td>0.820863</td>\n",
       "      <td>0.380413</td>\n",
       "      <td>0.229407</td>\n",
       "      <td>0.074560</td>\n",
       "      <td>-0.470685</td>\n",
       "      <td>-1.286312</td>\n",
       "      <td>-1.688781</td>\n",
       "      <td>-1.075374</td>\n",
       "      <td>0.453349</td>\n",
       "      <td>1.641950</td>\n",
       "      <td>1.520315</td>\n",
       "      <td>0.990618</td>\n",
       "    </tr>\n",
       "  </tbody>\n",
       "</table>\n",
       "<p>4046 rows × 13 columns</p>\n",
       "</div>"
      ],
      "text/plain": [
       "                t-12      t-11      t-10       t-9       t-8       t-7  \\\n",
       "datetime                                                                 \n",
       "1677-11-15       NaN       NaN       NaN       NaN       NaN       NaN   \n",
       "1677-12-15       NaN       NaN       NaN       NaN       NaN       NaN   \n",
       "1678-01-15       NaN       NaN       NaN       NaN       NaN       NaN   \n",
       "1678-02-15       NaN       NaN       NaN       NaN       NaN       NaN   \n",
       "1678-03-15       NaN       NaN       NaN       NaN       NaN       NaN   \n",
       "...              ...       ...       ...       ...       ...       ...   \n",
       "2014-08-15 -1.054752  0.459491  1.601446  1.466388  0.933017  0.820863   \n",
       "2014-09-15  0.459491  1.601446  1.466388  0.933017  0.820863  0.380413   \n",
       "2014-10-15  1.601446  1.466388  0.933017  0.820863  0.380413  0.229407   \n",
       "2014-11-15  1.466388  0.933017  0.820863  0.380413  0.229407  0.074560   \n",
       "2014-12-15  0.933017  0.820863  0.380413  0.229407  0.074560 -0.470685   \n",
       "\n",
       "                 t-6       t-5       t-4       t-3       t-2       t-1  \\\n",
       "datetime                                                                 \n",
       "1677-11-15       NaN       NaN       NaN       NaN       NaN       NaN   \n",
       "1677-12-15       NaN       NaN       NaN       NaN       NaN  1.004565   \n",
       "1678-01-15       NaN       NaN       NaN       NaN  1.004565  0.637296   \n",
       "1678-02-15       NaN       NaN       NaN  1.004565  0.637296  0.460474   \n",
       "1678-03-15       NaN       NaN  1.004565  0.637296  0.460474  0.383064   \n",
       "...              ...       ...       ...       ...       ...       ...   \n",
       "2014-08-15  0.380413  0.229407  0.074560 -0.470685 -1.286312 -1.688781   \n",
       "2014-09-15  0.229407  0.074560 -0.470685 -1.286312 -1.688781 -1.075374   \n",
       "2014-10-15  0.074560 -0.470685 -1.286312 -1.688781 -1.075374  0.453349   \n",
       "2014-11-15 -0.470685 -1.286312 -1.688781 -1.075374  0.453349  1.641950   \n",
       "2014-12-15 -1.286312 -1.688781 -1.075374  0.453349  1.641950  1.520315   \n",
       "\n",
       "                   t  \n",
       "datetime              \n",
       "1677-11-15  1.004565  \n",
       "1677-12-15  0.637296  \n",
       "1678-01-15  0.460474  \n",
       "1678-02-15  0.383064  \n",
       "1678-03-15  0.341987  \n",
       "...              ...  \n",
       "2014-08-15 -1.075374  \n",
       "2014-09-15  0.453349  \n",
       "2014-10-15  1.641950  \n",
       "2014-11-15  1.520315  \n",
       "2014-12-15  0.990618  \n",
       "\n",
       "[4046 rows x 13 columns]"
      ]
     },
     "execution_count": 13,
     "metadata": {},
     "output_type": "execute_result"
    }
   ],
   "source": [
    "lagged_df"
   ]
  },
  {
   "cell_type": "code",
   "execution_count": 14,
   "metadata": {},
   "outputs": [],
   "source": [
    "lagged_df.dropna(axis=0, inplace=True)"
   ]
  },
  {
   "cell_type": "markdown",
   "metadata": {},
   "source": [
    "### features and target"
   ]
  },
  {
   "cell_type": "code",
   "execution_count": 15,
   "metadata": {},
   "outputs": [],
   "source": [
    "X = lagged_df.iloc[:, :-1].values\n",
    "y = lagged_df.iloc[:, -1:].values"
   ]
  },
  {
   "cell_type": "code",
   "execution_count": 16,
   "metadata": {},
   "outputs": [],
   "source": [
    "train_size = int(len(X) * 0.8)"
   ]
  },
  {
   "cell_type": "code",
   "execution_count": 17,
   "metadata": {},
   "outputs": [
    {
     "name": "stdout",
     "output_type": "stream",
     "text": [
      "train size 3227\n",
      "test size 807\n"
     ]
    }
   ],
   "source": [
    "X_train, X_test, y_train, y_test = X[0:train_size], X[train_size:len(X)], y[0:train_size], y[train_size:len(X)]\n",
    "\n",
    "print('train size ' +str(len(X_train) ))\n",
    "print('test size ' +str(len(X_test) ))"
   ]
  },
  {
   "cell_type": "markdown",
   "metadata": {},
   "source": [
    "## Decicion Tree\n",
    "\n",
    "does not work well with data w trend"
   ]
  },
  {
   "cell_type": "code",
   "execution_count": 18,
   "metadata": {},
   "outputs": [
    {
     "data": {
      "text/plain": [
       "DecisionTreeRegressor(max_depth=4)"
      ]
     },
     "execution_count": 18,
     "metadata": {},
     "output_type": "execute_result"
    }
   ],
   "source": [
    "dt = DecisionTreeRegressor(max_depth= 4)\n",
    "dt.fit(X_train, y_train)"
   ]
  },
  {
   "cell_type": "code",
   "execution_count": 19,
   "metadata": {},
   "outputs": [
    {
     "data": {
      "text/plain": [
       "0.9988456044763335"
      ]
     },
     "execution_count": 19,
     "metadata": {},
     "output_type": "execute_result"
    }
   ],
   "source": [
    "dt.score(X_train, y_train)"
   ]
  },
  {
   "cell_type": "code",
   "execution_count": 20,
   "metadata": {},
   "outputs": [
    {
     "data": {
      "text/plain": [
       "0.7412364448872696"
      ]
     },
     "execution_count": 20,
     "metadata": {},
     "output_type": "execute_result"
    }
   ],
   "source": [
    "dt.score(X_test, y_test)"
   ]
  },
  {
   "cell_type": "code",
   "execution_count": 21,
   "metadata": {},
   "outputs": [
    {
     "data": {
      "image/png": "[encoded data removed]",
      "text/plain": [
       "<Figure size 720x720 with 1 Axes>"
      ]
     },
     "metadata": {},
     "output_type": "display_data"
    }
   ],
   "source": [
    "plt.subplots(figsize=(10,10))\n",
    "\n",
    "# making predictions\n",
    "train_prediction = dt.predict(X_train)\n",
    "test_prediction = dt.predict(X_test)\n",
    "\n",
    "\n",
    "# scatter with predictions and actual values\n",
    "plt.scatter(y_train, train_prediction, label='train')\n",
    "plt.scatter(y_test, test_prediction, label='test')\n",
    "plt.legend()\n",
    "plt.show()"
   ]
  },
  {
   "cell_type": "markdown",
   "metadata": {},
   "source": [
    "## Random Forest"
   ]
  },
  {
   "cell_type": "code",
   "execution_count": 22,
   "metadata": {},
   "outputs": [
    {
     "data": {
      "text/plain": [
       "RandomForestRegressor(n_estimators=200)"
      ]
     },
     "execution_count": 22,
     "metadata": {},
     "output_type": "execute_result"
    }
   ],
   "source": [
    "rfr = RandomForestRegressor(n_estimators=200)\n",
    "rfr.fit(X_train, y_train.ravel())"
   ]
  },
  {
   "cell_type": "code",
   "execution_count": 23,
   "metadata": {},
   "outputs": [
    {
     "data": {
      "text/plain": [
       "0.9999982812182007"
      ]
     },
     "execution_count": 23,
     "metadata": {},
     "output_type": "execute_result"
    }
   ],
   "source": [
    "rfr.score(X_train, y_train)"
   ]
  },
  {
   "cell_type": "code",
   "execution_count": 24,
   "metadata": {},
   "outputs": [
    {
     "data": {
      "text/plain": [
       "0.9053387139580532"
      ]
     },
     "execution_count": 24,
     "metadata": {},
     "output_type": "execute_result"
    }
   ],
   "source": [
    "rfr.score(X_test, y_test)"
   ]
  },
  {
   "cell_type": "markdown",
   "metadata": {},
   "source": [
    "### grid search"
   ]
  },
  {
   "cell_type": "code",
   "execution_count": 25,
   "metadata": {},
   "outputs": [],
   "source": [
    "grid = {'n_estimators': [50, 100, 200], 'max_depth': {3, 5, 7}, 'max_features': [2,3,4,5,6,7,8,9,10,11,12], 'random_state': [42]}\n",
    "test_scores = []"
   ]
  },
  {
   "cell_type": "code",
   "execution_count": 26,
   "metadata": {},
   "outputs": [],
   "source": [
    "for g in ParameterGrid(grid):\n",
    "    rfr.set_params(**g)\n",
    "    rfr.fit(X_train, y_train.ravel())\n",
    "    test_scores.append(rfr.score(X_test, y_test))"
   ]
  },
  {
   "cell_type": "code",
   "execution_count": 27,
   "metadata": {},
   "outputs": [
    {
     "data": {
      "text/plain": [
       "70"
      ]
     },
     "execution_count": 27,
     "metadata": {},
     "output_type": "execute_result"
    }
   ],
   "source": [
    "best_score_index = np.argmax(test_scores)\n",
    "best_score_index"
   ]
  },
  {
   "cell_type": "code",
   "execution_count": 28,
   "metadata": {},
   "outputs": [
    {
     "name": "stdout",
     "output_type": "stream",
     "text": [
      "{'max_depth': 7, 'max_features': 3, 'n_estimators': 100, 'random_state': 42}\n"
     ]
    }
   ],
   "source": [
    "index = 0\n",
    "best_grid = dict()\n",
    "for g in ParameterGrid(grid):\n",
    "    if(best_score_index == index):\n",
    "        print(g)\n",
    "        best_grid = g\n",
    "    index = index + 1\n",
    "\n"
   ]
  },
  {
   "cell_type": "code",
   "execution_count": 29,
   "metadata": {},
   "outputs": [
    {
     "name": "stdout",
     "output_type": "stream",
     "text": [
      "0.9327267907290069 {'max_depth': 7, 'max_features': 3, 'n_estimators': 100, 'random_state': 42}\n"
     ]
    }
   ],
   "source": [
    "print(test_scores[best_score_index], best_grid)"
   ]
  },
  {
   "cell_type": "code",
   "execution_count": 30,
   "metadata": {},
   "outputs": [
    {
     "data": {
      "text/plain": [
       "RandomForestRegressor(max_depth=7, max_features=3, random_state=42)"
      ]
     },
     "execution_count": 30,
     "metadata": {},
     "output_type": "execute_result"
    }
   ],
   "source": [
    "rfr.set_params(**best_grid)\n",
    "rfr.fit(X_train, y_train.ravel())"
   ]
  },
  {
   "cell_type": "code",
   "execution_count": 31,
   "metadata": {},
   "outputs": [
    {
     "data": {
      "image/png": "[encoded data removed]",
      "text/plain": [
       "<Figure size 720x720 with 1 Axes>"
      ]
     },
     "metadata": {},
     "output_type": "display_data"
    }
   ],
   "source": [
    "plt.subplots(figsize=(10,10))\n",
    "\n",
    "# making predictions\n",
    "train_prediction = rfr.predict(X_train)\n",
    "test_prediction = rfr.predict(X_test)\n",
    "\n",
    "# scatter with predictions and actual values\n",
    "plt.scatter(y_train, train_prediction, label='train')\n",
    "plt.scatter(y_test, test_prediction, label='test')\n",
    "plt.legend()\n",
    "plt.show()"
   ]
  },
  {
   "cell_type": "code",
   "execution_count": 32,
   "metadata": {},
   "outputs": [
    {
     "data": {
      "image/png": "[encoded data removed]",
      "text/plain": [
       "<Figure size 432x288 with 1 Axes>"
      ]
     },
     "metadata": {},
     "output_type": "display_data"
    }
   ],
   "source": [
    "# importances of each feature in the model\n",
    "importances = rfr.feature_importances_\n",
    "\n",
    "# sort index by importances\n",
    "sorted_index = np.argsort(importances)[::-1]\n",
    "x = range(len(importances))\n",
    "\n",
    "# label names\n",
    "names = ['t-12','t-11','t-10','t-9','t-8','t-7','t-6','t-5','t-4','t-3','t-2','t-1']\n",
    "# labels to importances\n",
    "labels = np.array(names)[sorted_index]\n",
    "\n",
    "plt.bar(x, importances[sorted_index], tick_label=labels)\n",
    "\n",
    "plt.show()"
   ]
  },
  {
   "cell_type": "markdown",
   "metadata": {},
   "source": [
    "## gradient boost tree regressor"
   ]
  },
  {
   "cell_type": "code",
   "execution_count": 35,
   "metadata": {},
   "outputs": [],
   "source": [
    "gbr = GradientBoostingRegressor(max_features=2, learning_rate=0.01, n_estimators=50, subsample=0.6, random_state=42)"
   ]
  },
  {
   "cell_type": "code",
   "execution_count": 38,
   "metadata": {},
   "outputs": [
    {
     "data": {
      "text/plain": [
       "GradientBoostingRegressor(learning_rate=0.01, max_features=2, n_estimators=50,\n",
       "                          random_state=42, subsample=0.6)"
      ]
     },
     "execution_count": 38,
     "metadata": {},
     "output_type": "execute_result"
    }
   ],
   "source": [
    "gbr.fit(X_train, y_train.ravel())"
   ]
  },
  {
   "cell_type": "code",
   "execution_count": 39,
   "metadata": {},
   "outputs": [
    {
     "data": {
      "text/plain": [
       "0.6251547127239541"
      ]
     },
     "execution_count": 39,
     "metadata": {},
     "output_type": "execute_result"
    }
   ],
   "source": [
    "gbr.score(X_train, y_train)"
   ]
  },
  {
   "cell_type": "code",
   "execution_count": 40,
   "metadata": {},
   "outputs": [
    {
     "data": {
      "text/plain": [
       "0.5273245708768155"
      ]
     },
     "execution_count": 40,
     "metadata": {},
     "output_type": "execute_result"
    }
   ],
   "source": [
    "gbr.score(X_test, y_test)"
   ]
  },
  {
   "cell_type": "markdown",
   "metadata": {},
   "source": [
    "### grid search"
   ]
  },
  {
   "cell_type": "code",
   "execution_count": 41,
   "metadata": {},
   "outputs": [],
   "source": [
    "grid = {'n_estimators': [50, 100, 200], 'max_depth': {3, 5, 7}, 'max_features': [2,3,4,5,6,7,8,9,10,11,12], 'learning_rate': [0.6,0.7,0.8,0.9], 'learning_rate': [0.01, 0.005, 0.02, 0.05, 0.1] ,'random_state': [42]}\n",
    "test_scores = []"
   ]
  },
  {
   "cell_type": "code",
   "execution_count": 42,
   "metadata": {},
   "outputs": [],
   "source": [
    "for g in ParameterGrid(grid):\n",
    "    gbr.set_params(**g)\n",
    "    gbr.fit(X_train, y_train.ravel())\n",
    "    test_scores.append(rfr.score(X_test, y_test))"
   ]
  },
  {
   "cell_type": "code",
   "execution_count": 43,
   "metadata": {},
   "outputs": [
    {
     "name": "stdout",
     "output_type": "stream",
     "text": [
      "{'learning_rate': 0.01, 'max_depth': 3, 'max_features': 2, 'n_estimators': 50, 'random_state': 42}\n",
      "0.9327267907290069 {'learning_rate': 0.01, 'max_depth': 3, 'max_features': 2, 'n_estimators': 50, 'random_state': 42}\n"
     ]
    }
   ],
   "source": [
    "best_score_index = np.argmax(test_scores)\n",
    "\n",
    "index = 0\n",
    "best_grid = dict()\n",
    "for g in ParameterGrid(grid):\n",
    "    if(best_score_index == index):\n",
    "        print(g)\n",
    "        best_grid = g\n",
    "    index = index + 1\n",
    "\n",
    "print(test_scores[best_score_index], best_grid)"
   ]
  },
  {
   "cell_type": "code",
   "execution_count": 44,
   "metadata": {},
   "outputs": [
    {
     "data": {
      "text/plain": [
       "GradientBoostingRegressor(learning_rate=0.01, max_features=2, n_estimators=50,\n",
       "                          random_state=42, subsample=0.6)"
      ]
     },
     "execution_count": 44,
     "metadata": {},
     "output_type": "execute_result"
    }
   ],
   "source": [
    "gbr.set_params(**best_grid)\n",
    "gbr.fit(X_train, y_train.ravel())"
   ]
  },
  {
   "cell_type": "code",
   "execution_count": 45,
   "metadata": {},
   "outputs": [
    {
     "data": {
      "image/png": "[encoded data removed]",
      "text/plain": [
       "<Figure size 720x720 with 1 Axes>"
      ]
     },
     "metadata": {},
     "output_type": "display_data"
    }
   ],
   "source": [
    "plt.subplots(figsize=(10,10))\n",
    "\n",
    "# making predictions\n",
    "train_prediction = gbr.predict(X_train)\n",
    "test_prediction = gbr.predict(X_test)\n",
    "\n",
    "# scatter with predictions and actual values\n",
    "plt.scatter(y_train, train_prediction, label='train')\n",
    "plt.scatter(y_test, test_prediction, label='test')\n",
    "plt.legend()\n",
    "plt.show()"
   ]
  },
  {
   "cell_type": "code",
   "execution_count": 46,
   "metadata": {},
   "outputs": [
    {
     "data": {
      "image/png": "[encoded data removed]",
      "text/plain": [
       "<Figure size 432x288 with 1 Axes>"
      ]
     },
     "metadata": {},
     "output_type": "display_data"
    }
   ],
   "source": [
    "# importances of each feature in the model\n",
    "importances = gbr.feature_importances_\n",
    "\n",
    "# sort index by importances\n",
    "sorted_index = np.argsort(importances)[::-1]\n",
    "x = range(len(importances))\n",
    "\n",
    "# label names\n",
    "names = ['t-12','t-11','t-10','t-9','t-8','t-7','t-6','t-5','t-4','t-3','t-2','t-1']\n",
    "# labels to importances\n",
    "labels = np.array(names)[sorted_index]\n",
    "\n",
    "plt.bar(x, importances[sorted_index], tick_label=labels)\n",
    "\n",
    "plt.show()"
   ]
  },
  {
   "cell_type": "code",
   "execution_count": null,
   "metadata": {},
   "outputs": [],
   "source": []
  }
 ],
 "metadata": {
  "kernelspec": {
   "display_name": "Python 3",
   "language": "python",
   "name": "python3"
  },
  "language_info": {
   "codemirror_mode": {
    "name": "ipython",
    "version": 3
   },
   "file_extension": ".py",
   "mimetype": "text/x-python",
   "name": "python",
   "nbconvert_exporter": "python",
   "pygments_lexer": "ipython3",
   "version": "3.7.7"
  }
 },
 "nbformat": 4,
 "nbformat_minor": 4
}
