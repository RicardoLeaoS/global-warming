{
 "cells": [
  {
   "cell_type": "markdown",
   "metadata": {},
   "source": [
    "# importing data"
   ]
  },
  {
   "cell_type": "code",
   "execution_count": 24,
   "metadata": {},
   "outputs": [],
   "source": [
    "from scipy import stats\n",
    "import matplotlib.pyplot as plt\n",
    "import seaborn as sns\n",
    "\n",
    "import pandas as pd\n",
    "import numpy as np\n",
    "import datetime\n",
    "\n",
    "from statsmodels.graphics.tsaplots import plot_pacf\n",
    "from statsmodels.graphics.tsaplots import plot_acf\n",
    "from statsmodels.tsa.seasonal import seasonal_decompose\n",
    "sns.set(style=\"darkgrid\")\n",
    "\n",
    "\n",
    "\n",
    "from sklearn.tree import DecisionTreeRegressor\n",
    "from sklearn.ensemble import RandomForestRegressor, GradientBoostingRegressor\n",
    "from sklearn.model_selection import ParameterGrid"
   ]
  },
  {
   "cell_type": "markdown",
   "metadata": {},
   "source": [
    "## reading data"
   ]
  },
  {
   "cell_type": "code",
   "execution_count": 25,
   "metadata": {},
   "outputs": [],
   "source": [
    "co2_df = pd.read_csv('data/co2_concentration_df.csv')\n",
    "co2_df['datetime'] = co2_df['datetime'].apply(lambda x : datetime.datetime.strptime(x, '%Y-%m-%d'))\n",
    "co2_df.set_index('datetime', inplace=True)\n",
    "co2_diff = pd.DataFrame(co2_df['data_mean_global'].pct_change())\n",
    "co2_diff.dropna(inplace=True)"
   ]
  },
  {
   "cell_type": "code",
   "execution_count": 26,
   "metadata": {},
   "outputs": [
    {
     "data": {
      "text/html": [
       "<div>\n",
       "<style scoped>\n",
       "    .dataframe tbody tr th:only-of-type {\n",
       "        vertical-align: middle;\n",
       "    }\n",
       "\n",
       "    .dataframe tbody tr th {\n",
       "        vertical-align: top;\n",
       "    }\n",
       "\n",
       "    .dataframe thead th {\n",
       "        text-align: right;\n",
       "    }\n",
       "</style>\n",
       "<table border=\"1\" class=\"dataframe\">\n",
       "  <thead>\n",
       "    <tr style=\"text-align: right;\">\n",
       "      <th></th>\n",
       "      <th>data_mean_global</th>\n",
       "    </tr>\n",
       "    <tr>\n",
       "      <th>datetime</th>\n",
       "      <th></th>\n",
       "    </tr>\n",
       "  </thead>\n",
       "  <tbody>\n",
       "    <tr>\n",
       "      <th>1677-11-15</th>\n",
       "      <td>0.003653</td>\n",
       "    </tr>\n",
       "    <tr>\n",
       "      <th>1677-12-15</th>\n",
       "      <td>0.002309</td>\n",
       "    </tr>\n",
       "    <tr>\n",
       "      <th>1678-01-15</th>\n",
       "      <td>0.001664</td>\n",
       "    </tr>\n",
       "    <tr>\n",
       "      <th>1678-02-15</th>\n",
       "      <td>0.001382</td>\n",
       "    </tr>\n",
       "    <tr>\n",
       "      <th>1678-03-15</th>\n",
       "      <td>0.001232</td>\n",
       "    </tr>\n",
       "    <tr>\n",
       "      <th>...</th>\n",
       "      <td>...</td>\n",
       "    </tr>\n",
       "    <tr>\n",
       "      <th>2014-08-15</th>\n",
       "      <td>-0.002718</td>\n",
       "    </tr>\n",
       "    <tr>\n",
       "      <th>2014-09-15</th>\n",
       "      <td>0.001149</td>\n",
       "    </tr>\n",
       "    <tr>\n",
       "      <th>2014-10-15</th>\n",
       "      <td>0.004157</td>\n",
       "    </tr>\n",
       "    <tr>\n",
       "      <th>2014-11-15</th>\n",
       "      <td>0.003833</td>\n",
       "    </tr>\n",
       "    <tr>\n",
       "      <th>2014-12-15</th>\n",
       "      <td>0.002488</td>\n",
       "    </tr>\n",
       "  </tbody>\n",
       "</table>\n",
       "<p>4046 rows × 1 columns</p>\n",
       "</div>"
      ],
      "text/plain": [
       "            data_mean_global\n",
       "datetime                    \n",
       "1677-11-15          0.003653\n",
       "1677-12-15          0.002309\n",
       "1678-01-15          0.001664\n",
       "1678-02-15          0.001382\n",
       "1678-03-15          0.001232\n",
       "...                      ...\n",
       "2014-08-15         -0.002718\n",
       "2014-09-15          0.001149\n",
       "2014-10-15          0.004157\n",
       "2014-11-15          0.003833\n",
       "2014-12-15          0.002488\n",
       "\n",
       "[4046 rows x 1 columns]"
      ]
     },
     "execution_count": 26,
     "metadata": {},
     "output_type": "execute_result"
    }
   ],
   "source": [
    "#co2_diff = co2_diff.tail(1380)\n",
    "co2_diff"
   ]
  },
  {
   "cell_type": "code",
   "execution_count": 27,
   "metadata": {},
   "outputs": [],
   "source": [
    "global_temp_df = pd.read_csv('data/global_temp_df.csv')\n",
    "global_temp_df['dt'] = global_temp_df['dt'].apply(lambda x : datetime.datetime.strptime(x, '%Y-%m-%d'))\n",
    "global_temp_df['dt'] = global_temp_df['dt'].apply(lambda x: x.replace(day=15))\n",
    "global_temp_df.set_index('dt', inplace=True)\n",
    "global_temp_diff = pd.DataFrame(global_temp_df['LandAndOceanAverageTemperature'].pct_change())\n",
    "global_temp_diff.dropna(inplace=True)\n",
    "global_temp_diff.index.name = 'datetime'"
   ]
  },
  {
   "cell_type": "markdown",
   "metadata": {},
   "source": [
    "## lagged data"
   ]
  },
  {
   "cell_type": "code",
   "execution_count": 28,
   "metadata": {},
   "outputs": [],
   "source": [
    "lagged_df = pd.DataFrame()"
   ]
  },
  {
   "cell_type": "code",
   "execution_count": 29,
   "metadata": {},
   "outputs": [],
   "source": [
    "for i in range(12, 0, -1):\n",
    "    lagged_df[['t-' + str(i)]] = co2_diff.shift(i)\n",
    "    \n",
    "lagged_df.dropna(axis=0, inplace=True)"
   ]
  },
  {
   "cell_type": "code",
   "execution_count": 30,
   "metadata": {},
   "outputs": [],
   "source": [
    "lagged_df = pd.merge(lagged_df, global_temp_diff, left_on='datetime', right_on='datetime')"
   ]
  },
  {
   "cell_type": "code",
   "execution_count": 31,
   "metadata": {},
   "outputs": [
    {
     "data": {
      "text/html": [
       "<div>\n",
       "<style scoped>\n",
       "    .dataframe tbody tr th:only-of-type {\n",
       "        vertical-align: middle;\n",
       "    }\n",
       "\n",
       "    .dataframe tbody tr th {\n",
       "        vertical-align: top;\n",
       "    }\n",
       "\n",
       "    .dataframe thead th {\n",
       "        text-align: right;\n",
       "    }\n",
       "</style>\n",
       "<table border=\"1\" class=\"dataframe\">\n",
       "  <thead>\n",
       "    <tr style=\"text-align: right;\">\n",
       "      <th></th>\n",
       "      <th>t-12</th>\n",
       "      <th>t-11</th>\n",
       "      <th>t-10</th>\n",
       "      <th>t-9</th>\n",
       "      <th>t-8</th>\n",
       "      <th>t-7</th>\n",
       "      <th>t-6</th>\n",
       "      <th>t-5</th>\n",
       "      <th>t-4</th>\n",
       "      <th>t-3</th>\n",
       "      <th>t-2</th>\n",
       "      <th>t-1</th>\n",
       "      <th>LandAndOceanAverageTemperature</th>\n",
       "    </tr>\n",
       "    <tr>\n",
       "      <th>datetime</th>\n",
       "      <th></th>\n",
       "      <th></th>\n",
       "      <th></th>\n",
       "      <th></th>\n",
       "      <th></th>\n",
       "      <th></th>\n",
       "      <th></th>\n",
       "      <th></th>\n",
       "      <th></th>\n",
       "      <th></th>\n",
       "      <th></th>\n",
       "      <th></th>\n",
       "      <th></th>\n",
       "    </tr>\n",
       "  </thead>\n",
       "  <tbody>\n",
       "    <tr>\n",
       "      <th>1850-02-15</th>\n",
       "      <td>0.001374</td>\n",
       "      <td>0.001227</td>\n",
       "      <td>0.000870</td>\n",
       "      <td>-0.000169</td>\n",
       "      <td>-0.002536</td>\n",
       "      <td>-0.005725</td>\n",
       "      <td>-0.005629</td>\n",
       "      <td>-0.000117</td>\n",
       "      <td>0.003702</td>\n",
       "      <td>0.003572</td>\n",
       "      <td>0.002264</td>\n",
       "      <td>0.001609</td>\n",
       "      <td>0.058833</td>\n",
       "    </tr>\n",
       "    <tr>\n",
       "      <th>1850-03-15</th>\n",
       "      <td>0.001227</td>\n",
       "      <td>0.000870</td>\n",
       "      <td>-0.000169</td>\n",
       "      <td>-0.002536</td>\n",
       "      <td>-0.005725</td>\n",
       "      <td>-0.005629</td>\n",
       "      <td>-0.000117</td>\n",
       "      <td>0.003702</td>\n",
       "      <td>0.003572</td>\n",
       "      <td>0.002264</td>\n",
       "      <td>0.001609</td>\n",
       "      <td>0.001366</td>\n",
       "      <td>0.033485</td>\n",
       "    </tr>\n",
       "    <tr>\n",
       "      <th>1850-04-15</th>\n",
       "      <td>0.000870</td>\n",
       "      <td>-0.000169</td>\n",
       "      <td>-0.002536</td>\n",
       "      <td>-0.005725</td>\n",
       "      <td>-0.005629</td>\n",
       "      <td>-0.000117</td>\n",
       "      <td>0.003702</td>\n",
       "      <td>0.003572</td>\n",
       "      <td>0.002264</td>\n",
       "      <td>0.001609</td>\n",
       "      <td>0.001366</td>\n",
       "      <td>0.001223</td>\n",
       "      <td>0.044435</td>\n",
       "    </tr>\n",
       "    <tr>\n",
       "      <th>1850-05-15</th>\n",
       "      <td>-0.000169</td>\n",
       "      <td>-0.002536</td>\n",
       "      <td>-0.005725</td>\n",
       "      <td>-0.005629</td>\n",
       "      <td>-0.000117</td>\n",
       "      <td>0.003702</td>\n",
       "      <td>0.003572</td>\n",
       "      <td>0.002264</td>\n",
       "      <td>0.001609</td>\n",
       "      <td>0.001366</td>\n",
       "      <td>0.001223</td>\n",
       "      <td>0.000869</td>\n",
       "      <td>0.057271</td>\n",
       "    </tr>\n",
       "    <tr>\n",
       "      <th>1850-06-15</th>\n",
       "      <td>-0.002536</td>\n",
       "      <td>-0.005725</td>\n",
       "      <td>-0.005629</td>\n",
       "      <td>-0.000117</td>\n",
       "      <td>0.003702</td>\n",
       "      <td>0.003572</td>\n",
       "      <td>0.002264</td>\n",
       "      <td>0.001609</td>\n",
       "      <td>0.001366</td>\n",
       "      <td>0.001223</td>\n",
       "      <td>0.000869</td>\n",
       "      <td>-0.000158</td>\n",
       "      <td>0.054556</td>\n",
       "    </tr>\n",
       "    <tr>\n",
       "      <th>...</th>\n",
       "      <td>...</td>\n",
       "      <td>...</td>\n",
       "      <td>...</td>\n",
       "      <td>...</td>\n",
       "      <td>...</td>\n",
       "      <td>...</td>\n",
       "      <td>...</td>\n",
       "      <td>...</td>\n",
       "      <td>...</td>\n",
       "      <td>...</td>\n",
       "      <td>...</td>\n",
       "      <td>...</td>\n",
       "      <td>...</td>\n",
       "    </tr>\n",
       "    <tr>\n",
       "      <th>2014-08-15</th>\n",
       "      <td>-0.002676</td>\n",
       "      <td>0.001169</td>\n",
       "      <td>0.004069</td>\n",
       "      <td>0.003711</td>\n",
       "      <td>0.002352</td>\n",
       "      <td>0.002065</td>\n",
       "      <td>0.000955</td>\n",
       "      <td>0.000575</td>\n",
       "      <td>0.000187</td>\n",
       "      <td>-0.001179</td>\n",
       "      <td>-0.003227</td>\n",
       "      <td>-0.004250</td>\n",
       "      <td>0.005655</td>\n",
       "    </tr>\n",
       "    <tr>\n",
       "      <th>2014-09-15</th>\n",
       "      <td>0.001169</td>\n",
       "      <td>0.004069</td>\n",
       "      <td>0.003711</td>\n",
       "      <td>0.002352</td>\n",
       "      <td>0.002065</td>\n",
       "      <td>0.000955</td>\n",
       "      <td>0.000575</td>\n",
       "      <td>0.000187</td>\n",
       "      <td>-0.001179</td>\n",
       "      <td>-0.003227</td>\n",
       "      <td>-0.004250</td>\n",
       "      <td>-0.002718</td>\n",
       "      <td>-0.035895</td>\n",
       "    </tr>\n",
       "    <tr>\n",
       "      <th>2014-10-15</th>\n",
       "      <td>0.004069</td>\n",
       "      <td>0.003711</td>\n",
       "      <td>0.002352</td>\n",
       "      <td>0.002065</td>\n",
       "      <td>0.000955</td>\n",
       "      <td>0.000575</td>\n",
       "      <td>0.000187</td>\n",
       "      <td>-0.001179</td>\n",
       "      <td>-0.003227</td>\n",
       "      <td>-0.004250</td>\n",
       "      <td>-0.002718</td>\n",
       "      <td>0.001149</td>\n",
       "      <td>-0.055729</td>\n",
       "    </tr>\n",
       "    <tr>\n",
       "      <th>2014-11-15</th>\n",
       "      <td>0.003711</td>\n",
       "      <td>0.002352</td>\n",
       "      <td>0.002065</td>\n",
       "      <td>0.000955</td>\n",
       "      <td>0.000575</td>\n",
       "      <td>0.000187</td>\n",
       "      <td>-0.001179</td>\n",
       "      <td>-0.003227</td>\n",
       "      <td>-0.004250</td>\n",
       "      <td>-0.002718</td>\n",
       "      <td>0.001149</td>\n",
       "      <td>0.004157</td>\n",
       "      <td>-0.070497</td>\n",
       "    </tr>\n",
       "    <tr>\n",
       "      <th>2014-12-15</th>\n",
       "      <td>0.002352</td>\n",
       "      <td>0.002065</td>\n",
       "      <td>0.000955</td>\n",
       "      <td>0.000575</td>\n",
       "      <td>0.000187</td>\n",
       "      <td>-0.001179</td>\n",
       "      <td>-0.003227</td>\n",
       "      <td>-0.004250</td>\n",
       "      <td>-0.002718</td>\n",
       "      <td>0.001149</td>\n",
       "      <td>0.004157</td>\n",
       "      <td>0.003833</td>\n",
       "      <td>-0.032821</td>\n",
       "    </tr>\n",
       "  </tbody>\n",
       "</table>\n",
       "<p>1979 rows × 13 columns</p>\n",
       "</div>"
      ],
      "text/plain": [
       "                t-12      t-11      t-10       t-9       t-8       t-7  \\\n",
       "datetime                                                                 \n",
       "1850-02-15  0.001374  0.001227  0.000870 -0.000169 -0.002536 -0.005725   \n",
       "1850-03-15  0.001227  0.000870 -0.000169 -0.002536 -0.005725 -0.005629   \n",
       "1850-04-15  0.000870 -0.000169 -0.002536 -0.005725 -0.005629 -0.000117   \n",
       "1850-05-15 -0.000169 -0.002536 -0.005725 -0.005629 -0.000117  0.003702   \n",
       "1850-06-15 -0.002536 -0.005725 -0.005629 -0.000117  0.003702  0.003572   \n",
       "...              ...       ...       ...       ...       ...       ...   \n",
       "2014-08-15 -0.002676  0.001169  0.004069  0.003711  0.002352  0.002065   \n",
       "2014-09-15  0.001169  0.004069  0.003711  0.002352  0.002065  0.000955   \n",
       "2014-10-15  0.004069  0.003711  0.002352  0.002065  0.000955  0.000575   \n",
       "2014-11-15  0.003711  0.002352  0.002065  0.000955  0.000575  0.000187   \n",
       "2014-12-15  0.002352  0.002065  0.000955  0.000575  0.000187 -0.001179   \n",
       "\n",
       "                 t-6       t-5       t-4       t-3       t-2       t-1  \\\n",
       "datetime                                                                 \n",
       "1850-02-15 -0.005629 -0.000117  0.003702  0.003572  0.002264  0.001609   \n",
       "1850-03-15 -0.000117  0.003702  0.003572  0.002264  0.001609  0.001366   \n",
       "1850-04-15  0.003702  0.003572  0.002264  0.001609  0.001366  0.001223   \n",
       "1850-05-15  0.003572  0.002264  0.001609  0.001366  0.001223  0.000869   \n",
       "1850-06-15  0.002264  0.001609  0.001366  0.001223  0.000869 -0.000158   \n",
       "...              ...       ...       ...       ...       ...       ...   \n",
       "2014-08-15  0.000955  0.000575  0.000187 -0.001179 -0.003227 -0.004250   \n",
       "2014-09-15  0.000575  0.000187 -0.001179 -0.003227 -0.004250 -0.002718   \n",
       "2014-10-15  0.000187 -0.001179 -0.003227 -0.004250 -0.002718  0.001149   \n",
       "2014-11-15 -0.001179 -0.003227 -0.004250 -0.002718  0.001149  0.004157   \n",
       "2014-12-15 -0.003227 -0.004250 -0.002718  0.001149  0.004157  0.003833   \n",
       "\n",
       "            LandAndOceanAverageTemperature  \n",
       "datetime                                    \n",
       "1850-02-15                        0.058833  \n",
       "1850-03-15                        0.033485  \n",
       "1850-04-15                        0.044435  \n",
       "1850-05-15                        0.057271  \n",
       "1850-06-15                        0.054556  \n",
       "...                                    ...  \n",
       "2014-08-15                        0.005655  \n",
       "2014-09-15                       -0.035895  \n",
       "2014-10-15                       -0.055729  \n",
       "2014-11-15                       -0.070497  \n",
       "2014-12-15                       -0.032821  \n",
       "\n",
       "[1979 rows x 13 columns]"
      ]
     },
     "execution_count": 31,
     "metadata": {},
     "output_type": "execute_result"
    }
   ],
   "source": [
    "lagged_df"
   ]
  },
  {
   "cell_type": "markdown",
   "metadata": {},
   "source": [
    "## splitting data"
   ]
  },
  {
   "cell_type": "code",
   "execution_count": 32,
   "metadata": {},
   "outputs": [],
   "source": [
    "X = lagged_df.iloc[:, :-1].values\n",
    "y = lagged_df.iloc[:, -1:].values"
   ]
  },
  {
   "cell_type": "code",
   "execution_count": 33,
   "metadata": {},
   "outputs": [],
   "source": [
    "train_size = int(len(X) * 0.75)\n",
    "X_train, X_test, y_train, y_test = X[0:train_size], X[train_size:len(X)], y[0:train_size], y[train_size:len(X)]"
   ]
  },
  {
   "cell_type": "markdown",
   "metadata": {},
   "source": [
    "## Decicion Tree"
   ]
  },
  {
   "cell_type": "code",
   "execution_count": 34,
   "metadata": {},
   "outputs": [
    {
     "name": "stdout",
     "output_type": "stream",
     "text": [
      "train score: 0.9603414434666729\n",
      "test score: 0.9218101530994183\n"
     ]
    }
   ],
   "source": [
    "dt = DecisionTreeRegressor(max_depth= 5)\n",
    "dt.fit(X_train, y_train)\n",
    "\n",
    "print('train score: ' + str(dt.score(X_train, y_train)))\n",
    "print('test score: ' + str(dt.score(X_test, y_test)))"
   ]
  },
  {
   "cell_type": "code",
   "execution_count": 35,
   "metadata": {},
   "outputs": [
    {
     "data": {
      "image/png": "[encoded data removed]",
      "text/plain": [
       "<Figure size 720x720 with 1 Axes>"
      ]
     },
     "metadata": {},
     "output_type": "display_data"
    }
   ],
   "source": [
    "plt.subplots(figsize=(10,10))\n",
    "\n",
    "# making predictions\n",
    "train_prediction = dt.predict(X_train)\n",
    "test_prediction = dt.predict(X_test)\n",
    "\n",
    "# scatter with predictions and actual values\n",
    "\n",
    "\n",
    "plt.scatter(y_train, train_prediction, label='train')\n",
    "plt.scatter(y_test, test_prediction, label='test')\n",
    "plt.legend()\n",
    "plt.show()"
   ]
  },
  {
   "cell_type": "markdown",
   "metadata": {},
   "source": [
    "## Random Forest"
   ]
  },
  {
   "cell_type": "code",
   "execution_count": 13,
   "metadata": {},
   "outputs": [
    {
     "name": "stdout",
     "output_type": "stream",
     "text": [
      "train score: 0.9933277391485282\n",
      "train score: 0.9644090652190626\n"
     ]
    }
   ],
   "source": [
    "rfr = RandomForestRegressor(n_estimators=200, random_state=42)\n",
    "rfr.fit(X_train, y_train.ravel())\n",
    "\n",
    "print('train score: ' + str(rfr.score(X_train, y_train)))\n",
    "print('train score: ' + str(rfr.score(X_test, y_test)))"
   ]
  },
  {
   "cell_type": "markdown",
   "metadata": {},
   "source": [
    "### grid search"
   ]
  },
  {
   "cell_type": "code",
   "execution_count": 14,
   "metadata": {},
   "outputs": [],
   "source": [
    "grid = {'n_estimators': [50, 100, 200], 'max_depth': {3, 5, 7}, 'max_features': [2,3,4,5,6,7,8,9,10,11,12], 'random_state': [42]}\n",
    "test_scores = []"
   ]
  },
  {
   "cell_type": "code",
   "execution_count": 15,
   "metadata": {},
   "outputs": [],
   "source": [
    "for g in ParameterGrid(grid):\n",
    "    rfr.set_params(**g)\n",
    "    rfr.fit(X_train, y_train.ravel())\n",
    "    test_scores.append(rfr.score(X_test, y_test))"
   ]
  },
  {
   "cell_type": "code",
   "execution_count": 16,
   "metadata": {},
   "outputs": [
    {
     "name": "stdout",
     "output_type": "stream",
     "text": [
      "0.9645315567172679 {'max_depth': 7, 'max_features': 5, 'n_estimators': 100, 'random_state': 42}\n"
     ]
    }
   ],
   "source": [
    "best_score_index = np.argmax(test_scores)\n",
    "bestGrid = list(ParameterGrid(grid))[best_score_index]\n",
    "print(test_scores[best_score_index], bestGrid)"
   ]
  },
  {
   "cell_type": "code",
   "execution_count": 17,
   "metadata": {},
   "outputs": [
    {
     "data": {
      "text/plain": [
       "RandomForestRegressor(max_depth=7, max_features=5, random_state=42)"
      ]
     },
     "execution_count": 17,
     "metadata": {},
     "output_type": "execute_result"
    }
   ],
   "source": [
    "rfr.set_params(**bestGrid)\n",
    "rfr.fit(X_train, y_train.ravel())"
   ]
  },
  {
   "cell_type": "code",
   "execution_count": 18,
   "metadata": {},
   "outputs": [
    {
     "name": "stdout",
     "output_type": "stream",
     "text": [
      "train score: 0.9746347795089946\n",
      "train score: 0.9645315567172679\n"
     ]
    }
   ],
   "source": [
    "print('train score: ' + str(rfr.score(X_train, y_train)))\n",
    "print('train score: ' + str(rfr.score(X_test, y_test)))"
   ]
  },
  {
   "cell_type": "code",
   "execution_count": 19,
   "metadata": {},
   "outputs": [
    {
     "data": {
      "image/png": "[encoded data removed]",
      "text/plain": [
       "<Figure size 720x720 with 1 Axes>"
      ]
     },
     "metadata": {},
     "output_type": "display_data"
    }
   ],
   "source": [
    "plt.subplots(figsize=(10,10))\n",
    "\n",
    "# making predictions\n",
    "train_prediction = rfr.predict(X_train)\n",
    "test_prediction = rfr.predict(X_test)\n",
    "\n",
    "# scatter with predictions and actual values\n",
    "plt.scatter(y_train, train_prediction, label='train')\n",
    "plt.scatter(y_test, test_prediction, label='test')\n",
    "plt.legend()\n",
    "plt.show()"
   ]
  },
  {
   "cell_type": "code",
   "execution_count": 20,
   "metadata": {},
   "outputs": [
    {
     "data": {
      "image/png": "[encoded data removed]",
      "text/plain": [
       "<Figure size 432x288 with 1 Axes>"
      ]
     },
     "metadata": {},
     "output_type": "display_data"
    }
   ],
   "source": [
    "# importances of each feature in the model\n",
    "importances = rfr.feature_importances_\n",
    "\n",
    "# sort index by importances\n",
    "sorted_index = np.argsort(importances)[::-1]\n",
    "x = range(len(importances))\n",
    "\n",
    "# label names\n",
    "names = ['t-12','t-11','t-10','t-9','t-8','t-7','t-6','t-5','t-4','t-3','t-2','t-1']\n",
    "# labels to importances\n",
    "labels = np.array(names)[sorted_index]\n",
    "\n",
    "plt.bar(x, importances[sorted_index], tick_label=labels)\n",
    "\n",
    "plt.show()"
   ]
  },
  {
   "cell_type": "markdown",
   "metadata": {},
   "source": [
    "## gradient boost tree regressor"
   ]
  },
  {
   "cell_type": "code",
   "execution_count": 21,
   "metadata": {},
   "outputs": [
    {
     "name": "stdout",
     "output_type": "stream",
     "text": [
      "train score: 0.5816393628317629\n",
      "test score: 0.6155200745691922\n"
     ]
    }
   ],
   "source": [
    "gbr = GradientBoostingRegressor(max_features=2, learning_rate=0.01, n_estimators=50, subsample=0.6, random_state=42)\n",
    "gbr.fit(X_train, y_train.ravel())\n",
    "print('train score: ' + str(gbr.score(X_train, y_train)))\n",
    "print('test score: ' + str(gbr.score(X_test, y_test)))"
   ]
  },
  {
   "cell_type": "markdown",
   "metadata": {},
   "source": [
    "### grid"
   ]
  },
  {
   "cell_type": "code",
   "execution_count": 22,
   "metadata": {},
   "outputs": [],
   "source": [
    "grid = {'n_estimators': [50, 100, 200], 'max_depth': {3, 5, 7}, 'max_features': [2,3,4,5,6,7,8,9,10,11,12], 'learning_rate': [0.6,0.7,0.8,0.9], 'learning_rate': [0.01, 0.005, 0.02, 0.05, 0.1] ,'random_state': [42]}\n",
    "test_scores = []"
   ]
  },
  {
   "cell_type": "code",
   "execution_count": 23,
   "metadata": {},
   "outputs": [
    {
     "ename": "KeyboardInterrupt",
     "evalue": "",
     "output_type": "error",
     "traceback": [
      "\u001b[0;31m---------------------------------------------------------------------------\u001b[0m",
      "\u001b[0;31mKeyboardInterrupt\u001b[0m                         Traceback (most recent call last)",
      "\u001b[0;32m<ipython-input-23-5de0f311ce05>\u001b[0m in \u001b[0;36m<module>\u001b[0;34m\u001b[0m\n\u001b[1;32m      1\u001b[0m \u001b[0;32mfor\u001b[0m \u001b[0mg\u001b[0m \u001b[0;32min\u001b[0m \u001b[0mParameterGrid\u001b[0m\u001b[0;34m(\u001b[0m\u001b[0mgrid\u001b[0m\u001b[0;34m)\u001b[0m\u001b[0;34m:\u001b[0m\u001b[0;34m\u001b[0m\u001b[0;34m\u001b[0m\u001b[0m\n\u001b[1;32m      2\u001b[0m     \u001b[0mgbr\u001b[0m\u001b[0;34m.\u001b[0m\u001b[0mset_params\u001b[0m\u001b[0;34m(\u001b[0m\u001b[0;34m**\u001b[0m\u001b[0mg\u001b[0m\u001b[0;34m)\u001b[0m\u001b[0;34m\u001b[0m\u001b[0;34m\u001b[0m\u001b[0m\n\u001b[0;32m----> 3\u001b[0;31m     \u001b[0mgbr\u001b[0m\u001b[0;34m.\u001b[0m\u001b[0mfit\u001b[0m\u001b[0;34m(\u001b[0m\u001b[0mX_train\u001b[0m\u001b[0;34m,\u001b[0m \u001b[0my_train\u001b[0m\u001b[0;34m.\u001b[0m\u001b[0mravel\u001b[0m\u001b[0;34m(\u001b[0m\u001b[0;34m)\u001b[0m\u001b[0;34m)\u001b[0m\u001b[0;34m\u001b[0m\u001b[0;34m\u001b[0m\u001b[0m\n\u001b[0m\u001b[1;32m      4\u001b[0m     \u001b[0mtest_scores\u001b[0m\u001b[0;34m.\u001b[0m\u001b[0mappend\u001b[0m\u001b[0;34m(\u001b[0m\u001b[0mgbr\u001b[0m\u001b[0;34m.\u001b[0m\u001b[0mscore\u001b[0m\u001b[0;34m(\u001b[0m\u001b[0mX_test\u001b[0m\u001b[0;34m,\u001b[0m \u001b[0my_test\u001b[0m\u001b[0;34m)\u001b[0m\u001b[0;34m)\u001b[0m\u001b[0;34m\u001b[0m\u001b[0;34m\u001b[0m\u001b[0m\n",
      "\u001b[0;32m/usr/local/lib/python3.7/site-packages/sklearn/ensemble/_gb.py\u001b[0m in \u001b[0;36mfit\u001b[0;34m(self, X, y, sample_weight, monitor)\u001b[0m\n\u001b[1;32m    498\u001b[0m         n_stages = self._fit_stages(\n\u001b[1;32m    499\u001b[0m             \u001b[0mX\u001b[0m\u001b[0;34m,\u001b[0m \u001b[0my\u001b[0m\u001b[0;34m,\u001b[0m \u001b[0mraw_predictions\u001b[0m\u001b[0;34m,\u001b[0m \u001b[0msample_weight\u001b[0m\u001b[0;34m,\u001b[0m \u001b[0mself\u001b[0m\u001b[0;34m.\u001b[0m\u001b[0m_rng\u001b[0m\u001b[0;34m,\u001b[0m \u001b[0mX_val\u001b[0m\u001b[0;34m,\u001b[0m \u001b[0my_val\u001b[0m\u001b[0;34m,\u001b[0m\u001b[0;34m\u001b[0m\u001b[0;34m\u001b[0m\u001b[0m\n\u001b[0;32m--> 500\u001b[0;31m             sample_weight_val, begin_at_stage, monitor, X_idx_sorted)\n\u001b[0m\u001b[1;32m    501\u001b[0m \u001b[0;34m\u001b[0m\u001b[0m\n\u001b[1;32m    502\u001b[0m         \u001b[0;31m# change shape of arrays after fit (early-stopping or additional ests)\u001b[0m\u001b[0;34m\u001b[0m\u001b[0;34m\u001b[0m\u001b[0;34m\u001b[0m\u001b[0m\n",
      "\u001b[0;32m/usr/local/lib/python3.7/site-packages/sklearn/ensemble/_gb.py\u001b[0m in \u001b[0;36m_fit_stages\u001b[0;34m(self, X, y, raw_predictions, sample_weight, random_state, X_val, y_val, sample_weight_val, begin_at_stage, monitor, X_idx_sorted)\u001b[0m\n\u001b[1;32m    555\u001b[0m             raw_predictions = self._fit_stage(\n\u001b[1;32m    556\u001b[0m                 \u001b[0mi\u001b[0m\u001b[0;34m,\u001b[0m \u001b[0mX\u001b[0m\u001b[0;34m,\u001b[0m \u001b[0my\u001b[0m\u001b[0;34m,\u001b[0m \u001b[0mraw_predictions\u001b[0m\u001b[0;34m,\u001b[0m \u001b[0msample_weight\u001b[0m\u001b[0;34m,\u001b[0m \u001b[0msample_mask\u001b[0m\u001b[0;34m,\u001b[0m\u001b[0;34m\u001b[0m\u001b[0;34m\u001b[0m\u001b[0m\n\u001b[0;32m--> 557\u001b[0;31m                 random_state, X_idx_sorted, X_csc, X_csr)\n\u001b[0m\u001b[1;32m    558\u001b[0m \u001b[0;34m\u001b[0m\u001b[0m\n\u001b[1;32m    559\u001b[0m             \u001b[0;31m# track deviance (= loss)\u001b[0m\u001b[0;34m\u001b[0m\u001b[0;34m\u001b[0m\u001b[0;34m\u001b[0m\u001b[0m\n",
      "\u001b[0;32m/usr/local/lib/python3.7/site-packages/sklearn/ensemble/_gb.py\u001b[0m in \u001b[0;36m_fit_stage\u001b[0;34m(self, i, X, y, raw_predictions, sample_weight, sample_mask, random_state, X_idx_sorted, X_csc, X_csr)\u001b[0m\n\u001b[1;32m    210\u001b[0m             \u001b[0mX\u001b[0m \u001b[0;34m=\u001b[0m \u001b[0mX_csr\u001b[0m \u001b[0;32mif\u001b[0m \u001b[0mX_csr\u001b[0m \u001b[0;32mis\u001b[0m \u001b[0;32mnot\u001b[0m \u001b[0;32mNone\u001b[0m \u001b[0;32melse\u001b[0m \u001b[0mX\u001b[0m\u001b[0;34m\u001b[0m\u001b[0;34m\u001b[0m\u001b[0m\n\u001b[1;32m    211\u001b[0m             tree.fit(X, residual, sample_weight=sample_weight,\n\u001b[0;32m--> 212\u001b[0;31m                      check_input=False, X_idx_sorted=X_idx_sorted)\n\u001b[0m\u001b[1;32m    213\u001b[0m \u001b[0;34m\u001b[0m\u001b[0m\n\u001b[1;32m    214\u001b[0m             \u001b[0;31m# update tree leaves\u001b[0m\u001b[0;34m\u001b[0m\u001b[0;34m\u001b[0m\u001b[0;34m\u001b[0m\u001b[0m\n",
      "\u001b[0;32m/usr/local/lib/python3.7/site-packages/sklearn/tree/_classes.py\u001b[0m in \u001b[0;36mfit\u001b[0;34m(self, X, y, sample_weight, check_input, X_idx_sorted)\u001b[0m\n\u001b[1;32m   1244\u001b[0m             \u001b[0msample_weight\u001b[0m\u001b[0;34m=\u001b[0m\u001b[0msample_weight\u001b[0m\u001b[0;34m,\u001b[0m\u001b[0;34m\u001b[0m\u001b[0;34m\u001b[0m\u001b[0m\n\u001b[1;32m   1245\u001b[0m             \u001b[0mcheck_input\u001b[0m\u001b[0;34m=\u001b[0m\u001b[0mcheck_input\u001b[0m\u001b[0;34m,\u001b[0m\u001b[0;34m\u001b[0m\u001b[0;34m\u001b[0m\u001b[0m\n\u001b[0;32m-> 1246\u001b[0;31m             X_idx_sorted=X_idx_sorted)\n\u001b[0m\u001b[1;32m   1247\u001b[0m         \u001b[0;32mreturn\u001b[0m \u001b[0mself\u001b[0m\u001b[0;34m\u001b[0m\u001b[0;34m\u001b[0m\u001b[0m\n\u001b[1;32m   1248\u001b[0m \u001b[0;34m\u001b[0m\u001b[0m\n",
      "\u001b[0;32m/usr/local/lib/python3.7/site-packages/sklearn/tree/_classes.py\u001b[0m in \u001b[0;36mfit\u001b[0;34m(self, X, y, sample_weight, check_input, X_idx_sorted)\u001b[0m\n\u001b[1;32m    373\u001b[0m                                            min_impurity_split)\n\u001b[1;32m    374\u001b[0m \u001b[0;34m\u001b[0m\u001b[0m\n\u001b[0;32m--> 375\u001b[0;31m         \u001b[0mbuilder\u001b[0m\u001b[0;34m.\u001b[0m\u001b[0mbuild\u001b[0m\u001b[0;34m(\u001b[0m\u001b[0mself\u001b[0m\u001b[0;34m.\u001b[0m\u001b[0mtree_\u001b[0m\u001b[0;34m,\u001b[0m \u001b[0mX\u001b[0m\u001b[0;34m,\u001b[0m \u001b[0my\u001b[0m\u001b[0;34m,\u001b[0m \u001b[0msample_weight\u001b[0m\u001b[0;34m,\u001b[0m \u001b[0mX_idx_sorted\u001b[0m\u001b[0;34m)\u001b[0m\u001b[0;34m\u001b[0m\u001b[0;34m\u001b[0m\u001b[0m\n\u001b[0m\u001b[1;32m    376\u001b[0m \u001b[0;34m\u001b[0m\u001b[0m\n\u001b[1;32m    377\u001b[0m         \u001b[0;32mif\u001b[0m \u001b[0mself\u001b[0m\u001b[0;34m.\u001b[0m\u001b[0mn_outputs_\u001b[0m \u001b[0;34m==\u001b[0m \u001b[0;36m1\u001b[0m \u001b[0;32mand\u001b[0m \u001b[0mis_classifier\u001b[0m\u001b[0;34m(\u001b[0m\u001b[0mself\u001b[0m\u001b[0;34m)\u001b[0m\u001b[0;34m:\u001b[0m\u001b[0;34m\u001b[0m\u001b[0;34m\u001b[0m\u001b[0m\n",
      "\u001b[0;31mKeyboardInterrupt\u001b[0m: "
     ]
    }
   ],
   "source": [
    "for g in ParameterGrid(grid):\n",
    "    gbr.set_params(**g)\n",
    "    gbr.fit(X_train, y_train.ravel())\n",
    "    test_scores.append(gbr.score(X_test, y_test))"
   ]
  },
  {
   "cell_type": "code",
   "execution_count": null,
   "metadata": {},
   "outputs": [],
   "source": [
    "best_score_index = np.argmax(test_scores)\n",
    "best_grid = list(ParameterGrid(grid))[5]\n",
    "print(test_scores[best_score_index], best_grid)"
   ]
  },
  {
   "cell_type": "code",
   "execution_count": null,
   "metadata": {},
   "outputs": [],
   "source": [
    "gbr.set_params(**best_grid)\n",
    "gbr.fit(X_train, y_train.ravel())"
   ]
  },
  {
   "cell_type": "code",
   "execution_count": null,
   "metadata": {},
   "outputs": [],
   "source": [
    "print('train score: ' + str(gbr.score(X_train, y_train)))\n",
    "print('test score: ' + str(gbr.score(X_test, y_test)))"
   ]
  },
  {
   "cell_type": "code",
   "execution_count": null,
   "metadata": {},
   "outputs": [],
   "source": [
    "plt.subplots(figsize=(10,10))\n",
    "\n",
    "# making predictions\n",
    "train_prediction = gbr.predict(X_train)\n",
    "test_prediction = gbr.predict(X_test)\n",
    "\n",
    "# scatter with predictions and actual values\n",
    "plt.scatter(y_train, train_prediction, label='train')\n",
    "plt.scatter(y_test, test_prediction, label='test')\n",
    "plt.legend()\n",
    "plt.show()"
   ]
  },
  {
   "cell_type": "code",
   "execution_count": null,
   "metadata": {},
   "outputs": [],
   "source": [
    "# importances of each feature in the model\n",
    "importances = gbr.feature_importances_\n",
    "\n",
    "# sort index by importances\n",
    "sorted_index = np.argsort(importances)[::-1]\n",
    "x = range(len(importances))\n",
    "\n",
    "# label names\n",
    "names = ['t-12','t-11','t-10','t-9','t-8','t-7','t-6','t-5','t-4','t-3','t-2','t-1']\n",
    "# labels to importances\n",
    "labels = np.array(names)[sorted_index]\n",
    "\n",
    "plt.bar(x, importances[sorted_index], tick_label=labels)\n",
    "\n",
    "plt.show()"
   ]
  },
  {
   "cell_type": "code",
   "execution_count": null,
   "metadata": {},
   "outputs": [],
   "source": []
  },
  {
   "cell_type": "code",
   "execution_count": null,
   "metadata": {},
   "outputs": [],
   "source": []
  }
 ],
 "metadata": {
  "kernelspec": {
   "display_name": "Python 3",
   "language": "python",
   "name": "python3"
  },
  "language_info": {
   "codemirror_mode": {
    "name": "ipython",
    "version": 3
   },
   "file_extension": ".py",
   "mimetype": "text/x-python",
   "name": "python",
   "nbconvert_exporter": "python",
   "pygments_lexer": "ipython3",
   "version": "3.7.7"
  }
 },
 "nbformat": 4,
 "nbformat_minor": 4
}
