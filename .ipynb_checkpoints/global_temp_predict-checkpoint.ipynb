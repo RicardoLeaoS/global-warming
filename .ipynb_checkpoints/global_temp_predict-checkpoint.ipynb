{
 "cells": [
  {
   "cell_type": "markdown",
   "metadata": {},
   "source": [
    "# imports"
   ]
  },
  {
   "cell_type": "code",
   "execution_count": 120,
   "metadata": {},
   "outputs": [],
   "source": [
    "from scipy import stats\n",
    "import matplotlib.pyplot as plt\n",
    "import seaborn as sns\n",
    "\n",
    "import pandas as pd\n",
    "import numpy as np\n",
    "import datetime\n",
    "\n",
    "from statsmodels.graphics.tsaplots import plot_pacf\n",
    "from statsmodels.graphics.tsaplots import plot_acf\n",
    "from statsmodels.tsa.seasonal import seasonal_decompose\n",
    "sns.set(style=\"darkgrid\")\n",
    "\n",
    "\n",
    "\n",
    "from sklearn.tree import DecisionTreeRegressor\n",
    "from sklearn.ensemble import RandomForestRegressor\n",
    "from sklearn.model_selection import ParameterGrid"
   ]
  },
  {
   "cell_type": "code",
   "execution_count": 33,
   "metadata": {},
   "outputs": [],
   "source": [
    "global_temp_df = pd.read_csv('data/global_temp_df.csv')"
   ]
  },
  {
   "cell_type": "code",
   "execution_count": 34,
   "metadata": {},
   "outputs": [],
   "source": [
    "global_temp_df['dt'] = global_temp_df['dt'].apply(lambda x : datetime.datetime.strptime(x, '%Y-%m-%d'))\n",
    "global_temp_df.set_index('dt', inplace=True)"
   ]
  },
  {
   "cell_type": "markdown",
   "metadata": {},
   "source": [
    "## treating data"
   ]
  },
  {
   "cell_type": "code",
   "execution_count": 35,
   "metadata": {},
   "outputs": [],
   "source": [
    "global_temp_diff = pd.DataFrame(global_temp_df['LandAndOceanAverageTemperature'].diff(1))"
   ]
  },
  {
   "cell_type": "code",
   "execution_count": 36,
   "metadata": {},
   "outputs": [
    {
     "data": {
      "text/html": [
       "<div>\n",
       "<style scoped>\n",
       "    .dataframe tbody tr th:only-of-type {\n",
       "        vertical-align: middle;\n",
       "    }\n",
       "\n",
       "    .dataframe tbody tr th {\n",
       "        vertical-align: top;\n",
       "    }\n",
       "\n",
       "    .dataframe thead th {\n",
       "        text-align: right;\n",
       "    }\n",
       "</style>\n",
       "<table border=\"1\" class=\"dataframe\">\n",
       "  <thead>\n",
       "    <tr style=\"text-align: right;\">\n",
       "      <th></th>\n",
       "      <th>LandAndOceanAverageTemperature</th>\n",
       "    </tr>\n",
       "  </thead>\n",
       "  <tbody>\n",
       "    <tr>\n",
       "      <th>count</th>\n",
       "      <td>1991.000000</td>\n",
       "    </tr>\n",
       "    <tr>\n",
       "      <th>mean</th>\n",
       "      <td>0.000975</td>\n",
       "    </tr>\n",
       "    <tr>\n",
       "      <th>std</th>\n",
       "      <td>0.653832</td>\n",
       "    </tr>\n",
       "    <tr>\n",
       "      <th>min</th>\n",
       "      <td>-1.394000</td>\n",
       "    </tr>\n",
       "    <tr>\n",
       "      <th>25%</th>\n",
       "      <td>-0.617000</td>\n",
       "    </tr>\n",
       "    <tr>\n",
       "      <th>50%</th>\n",
       "      <td>0.074000</td>\n",
       "    </tr>\n",
       "    <tr>\n",
       "      <th>75%</th>\n",
       "      <td>0.607000</td>\n",
       "    </tr>\n",
       "    <tr>\n",
       "      <th>max</th>\n",
       "      <td>1.194000</td>\n",
       "    </tr>\n",
       "  </tbody>\n",
       "</table>\n",
       "</div>"
      ],
      "text/plain": [
       "       LandAndOceanAverageTemperature\n",
       "count                     1991.000000\n",
       "mean                         0.000975\n",
       "std                          0.653832\n",
       "min                         -1.394000\n",
       "25%                         -0.617000\n",
       "50%                          0.074000\n",
       "75%                          0.607000\n",
       "max                          1.194000"
      ]
     },
     "execution_count": 36,
     "metadata": {},
     "output_type": "execute_result"
    }
   ],
   "source": [
    "global_temp_diff.describe()"
   ]
  },
  {
   "cell_type": "code",
   "execution_count": 37,
   "metadata": {},
   "outputs": [],
   "source": [
    "global_temp_diff.dropna(inplace=True)"
   ]
  },
  {
   "cell_type": "code",
   "execution_count": 38,
   "metadata": {},
   "outputs": [
    {
     "data": {
      "text/html": [
       "<div>\n",
       "<style scoped>\n",
       "    .dataframe tbody tr th:only-of-type {\n",
       "        vertical-align: middle;\n",
       "    }\n",
       "\n",
       "    .dataframe tbody tr th {\n",
       "        vertical-align: top;\n",
       "    }\n",
       "\n",
       "    .dataframe thead th {\n",
       "        text-align: right;\n",
       "    }\n",
       "</style>\n",
       "<table border=\"1\" class=\"dataframe\">\n",
       "  <thead>\n",
       "    <tr style=\"text-align: right;\">\n",
       "      <th></th>\n",
       "      <th>LandAndOceanAverageTemperature</th>\n",
       "    </tr>\n",
       "    <tr>\n",
       "      <th>dt</th>\n",
       "      <th></th>\n",
       "    </tr>\n",
       "  </thead>\n",
       "  <tbody>\n",
       "    <tr>\n",
       "      <th>1850-02-01</th>\n",
       "      <td>0.755</td>\n",
       "    </tr>\n",
       "    <tr>\n",
       "      <th>1850-03-01</th>\n",
       "      <td>0.455</td>\n",
       "    </tr>\n",
       "    <tr>\n",
       "      <th>1850-04-01</th>\n",
       "      <td>0.624</td>\n",
       "    </tr>\n",
       "    <tr>\n",
       "      <th>1850-05-01</th>\n",
       "      <td>0.840</td>\n",
       "    </tr>\n",
       "    <tr>\n",
       "      <th>1850-06-01</th>\n",
       "      <td>0.846</td>\n",
       "    </tr>\n",
       "    <tr>\n",
       "      <th>...</th>\n",
       "      <td>...</td>\n",
       "    </tr>\n",
       "    <tr>\n",
       "      <th>2015-08-01</th>\n",
       "      <td>-0.022</td>\n",
       "    </tr>\n",
       "    <tr>\n",
       "      <th>2015-09-01</th>\n",
       "      <td>-0.540</td>\n",
       "    </tr>\n",
       "    <tr>\n",
       "      <th>2015-10-01</th>\n",
       "      <td>-0.759</td>\n",
       "    </tr>\n",
       "    <tr>\n",
       "      <th>2015-11-01</th>\n",
       "      <td>-1.038</td>\n",
       "    </tr>\n",
       "    <tr>\n",
       "      <th>2015-12-01</th>\n",
       "      <td>-0.478</td>\n",
       "    </tr>\n",
       "  </tbody>\n",
       "</table>\n",
       "<p>1991 rows × 1 columns</p>\n",
       "</div>"
      ],
      "text/plain": [
       "            LandAndOceanAverageTemperature\n",
       "dt                                        \n",
       "1850-02-01                           0.755\n",
       "1850-03-01                           0.455\n",
       "1850-04-01                           0.624\n",
       "1850-05-01                           0.840\n",
       "1850-06-01                           0.846\n",
       "...                                    ...\n",
       "2015-08-01                          -0.022\n",
       "2015-09-01                          -0.540\n",
       "2015-10-01                          -0.759\n",
       "2015-11-01                          -1.038\n",
       "2015-12-01                          -0.478\n",
       "\n",
       "[1991 rows x 1 columns]"
      ]
     },
     "execution_count": 38,
     "metadata": {},
     "output_type": "execute_result"
    }
   ],
   "source": [
    "global_temp_diff"
   ]
  },
  {
   "cell_type": "code",
   "execution_count": 39,
   "metadata": {},
   "outputs": [
    {
     "data": {
      "text/plain": [
       "<matplotlib.axes._subplots.AxesSubplot at 0x125916610>"
      ]
     },
     "execution_count": 39,
     "metadata": {},
     "output_type": "execute_result"
    },
    {
     "data": {
      "image/png": "[encoded data removed]",
      "text/plain": [
       "<Figure size 432x288 with 1 Axes>"
      ]
     },
     "metadata": {},
     "output_type": "display_data"
    }
   ],
   "source": [
    "global_temp_diff['LandAndOceanAverageTemperature'].plot(kind='kde')"
   ]
  },
  {
   "cell_type": "code",
   "execution_count": 40,
   "metadata": {},
   "outputs": [
    {
     "data": {
      "text/plain": [
       "<matplotlib.axes._subplots.AxesSubplot at 0x1258e49d0>"
      ]
     },
     "execution_count": 40,
     "metadata": {},
     "output_type": "execute_result"
    },
    {
     "data": {
      "image/png": "[encoded data removed]",
      "text/plain": [
       "<Figure size 432x288 with 1 Axes>"
      ]
     },
     "metadata": {},
     "output_type": "display_data"
    }
   ],
   "source": [
    "global_temp_diff['LandAndOceanAverageTemperature'].plot()"
   ]
  },
  {
   "cell_type": "code",
   "execution_count": 41,
   "metadata": {},
   "outputs": [
    {
     "data": {
      "image/png": "[encoded data removed]",
      "text/plain": [
       "<Figure size 432x288 with 4 Axes>"
      ]
     },
     "metadata": {},
     "output_type": "display_data"
    }
   ],
   "source": [
    "s_decomp = seasonal_decompose(global_temp_diff['LandAndOceanAverageTemperature'], model='additive', period=12)\n",
    "s_decomp.plot()\n",
    "plt.show()"
   ]
  },
  {
   "cell_type": "code",
   "execution_count": 46,
   "metadata": {},
   "outputs": [
    {
     "data": {
      "image/png": "[encoded data removed]",
      "text/plain": [
       "<Figure size 1440x720 with 1 Axes>"
      ]
     },
     "metadata": {},
     "output_type": "display_data"
    }
   ],
   "source": [
    "fig, ax = plt.subplots(figsize=(20,10))\n",
    "\n",
    "ax = plot_acf(global_temp_diff['LandAndOceanAverageTemperature'], ax, title='Global Temperature 1st Difference Autocorrelation')\n",
    "\n",
    "plt.show()"
   ]
  },
  {
   "cell_type": "markdown",
   "metadata": {},
   "source": [
    "## creating lagged DF"
   ]
  },
  {
   "cell_type": "code",
   "execution_count": 55,
   "metadata": {},
   "outputs": [],
   "source": [
    "lagged_df = pd.DataFrame()"
   ]
  },
  {
   "cell_type": "code",
   "execution_count": 56,
   "metadata": {},
   "outputs": [],
   "source": [
    "for i in range(12, 0, -1):\n",
    "    lagged_df[['t-' + str(i)]] = global_temp_diff.shift(i)\n"
   ]
  },
  {
   "cell_type": "code",
   "execution_count": 57,
   "metadata": {},
   "outputs": [],
   "source": [
    "lagged_df['t'] = global_temp_diff['LandAndOceanAverageTemperature']"
   ]
  },
  {
   "cell_type": "code",
   "execution_count": 59,
   "metadata": {},
   "outputs": [
    {
     "data": {
      "text/html": [
       "<div>\n",
       "<style scoped>\n",
       "    .dataframe tbody tr th:only-of-type {\n",
       "        vertical-align: middle;\n",
       "    }\n",
       "\n",
       "    .dataframe tbody tr th {\n",
       "        vertical-align: top;\n",
       "    }\n",
       "\n",
       "    .dataframe thead th {\n",
       "        text-align: right;\n",
       "    }\n",
       "</style>\n",
       "<table border=\"1\" class=\"dataframe\">\n",
       "  <thead>\n",
       "    <tr style=\"text-align: right;\">\n",
       "      <th></th>\n",
       "      <th>t-12</th>\n",
       "      <th>t-11</th>\n",
       "      <th>t-10</th>\n",
       "      <th>t-9</th>\n",
       "      <th>t-8</th>\n",
       "      <th>t-7</th>\n",
       "      <th>t-6</th>\n",
       "      <th>t-5</th>\n",
       "      <th>t-4</th>\n",
       "      <th>t-3</th>\n",
       "      <th>t-2</th>\n",
       "      <th>t-1</th>\n",
       "      <th>t</th>\n",
       "    </tr>\n",
       "    <tr>\n",
       "      <th>dt</th>\n",
       "      <th></th>\n",
       "      <th></th>\n",
       "      <th></th>\n",
       "      <th></th>\n",
       "      <th></th>\n",
       "      <th></th>\n",
       "      <th></th>\n",
       "      <th></th>\n",
       "      <th></th>\n",
       "      <th></th>\n",
       "      <th></th>\n",
       "      <th></th>\n",
       "      <th></th>\n",
       "    </tr>\n",
       "  </thead>\n",
       "  <tbody>\n",
       "    <tr>\n",
       "      <th>1851-02-01</th>\n",
       "      <td>0.755</td>\n",
       "      <td>0.455</td>\n",
       "      <td>0.624</td>\n",
       "      <td>0.840</td>\n",
       "      <td>0.846</td>\n",
       "      <td>0.430</td>\n",
       "      <td>-0.065</td>\n",
       "      <td>-0.832</td>\n",
       "      <td>-1.055</td>\n",
       "      <td>-0.934</td>\n",
       "      <td>-0.597</td>\n",
       "      <td>-0.055</td>\n",
       "      <td>0.086</td>\n",
       "    </tr>\n",
       "    <tr>\n",
       "      <th>1851-03-01</th>\n",
       "      <td>0.455</td>\n",
       "      <td>0.624</td>\n",
       "      <td>0.840</td>\n",
       "      <td>0.846</td>\n",
       "      <td>0.430</td>\n",
       "      <td>-0.065</td>\n",
       "      <td>-0.832</td>\n",
       "      <td>-1.055</td>\n",
       "      <td>-0.934</td>\n",
       "      <td>-0.597</td>\n",
       "      <td>-0.055</td>\n",
       "      <td>0.086</td>\n",
       "      <td>0.566</td>\n",
       "    </tr>\n",
       "    <tr>\n",
       "      <th>1851-04-01</th>\n",
       "      <td>0.624</td>\n",
       "      <td>0.840</td>\n",
       "      <td>0.846</td>\n",
       "      <td>0.430</td>\n",
       "      <td>-0.065</td>\n",
       "      <td>-0.832</td>\n",
       "      <td>-1.055</td>\n",
       "      <td>-0.934</td>\n",
       "      <td>-0.597</td>\n",
       "      <td>-0.055</td>\n",
       "      <td>0.086</td>\n",
       "      <td>0.566</td>\n",
       "      <td>0.743</td>\n",
       "    </tr>\n",
       "    <tr>\n",
       "      <th>1851-05-01</th>\n",
       "      <td>0.840</td>\n",
       "      <td>0.846</td>\n",
       "      <td>0.430</td>\n",
       "      <td>-0.065</td>\n",
       "      <td>-0.832</td>\n",
       "      <td>-1.055</td>\n",
       "      <td>-0.934</td>\n",
       "      <td>-0.597</td>\n",
       "      <td>-0.055</td>\n",
       "      <td>0.086</td>\n",
       "      <td>0.566</td>\n",
       "      <td>0.743</td>\n",
       "      <td>1.131</td>\n",
       "    </tr>\n",
       "    <tr>\n",
       "      <th>1851-06-01</th>\n",
       "      <td>0.846</td>\n",
       "      <td>0.430</td>\n",
       "      <td>-0.065</td>\n",
       "      <td>-0.832</td>\n",
       "      <td>-1.055</td>\n",
       "      <td>-0.934</td>\n",
       "      <td>-0.597</td>\n",
       "      <td>-0.055</td>\n",
       "      <td>0.086</td>\n",
       "      <td>0.566</td>\n",
       "      <td>0.743</td>\n",
       "      <td>1.131</td>\n",
       "      <td>0.725</td>\n",
       "    </tr>\n",
       "    <tr>\n",
       "      <th>...</th>\n",
       "      <td>...</td>\n",
       "      <td>...</td>\n",
       "      <td>...</td>\n",
       "      <td>...</td>\n",
       "      <td>...</td>\n",
       "      <td>...</td>\n",
       "      <td>...</td>\n",
       "      <td>...</td>\n",
       "      <td>...</td>\n",
       "      <td>...</td>\n",
       "      <td>...</td>\n",
       "      <td>...</td>\n",
       "      <td>...</td>\n",
       "    </tr>\n",
       "    <tr>\n",
       "      <th>2015-08-01</th>\n",
       "      <td>0.099</td>\n",
       "      <td>-0.632</td>\n",
       "      <td>-0.946</td>\n",
       "      <td>-1.130</td>\n",
       "      <td>-0.489</td>\n",
       "      <td>-0.155</td>\n",
       "      <td>0.309</td>\n",
       "      <td>0.629</td>\n",
       "      <td>0.769</td>\n",
       "      <td>0.812</td>\n",
       "      <td>0.616</td>\n",
       "      <td>0.221</td>\n",
       "      <td>-0.022</td>\n",
       "    </tr>\n",
       "    <tr>\n",
       "      <th>2015-09-01</th>\n",
       "      <td>-0.632</td>\n",
       "      <td>-0.946</td>\n",
       "      <td>-1.130</td>\n",
       "      <td>-0.489</td>\n",
       "      <td>-0.155</td>\n",
       "      <td>0.309</td>\n",
       "      <td>0.629</td>\n",
       "      <td>0.769</td>\n",
       "      <td>0.812</td>\n",
       "      <td>0.616</td>\n",
       "      <td>0.221</td>\n",
       "      <td>-0.022</td>\n",
       "      <td>-0.540</td>\n",
       "    </tr>\n",
       "    <tr>\n",
       "      <th>2015-10-01</th>\n",
       "      <td>-0.946</td>\n",
       "      <td>-1.130</td>\n",
       "      <td>-0.489</td>\n",
       "      <td>-0.155</td>\n",
       "      <td>0.309</td>\n",
       "      <td>0.629</td>\n",
       "      <td>0.769</td>\n",
       "      <td>0.812</td>\n",
       "      <td>0.616</td>\n",
       "      <td>0.221</td>\n",
       "      <td>-0.022</td>\n",
       "      <td>-0.540</td>\n",
       "      <td>-0.759</td>\n",
       "    </tr>\n",
       "    <tr>\n",
       "      <th>2015-11-01</th>\n",
       "      <td>-1.130</td>\n",
       "      <td>-0.489</td>\n",
       "      <td>-0.155</td>\n",
       "      <td>0.309</td>\n",
       "      <td>0.629</td>\n",
       "      <td>0.769</td>\n",
       "      <td>0.812</td>\n",
       "      <td>0.616</td>\n",
       "      <td>0.221</td>\n",
       "      <td>-0.022</td>\n",
       "      <td>-0.540</td>\n",
       "      <td>-0.759</td>\n",
       "      <td>-1.038</td>\n",
       "    </tr>\n",
       "    <tr>\n",
       "      <th>2015-12-01</th>\n",
       "      <td>-0.489</td>\n",
       "      <td>-0.155</td>\n",
       "      <td>0.309</td>\n",
       "      <td>0.629</td>\n",
       "      <td>0.769</td>\n",
       "      <td>0.812</td>\n",
       "      <td>0.616</td>\n",
       "      <td>0.221</td>\n",
       "      <td>-0.022</td>\n",
       "      <td>-0.540</td>\n",
       "      <td>-0.759</td>\n",
       "      <td>-1.038</td>\n",
       "      <td>-0.478</td>\n",
       "    </tr>\n",
       "  </tbody>\n",
       "</table>\n",
       "<p>1979 rows × 13 columns</p>\n",
       "</div>"
      ],
      "text/plain": [
       "             t-12   t-11   t-10    t-9    t-8    t-7    t-6    t-5    t-4  \\\n",
       "dt                                                                          \n",
       "1851-02-01  0.755  0.455  0.624  0.840  0.846  0.430 -0.065 -0.832 -1.055   \n",
       "1851-03-01  0.455  0.624  0.840  0.846  0.430 -0.065 -0.832 -1.055 -0.934   \n",
       "1851-04-01  0.624  0.840  0.846  0.430 -0.065 -0.832 -1.055 -0.934 -0.597   \n",
       "1851-05-01  0.840  0.846  0.430 -0.065 -0.832 -1.055 -0.934 -0.597 -0.055   \n",
       "1851-06-01  0.846  0.430 -0.065 -0.832 -1.055 -0.934 -0.597 -0.055  0.086   \n",
       "...           ...    ...    ...    ...    ...    ...    ...    ...    ...   \n",
       "2015-08-01  0.099 -0.632 -0.946 -1.130 -0.489 -0.155  0.309  0.629  0.769   \n",
       "2015-09-01 -0.632 -0.946 -1.130 -0.489 -0.155  0.309  0.629  0.769  0.812   \n",
       "2015-10-01 -0.946 -1.130 -0.489 -0.155  0.309  0.629  0.769  0.812  0.616   \n",
       "2015-11-01 -1.130 -0.489 -0.155  0.309  0.629  0.769  0.812  0.616  0.221   \n",
       "2015-12-01 -0.489 -0.155  0.309  0.629  0.769  0.812  0.616  0.221 -0.022   \n",
       "\n",
       "              t-3    t-2    t-1      t  \n",
       "dt                                      \n",
       "1851-02-01 -0.934 -0.597 -0.055  0.086  \n",
       "1851-03-01 -0.597 -0.055  0.086  0.566  \n",
       "1851-04-01 -0.055  0.086  0.566  0.743  \n",
       "1851-05-01  0.086  0.566  0.743  1.131  \n",
       "1851-06-01  0.566  0.743  1.131  0.725  \n",
       "...           ...    ...    ...    ...  \n",
       "2015-08-01  0.812  0.616  0.221 -0.022  \n",
       "2015-09-01  0.616  0.221 -0.022 -0.540  \n",
       "2015-10-01  0.221 -0.022 -0.540 -0.759  \n",
       "2015-11-01 -0.022 -0.540 -0.759 -1.038  \n",
       "2015-12-01 -0.540 -0.759 -1.038 -0.478  \n",
       "\n",
       "[1979 rows x 13 columns]"
      ]
     },
     "execution_count": 59,
     "metadata": {},
     "output_type": "execute_result"
    }
   ],
   "source": [
    "lagged_df"
   ]
  },
  {
   "cell_type": "code",
   "execution_count": 60,
   "metadata": {},
   "outputs": [],
   "source": [
    "lagged_df.dropna(axis=0, inplace=True)"
   ]
  },
  {
   "cell_type": "markdown",
   "metadata": {},
   "source": [
    "### features and target"
   ]
  },
  {
   "cell_type": "code",
   "execution_count": 67,
   "metadata": {},
   "outputs": [
    {
     "data": {
      "text/html": [
       "<div>\n",
       "<style scoped>\n",
       "    .dataframe tbody tr th:only-of-type {\n",
       "        vertical-align: middle;\n",
       "    }\n",
       "\n",
       "    .dataframe tbody tr th {\n",
       "        vertical-align: top;\n",
       "    }\n",
       "\n",
       "    .dataframe thead th {\n",
       "        text-align: right;\n",
       "    }\n",
       "</style>\n",
       "<table border=\"1\" class=\"dataframe\">\n",
       "  <thead>\n",
       "    <tr style=\"text-align: right;\">\n",
       "      <th></th>\n",
       "      <th>t-12</th>\n",
       "      <th>t-11</th>\n",
       "      <th>t-10</th>\n",
       "      <th>t-9</th>\n",
       "      <th>t-8</th>\n",
       "      <th>t-7</th>\n",
       "      <th>t-6</th>\n",
       "      <th>t-5</th>\n",
       "      <th>t-4</th>\n",
       "      <th>t-3</th>\n",
       "      <th>t-2</th>\n",
       "      <th>t-1</th>\n",
       "    </tr>\n",
       "    <tr>\n",
       "      <th>dt</th>\n",
       "      <th></th>\n",
       "      <th></th>\n",
       "      <th></th>\n",
       "      <th></th>\n",
       "      <th></th>\n",
       "      <th></th>\n",
       "      <th></th>\n",
       "      <th></th>\n",
       "      <th></th>\n",
       "      <th></th>\n",
       "      <th></th>\n",
       "      <th></th>\n",
       "    </tr>\n",
       "  </thead>\n",
       "  <tbody>\n",
       "    <tr>\n",
       "      <th>1851-02-01</th>\n",
       "      <td>0.755</td>\n",
       "      <td>0.455</td>\n",
       "      <td>0.624</td>\n",
       "      <td>0.840</td>\n",
       "      <td>0.846</td>\n",
       "      <td>0.430</td>\n",
       "      <td>-0.065</td>\n",
       "      <td>-0.832</td>\n",
       "      <td>-1.055</td>\n",
       "      <td>-0.934</td>\n",
       "      <td>-0.597</td>\n",
       "      <td>-0.055</td>\n",
       "    </tr>\n",
       "    <tr>\n",
       "      <th>1851-03-01</th>\n",
       "      <td>0.455</td>\n",
       "      <td>0.624</td>\n",
       "      <td>0.840</td>\n",
       "      <td>0.846</td>\n",
       "      <td>0.430</td>\n",
       "      <td>-0.065</td>\n",
       "      <td>-0.832</td>\n",
       "      <td>-1.055</td>\n",
       "      <td>-0.934</td>\n",
       "      <td>-0.597</td>\n",
       "      <td>-0.055</td>\n",
       "      <td>0.086</td>\n",
       "    </tr>\n",
       "    <tr>\n",
       "      <th>1851-04-01</th>\n",
       "      <td>0.624</td>\n",
       "      <td>0.840</td>\n",
       "      <td>0.846</td>\n",
       "      <td>0.430</td>\n",
       "      <td>-0.065</td>\n",
       "      <td>-0.832</td>\n",
       "      <td>-1.055</td>\n",
       "      <td>-0.934</td>\n",
       "      <td>-0.597</td>\n",
       "      <td>-0.055</td>\n",
       "      <td>0.086</td>\n",
       "      <td>0.566</td>\n",
       "    </tr>\n",
       "    <tr>\n",
       "      <th>1851-05-01</th>\n",
       "      <td>0.840</td>\n",
       "      <td>0.846</td>\n",
       "      <td>0.430</td>\n",
       "      <td>-0.065</td>\n",
       "      <td>-0.832</td>\n",
       "      <td>-1.055</td>\n",
       "      <td>-0.934</td>\n",
       "      <td>-0.597</td>\n",
       "      <td>-0.055</td>\n",
       "      <td>0.086</td>\n",
       "      <td>0.566</td>\n",
       "      <td>0.743</td>\n",
       "    </tr>\n",
       "    <tr>\n",
       "      <th>1851-06-01</th>\n",
       "      <td>0.846</td>\n",
       "      <td>0.430</td>\n",
       "      <td>-0.065</td>\n",
       "      <td>-0.832</td>\n",
       "      <td>-1.055</td>\n",
       "      <td>-0.934</td>\n",
       "      <td>-0.597</td>\n",
       "      <td>-0.055</td>\n",
       "      <td>0.086</td>\n",
       "      <td>0.566</td>\n",
       "      <td>0.743</td>\n",
       "      <td>1.131</td>\n",
       "    </tr>\n",
       "    <tr>\n",
       "      <th>...</th>\n",
       "      <td>...</td>\n",
       "      <td>...</td>\n",
       "      <td>...</td>\n",
       "      <td>...</td>\n",
       "      <td>...</td>\n",
       "      <td>...</td>\n",
       "      <td>...</td>\n",
       "      <td>...</td>\n",
       "      <td>...</td>\n",
       "      <td>...</td>\n",
       "      <td>...</td>\n",
       "      <td>...</td>\n",
       "    </tr>\n",
       "    <tr>\n",
       "      <th>2015-08-01</th>\n",
       "      <td>0.099</td>\n",
       "      <td>-0.632</td>\n",
       "      <td>-0.946</td>\n",
       "      <td>-1.130</td>\n",
       "      <td>-0.489</td>\n",
       "      <td>-0.155</td>\n",
       "      <td>0.309</td>\n",
       "      <td>0.629</td>\n",
       "      <td>0.769</td>\n",
       "      <td>0.812</td>\n",
       "      <td>0.616</td>\n",
       "      <td>0.221</td>\n",
       "    </tr>\n",
       "    <tr>\n",
       "      <th>2015-09-01</th>\n",
       "      <td>-0.632</td>\n",
       "      <td>-0.946</td>\n",
       "      <td>-1.130</td>\n",
       "      <td>-0.489</td>\n",
       "      <td>-0.155</td>\n",
       "      <td>0.309</td>\n",
       "      <td>0.629</td>\n",
       "      <td>0.769</td>\n",
       "      <td>0.812</td>\n",
       "      <td>0.616</td>\n",
       "      <td>0.221</td>\n",
       "      <td>-0.022</td>\n",
       "    </tr>\n",
       "    <tr>\n",
       "      <th>2015-10-01</th>\n",
       "      <td>-0.946</td>\n",
       "      <td>-1.130</td>\n",
       "      <td>-0.489</td>\n",
       "      <td>-0.155</td>\n",
       "      <td>0.309</td>\n",
       "      <td>0.629</td>\n",
       "      <td>0.769</td>\n",
       "      <td>0.812</td>\n",
       "      <td>0.616</td>\n",
       "      <td>0.221</td>\n",
       "      <td>-0.022</td>\n",
       "      <td>-0.540</td>\n",
       "    </tr>\n",
       "    <tr>\n",
       "      <th>2015-11-01</th>\n",
       "      <td>-1.130</td>\n",
       "      <td>-0.489</td>\n",
       "      <td>-0.155</td>\n",
       "      <td>0.309</td>\n",
       "      <td>0.629</td>\n",
       "      <td>0.769</td>\n",
       "      <td>0.812</td>\n",
       "      <td>0.616</td>\n",
       "      <td>0.221</td>\n",
       "      <td>-0.022</td>\n",
       "      <td>-0.540</td>\n",
       "      <td>-0.759</td>\n",
       "    </tr>\n",
       "    <tr>\n",
       "      <th>2015-12-01</th>\n",
       "      <td>-0.489</td>\n",
       "      <td>-0.155</td>\n",
       "      <td>0.309</td>\n",
       "      <td>0.629</td>\n",
       "      <td>0.769</td>\n",
       "      <td>0.812</td>\n",
       "      <td>0.616</td>\n",
       "      <td>0.221</td>\n",
       "      <td>-0.022</td>\n",
       "      <td>-0.540</td>\n",
       "      <td>-0.759</td>\n",
       "      <td>-1.038</td>\n",
       "    </tr>\n",
       "  </tbody>\n",
       "</table>\n",
       "<p>1979 rows × 12 columns</p>\n",
       "</div>"
      ],
      "text/plain": [
       "             t-12   t-11   t-10    t-9    t-8    t-7    t-6    t-5    t-4  \\\n",
       "dt                                                                          \n",
       "1851-02-01  0.755  0.455  0.624  0.840  0.846  0.430 -0.065 -0.832 -1.055   \n",
       "1851-03-01  0.455  0.624  0.840  0.846  0.430 -0.065 -0.832 -1.055 -0.934   \n",
       "1851-04-01  0.624  0.840  0.846  0.430 -0.065 -0.832 -1.055 -0.934 -0.597   \n",
       "1851-05-01  0.840  0.846  0.430 -0.065 -0.832 -1.055 -0.934 -0.597 -0.055   \n",
       "1851-06-01  0.846  0.430 -0.065 -0.832 -1.055 -0.934 -0.597 -0.055  0.086   \n",
       "...           ...    ...    ...    ...    ...    ...    ...    ...    ...   \n",
       "2015-08-01  0.099 -0.632 -0.946 -1.130 -0.489 -0.155  0.309  0.629  0.769   \n",
       "2015-09-01 -0.632 -0.946 -1.130 -0.489 -0.155  0.309  0.629  0.769  0.812   \n",
       "2015-10-01 -0.946 -1.130 -0.489 -0.155  0.309  0.629  0.769  0.812  0.616   \n",
       "2015-11-01 -1.130 -0.489 -0.155  0.309  0.629  0.769  0.812  0.616  0.221   \n",
       "2015-12-01 -0.489 -0.155  0.309  0.629  0.769  0.812  0.616  0.221 -0.022   \n",
       "\n",
       "              t-3    t-2    t-1  \n",
       "dt                               \n",
       "1851-02-01 -0.934 -0.597 -0.055  \n",
       "1851-03-01 -0.597 -0.055  0.086  \n",
       "1851-04-01 -0.055  0.086  0.566  \n",
       "1851-05-01  0.086  0.566  0.743  \n",
       "1851-06-01  0.566  0.743  1.131  \n",
       "...           ...    ...    ...  \n",
       "2015-08-01  0.812  0.616  0.221  \n",
       "2015-09-01  0.616  0.221 -0.022  \n",
       "2015-10-01  0.221 -0.022 -0.540  \n",
       "2015-11-01 -0.022 -0.540 -0.759  \n",
       "2015-12-01 -0.540 -0.759 -1.038  \n",
       "\n",
       "[1979 rows x 12 columns]"
      ]
     },
     "execution_count": 67,
     "metadata": {},
     "output_type": "execute_result"
    }
   ],
   "source": [
    "lagged_df.iloc[:, :-1]"
   ]
  },
  {
   "cell_type": "code",
   "execution_count": 68,
   "metadata": {},
   "outputs": [
    {
     "data": {
      "text/html": [
       "<div>\n",
       "<style scoped>\n",
       "    .dataframe tbody tr th:only-of-type {\n",
       "        vertical-align: middle;\n",
       "    }\n",
       "\n",
       "    .dataframe tbody tr th {\n",
       "        vertical-align: top;\n",
       "    }\n",
       "\n",
       "    .dataframe thead th {\n",
       "        text-align: right;\n",
       "    }\n",
       "</style>\n",
       "<table border=\"1\" class=\"dataframe\">\n",
       "  <thead>\n",
       "    <tr style=\"text-align: right;\">\n",
       "      <th></th>\n",
       "      <th>t</th>\n",
       "    </tr>\n",
       "    <tr>\n",
       "      <th>dt</th>\n",
       "      <th></th>\n",
       "    </tr>\n",
       "  </thead>\n",
       "  <tbody>\n",
       "    <tr>\n",
       "      <th>1851-02-01</th>\n",
       "      <td>0.086</td>\n",
       "    </tr>\n",
       "    <tr>\n",
       "      <th>1851-03-01</th>\n",
       "      <td>0.566</td>\n",
       "    </tr>\n",
       "    <tr>\n",
       "      <th>1851-04-01</th>\n",
       "      <td>0.743</td>\n",
       "    </tr>\n",
       "    <tr>\n",
       "      <th>1851-05-01</th>\n",
       "      <td>1.131</td>\n",
       "    </tr>\n",
       "    <tr>\n",
       "      <th>1851-06-01</th>\n",
       "      <td>0.725</td>\n",
       "    </tr>\n",
       "    <tr>\n",
       "      <th>...</th>\n",
       "      <td>...</td>\n",
       "    </tr>\n",
       "    <tr>\n",
       "      <th>2015-08-01</th>\n",
       "      <td>-0.022</td>\n",
       "    </tr>\n",
       "    <tr>\n",
       "      <th>2015-09-01</th>\n",
       "      <td>-0.540</td>\n",
       "    </tr>\n",
       "    <tr>\n",
       "      <th>2015-10-01</th>\n",
       "      <td>-0.759</td>\n",
       "    </tr>\n",
       "    <tr>\n",
       "      <th>2015-11-01</th>\n",
       "      <td>-1.038</td>\n",
       "    </tr>\n",
       "    <tr>\n",
       "      <th>2015-12-01</th>\n",
       "      <td>-0.478</td>\n",
       "    </tr>\n",
       "  </tbody>\n",
       "</table>\n",
       "<p>1979 rows × 1 columns</p>\n",
       "</div>"
      ],
      "text/plain": [
       "                t\n",
       "dt               \n",
       "1851-02-01  0.086\n",
       "1851-03-01  0.566\n",
       "1851-04-01  0.743\n",
       "1851-05-01  1.131\n",
       "1851-06-01  0.725\n",
       "...           ...\n",
       "2015-08-01 -0.022\n",
       "2015-09-01 -0.540\n",
       "2015-10-01 -0.759\n",
       "2015-11-01 -1.038\n",
       "2015-12-01 -0.478\n",
       "\n",
       "[1979 rows x 1 columns]"
      ]
     },
     "execution_count": 68,
     "metadata": {},
     "output_type": "execute_result"
    }
   ],
   "source": [
    "lagged_df.iloc[:, -1:]"
   ]
  },
  {
   "cell_type": "code",
   "execution_count": 160,
   "metadata": {},
   "outputs": [],
   "source": [
    "X = lagged_df.iloc[:, :-1].values\n",
    "y = lagged_df.iloc[:, -1:].values"
   ]
  },
  {
   "cell_type": "code",
   "execution_count": 161,
   "metadata": {},
   "outputs": [],
   "source": [
    "train_size = int(len(X) * 0.8)"
   ]
  },
  {
   "cell_type": "code",
   "execution_count": 162,
   "metadata": {},
   "outputs": [],
   "source": [
    "X_train, X_test, y_train, y_test = X[0:train_size], X[train_size:len(X)], y[0:train_size], y[train_size:len(X)]"
   ]
  },
  {
   "cell_type": "code",
   "execution_count": 163,
   "metadata": {},
   "outputs": [
    {
     "name": "stdout",
     "output_type": "stream",
     "text": [
      "train size 1583\n",
      "test size 396\n"
     ]
    }
   ],
   "source": [
    "print('train size ' +str(len(X_train) ))\n",
    "\n",
    "print('test size ' +str(len(X_test) ))"
   ]
  },
  {
   "cell_type": "markdown",
   "metadata": {},
   "source": [
    "## Decicion Tree\n",
    "\n",
    "does not work well with data w trend"
   ]
  },
  {
   "cell_type": "code",
   "execution_count": 164,
   "metadata": {},
   "outputs": [
    {
     "data": {
      "text/plain": [
       "DecisionTreeRegressor(max_depth=5)"
      ]
     },
     "execution_count": 164,
     "metadata": {},
     "output_type": "execute_result"
    }
   ],
   "source": [
    "global_temp_tree = DecisionTreeRegressor(max_depth= 5)\n",
    "global_temp_tree.fit(X_train, y_train)"
   ]
  },
  {
   "cell_type": "code",
   "execution_count": 165,
   "metadata": {},
   "outputs": [
    {
     "data": {
      "text/plain": [
       "0.9597479378702457"
      ]
     },
     "execution_count": 165,
     "metadata": {},
     "output_type": "execute_result"
    }
   ],
   "source": [
    "global_temp_tree.score(X_train, y_train)"
   ]
  },
  {
   "cell_type": "code",
   "execution_count": 166,
   "metadata": {},
   "outputs": [
    {
     "data": {
      "text/plain": [
       "0.9551081283788231"
      ]
     },
     "execution_count": 166,
     "metadata": {},
     "output_type": "execute_result"
    }
   ],
   "source": [
    "global_temp_tree.score(X_test, y_test)"
   ]
  },
  {
   "cell_type": "code",
   "execution_count": 171,
   "metadata": {},
   "outputs": [
    {
     "data": {
      "image/png": "[encoded data removed]",
      "text/plain": [
       "<Figure size 720x720 with 1 Axes>"
      ]
     },
     "metadata": {},
     "output_type": "display_data"
    }
   ],
   "source": [
    "plt.subplots(figsize=(10,10))\n",
    "train_prediction = global_temp_tree.predict(X_train)\n",
    "test_prediction = global_temp_tree.predict(X_test)\n",
    "plt.scatter(y_train, train_prediction, label='train')\n",
    "plt.scatter(y_test, test_prediction, label='test')\n",
    "plt.legend()\n",
    "plt.show()"
   ]
  },
  {
   "cell_type": "markdown",
   "metadata": {},
   "source": [
    "## Random Forest"
   ]
  },
  {
   "cell_type": "code",
   "execution_count": 130,
   "metadata": {},
   "outputs": [
    {
     "data": {
      "text/plain": [
       "RandomForestRegressor(n_estimators=200)"
      ]
     },
     "execution_count": 130,
     "metadata": {},
     "output_type": "execute_result"
    }
   ],
   "source": [
    "rfr = RandomForestRegressor(n_estimators=200)\n",
    "rfr.fit(X_train, y_train.ravel())"
   ]
  },
  {
   "cell_type": "code",
   "execution_count": 131,
   "metadata": {},
   "outputs": [
    {
     "data": {
      "text/plain": [
       "0.9937380315391892"
      ]
     },
     "execution_count": 131,
     "metadata": {},
     "output_type": "execute_result"
    }
   ],
   "source": [
    "rfr.score(X_train, y_train)"
   ]
  },
  {
   "cell_type": "code",
   "execution_count": 132,
   "metadata": {},
   "outputs": [
    {
     "data": {
      "text/plain": [
       "0.9694466144596203"
      ]
     },
     "execution_count": 132,
     "metadata": {},
     "output_type": "execute_result"
    }
   ],
   "source": [
    "rfr.score(X_test, y_test)"
   ]
  },
  {
   "cell_type": "markdown",
   "metadata": {},
   "source": [
    "### grid search"
   ]
  },
  {
   "cell_type": "code",
   "execution_count": 133,
   "metadata": {},
   "outputs": [],
   "source": [
    "grid = {'n_estimators': [50, 100, 200], 'max_depth': {3, 5, 7}, 'max_features': [2,3,4,5,6,7,8,9,10,11,12], 'random_state': [42]}\n",
    "test_scores = []"
   ]
  },
  {
   "cell_type": "code",
   "execution_count": 134,
   "metadata": {},
   "outputs": [],
   "source": [
    "for g in ParameterGrid(grid):\n",
    "    rfr.set_params(**g)\n",
    "    rfr.fit(X_train, y_train.ravel())\n",
    "    test_scores.append(rfr.score(X_test, y_test))"
   ]
  },
  {
   "cell_type": "code",
   "execution_count": 149,
   "metadata": {},
   "outputs": [
    {
     "data": {
      "text/plain": [
       "69"
      ]
     },
     "execution_count": 149,
     "metadata": {},
     "output_type": "execute_result"
    }
   ],
   "source": [
    "best_score_index = np.argmax(test_scores)\n",
    "best_score_index"
   ]
  },
  {
   "cell_type": "code",
   "execution_count": 140,
   "metadata": {},
   "outputs": [
    {
     "data": {
      "text/plain": [
       "0.9706200879463951"
      ]
     },
     "execution_count": 140,
     "metadata": {},
     "output_type": "execute_result"
    }
   ],
   "source": [
    "test_scores[best_score_index]"
   ]
  },
  {
   "cell_type": "code",
   "execution_count": 146,
   "metadata": {},
   "outputs": [
    {
     "data": {
      "text/plain": [
       "<sklearn.model_selection._search.ParameterGrid at 0x124c7bed0>"
      ]
     },
     "execution_count": 146,
     "metadata": {},
     "output_type": "execute_result"
    }
   ],
   "source": [
    "ParameterGrid(grid)"
   ]
  },
  {
   "cell_type": "code",
   "execution_count": 153,
   "metadata": {},
   "outputs": [
    {
     "name": "stdout",
     "output_type": "stream",
     "text": [
      "{'max_depth': 7, 'max_features': 3, 'n_estimators': 50, 'random_state': 42}\n"
     ]
    }
   ],
   "source": [
    "index = 0\n",
    "best_grid = dict()\n",
    "for g in ParameterGrid(grid):\n",
    "    if(best_score_index == index):\n",
    "        print(g)\n",
    "        best_grid = g\n",
    "    index = index + 1\n"
   ]
  },
  {
   "cell_type": "code",
   "execution_count": 154,
   "metadata": {},
   "outputs": [
    {
     "name": "stdout",
     "output_type": "stream",
     "text": [
      "0.9706200879463951 {'max_depth': 7, 'max_features': 3, 'n_estimators': 50, 'random_state': 42}\n"
     ]
    }
   ],
   "source": [
    "print(test_scores[best_score_index], best_grid)"
   ]
  },
  {
   "cell_type": "code",
   "execution_count": 155,
   "metadata": {},
   "outputs": [
    {
     "data": {
      "text/plain": [
       "RandomForestRegressor(max_depth=7, max_features=3, n_estimators=50,\n",
       "                      random_state=42)"
      ]
     },
     "execution_count": 155,
     "metadata": {},
     "output_type": "execute_result"
    }
   ],
   "source": [
    "rfr = RandomForestRegressor(max_depth=7, max_features=3, n_estimators=50, random_state=42)\n",
    "rfr.fit(X_train, y_train.ravel())"
   ]
  },
  {
   "cell_type": "code",
   "execution_count": 156,
   "metadata": {},
   "outputs": [
    {
     "data": {
      "text/plain": [
       "0.9749522051898355"
      ]
     },
     "execution_count": 156,
     "metadata": {},
     "output_type": "execute_result"
    }
   ],
   "source": [
    "rfr.score(X_train, y_train)"
   ]
  },
  {
   "cell_type": "code",
   "execution_count": 157,
   "metadata": {},
   "outputs": [
    {
     "data": {
      "text/plain": [
       "0.9706200879463951"
      ]
     },
     "execution_count": 157,
     "metadata": {},
     "output_type": "execute_result"
    }
   ],
   "source": [
    "rfr.score(X_test, y_test)"
   ]
  },
  {
   "cell_type": "code",
   "execution_count": 170,
   "metadata": {},
   "outputs": [
    {
     "data": {
      "image/png": "[encoded data removed]",
      "text/plain": [
       "<Figure size 720x720 with 1 Axes>"
      ]
     },
     "metadata": {},
     "output_type": "display_data"
    }
   ],
   "source": [
    "plt.subplots(figsize=(10,10))\n",
    "\n",
    "train_prediction = rfr.predict(X_train)\n",
    "test_prediction = rfr.predict(X_test)\n",
    "plt.scatter(y_train, train_prediction, label='train')\n",
    "plt.scatter(y_test, test_prediction, label='test')\n",
    "plt.legend()\n",
    "plt.show()"
   ]
  },
  {
   "cell_type": "code",
   "execution_count": 174,
   "metadata": {},
   "outputs": [
    {
     "data": {
      "image/png": "[encoded data removed]",
      "text/plain": [
       "<Figure size 432x288 with 1 Axes>"
      ]
     },
     "metadata": {},
     "output_type": "display_data"
    }
   ],
   "source": [
    "importances = rfr.feature_importances_\n",
    "sorted_index = np.argsort(importances)[::-1]\n",
    "x = range(len(importances))\n",
    "\n",
    "names = ['t-12','t-11','t-10','t-9','t-8','t-7','t-6','t-5','t-4','t-3','t-2','t-1']\n",
    "labels = np.array(names)[sorted_index]\n",
    "\n",
    "plt.bar(x, importances[sorted_index], tick_label=labels)\n",
    "\n",
    "plt.show()"
   ]
  },
  {
   "cell_type": "code",
   "execution_count": null,
   "metadata": {},
   "outputs": [],
   "source": []
  }
 ],
 "metadata": {
  "kernelspec": {
   "display_name": "Python 3",
   "language": "python",
   "name": "python3"
  },
  "language_info": {
   "codemirror_mode": {
    "name": "ipython",
    "version": 3
   },
   "file_extension": ".py",
   "mimetype": "text/x-python",
   "name": "python",
   "nbconvert_exporter": "python",
   "pygments_lexer": "ipython3",
   "version": "3.7.7"
  }
 },
 "nbformat": 4,
 "nbformat_minor": 4
}
