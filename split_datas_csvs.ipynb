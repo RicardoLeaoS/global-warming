{
 "cells": [
  {
   "cell_type": "markdown",
   "metadata": {},
   "source": [
    "# external dependencies"
   ]
  },
  {
   "cell_type": "code",
   "execution_count": 1,
   "metadata": {},
   "outputs": [],
   "source": [
    "import pandas as pd\n",
    "import numpy as np"
   ]
  },
  {
   "cell_type": "markdown",
   "metadata": {},
   "source": [
    "# reading data"
   ]
  },
  {
   "cell_type": "markdown",
   "metadata": {},
   "source": [
    "### splitting data"
   ]
  },
  {
   "cell_type": "code",
   "execution_count": 2,
   "metadata": {},
   "outputs": [],
   "source": [
    "def split_df(df):\n",
    "    trainIndexes = df.sample(frac=1).reset_index(drop=True).index\n",
    "    trainIndexes = trainIndexes[:np.int(len(trainIndexes) * 0.75)].tolist()\n",
    "    testIndexes = [x for x in df.index if x not in trainIndexes]\n",
    "    trainDf = df.iloc[trainIndexes, :]\n",
    "    testDf = df.iloc[testIndexes, :]\n",
    "    \n",
    "    return trainDf, testDf"
   ]
  },
  {
   "cell_type": "markdown",
   "metadata": {},
   "source": [
    "## global temp"
   ]
  },
  {
   "cell_type": "code",
   "execution_count": 3,
   "metadata": {},
   "outputs": [],
   "source": [
    "global_temp_df = pd.read_csv('data/GlobalTemperatures.csv')"
   ]
  },
  {
   "cell_type": "code",
   "execution_count": 4,
   "metadata": {},
   "outputs": [],
   "source": [
    "global_temp_train, global_temp_test = split_df(global_temp_df)\n",
    "global_temp_train.to_csv('data/global_temp_train.csv', index=False)\n",
    "global_temp_test.to_csv('data/global_temp_test.csv', index=False)"
   ]
  },
  {
   "cell_type": "markdown",
   "metadata": {},
   "source": [
    "## co2 concentration"
   ]
  },
  {
   "cell_type": "code",
   "execution_count": 5,
   "metadata": {},
   "outputs": [],
   "source": [
    "co2_concentration_df = pd.read_csv('data/mole_fraction_of_carbon_dioxide_in_air_concentrations.csv')"
   ]
  },
  {
   "cell_type": "code",
   "execution_count": 6,
   "metadata": {},
   "outputs": [],
   "source": [
    "co2_concentration_train, co2_concentration_test = split_df(co2_concentration_df)\n",
    "co2_concentration_train.to_csv('data/co2_concentration_train.csv', index=False)\n",
    "co2_concentration_test.to_csv('data/co2_concentration_test.csv', index=False)"
   ]
  }
 ],
 "metadata": {
  "kernelspec": {
   "display_name": "Python 3",
   "language": "python",
   "name": "python3"
  },
  "language_info": {
   "codemirror_mode": {
    "name": "ipython",
    "version": 3
   },
   "file_extension": ".py",
   "mimetype": "text/x-python",
   "name": "python",
   "nbconvert_exporter": "python",
   "pygments_lexer": "ipython3",
   "version": "3.7.7"
  }
 },
 "nbformat": 4,
 "nbformat_minor": 4
}
