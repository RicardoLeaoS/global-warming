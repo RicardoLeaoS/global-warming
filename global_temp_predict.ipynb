{
 "cells": [
  {
   "cell_type": "markdown",
   "metadata": {},
   "source": [
    "# imports"
   ]
  },
  {
   "cell_type": "code",
   "execution_count": 1,
   "metadata": {},
   "outputs": [],
   "source": [
    "from scipy import stats\n",
    "import matplotlib.pyplot as plt\n",
    "import seaborn as sns\n",
    "\n",
    "import pandas as pd\n",
    "import numpy as np\n",
    "import datetime\n",
    "\n",
    "from statsmodels.graphics.tsaplots import plot_pacf\n",
    "from statsmodels.graphics.tsaplots import plot_acf\n",
    "from statsmodels.tsa.seasonal import seasonal_decompose\n",
    "sns.set(style=\"darkgrid\")\n",
    "\n",
    "\n",
    "\n",
    "from sklearn.tree import DecisionTreeRegressor\n",
    "from sklearn.ensemble import RandomForestRegressor, GradientBoostingRegressor\n",
    "from sklearn.model_selection import ParameterGrid"
   ]
  },
  {
   "cell_type": "code",
   "execution_count": 2,
   "metadata": {},
   "outputs": [],
   "source": [
    "global_temp_df = pd.read_csv('data/global_temp_df.csv')"
   ]
  },
  {
   "cell_type": "code",
   "execution_count": 3,
   "metadata": {},
   "outputs": [],
   "source": [
    "global_temp_df['dt'] = global_temp_df['dt'].apply(lambda x : datetime.datetime.strptime(x, '%Y-%m-%d'))\n",
    "global_temp_df.set_index('dt', inplace=True)"
   ]
  },
  {
   "cell_type": "markdown",
   "metadata": {},
   "source": [
    "## treating data"
   ]
  },
  {
   "cell_type": "code",
   "execution_count": 4,
   "metadata": {},
   "outputs": [],
   "source": [
    "global_temp_diff = pd.DataFrame(global_temp_df['LandAndOceanAverageTemperature'].pct_change())"
   ]
  },
  {
   "cell_type": "code",
   "execution_count": 5,
   "metadata": {},
   "outputs": [
    {
     "data": {
      "text/html": [
       "<div>\n",
       "<style scoped>\n",
       "    .dataframe tbody tr th:only-of-type {\n",
       "        vertical-align: middle;\n",
       "    }\n",
       "\n",
       "    .dataframe tbody tr th {\n",
       "        vertical-align: top;\n",
       "    }\n",
       "\n",
       "    .dataframe thead th {\n",
       "        text-align: right;\n",
       "    }\n",
       "</style>\n",
       "<table border=\"1\" class=\"dataframe\">\n",
       "  <thead>\n",
       "    <tr style=\"text-align: right;\">\n",
       "      <th></th>\n",
       "      <th>LandAndOceanAverageTemperature</th>\n",
       "    </tr>\n",
       "  </thead>\n",
       "  <tbody>\n",
       "    <tr>\n",
       "      <th>count</th>\n",
       "      <td>1991.000000</td>\n",
       "    </tr>\n",
       "    <tr>\n",
       "      <th>mean</th>\n",
       "      <td>0.001012</td>\n",
       "    </tr>\n",
       "    <tr>\n",
       "      <th>std</th>\n",
       "      <td>0.043307</td>\n",
       "    </tr>\n",
       "    <tr>\n",
       "      <th>min</th>\n",
       "      <td>-0.092159</td>\n",
       "    </tr>\n",
       "    <tr>\n",
       "      <th>25%</th>\n",
       "      <td>-0.038357</td>\n",
       "    </tr>\n",
       "    <tr>\n",
       "      <th>50%</th>\n",
       "      <td>0.005111</td>\n",
       "    </tr>\n",
       "    <tr>\n",
       "      <th>75%</th>\n",
       "      <td>0.039829</td>\n",
       "    </tr>\n",
       "    <tr>\n",
       "      <th>max</th>\n",
       "      <td>0.086372</td>\n",
       "    </tr>\n",
       "  </tbody>\n",
       "</table>\n",
       "</div>"
      ],
      "text/plain": [
       "       LandAndOceanAverageTemperature\n",
       "count                     1991.000000\n",
       "mean                         0.001012\n",
       "std                          0.043307\n",
       "min                         -0.092159\n",
       "25%                         -0.038357\n",
       "50%                          0.005111\n",
       "75%                          0.039829\n",
       "max                          0.086372"
      ]
     },
     "execution_count": 5,
     "metadata": {},
     "output_type": "execute_result"
    }
   ],
   "source": [
    "global_temp_diff.describe()"
   ]
  },
  {
   "cell_type": "code",
   "execution_count": 6,
   "metadata": {},
   "outputs": [],
   "source": [
    "global_temp_diff.dropna(inplace=True)"
   ]
  },
  {
   "cell_type": "code",
   "execution_count": 7,
   "metadata": {},
   "outputs": [
    {
     "data": {
      "text/html": [
       "<div>\n",
       "<style scoped>\n",
       "    .dataframe tbody tr th:only-of-type {\n",
       "        vertical-align: middle;\n",
       "    }\n",
       "\n",
       "    .dataframe tbody tr th {\n",
       "        vertical-align: top;\n",
       "    }\n",
       "\n",
       "    .dataframe thead th {\n",
       "        text-align: right;\n",
       "    }\n",
       "</style>\n",
       "<table border=\"1\" class=\"dataframe\">\n",
       "  <thead>\n",
       "    <tr style=\"text-align: right;\">\n",
       "      <th></th>\n",
       "      <th>LandAndOceanAverageTemperature</th>\n",
       "    </tr>\n",
       "    <tr>\n",
       "      <th>dt</th>\n",
       "      <th></th>\n",
       "    </tr>\n",
       "  </thead>\n",
       "  <tbody>\n",
       "    <tr>\n",
       "      <th>1850-02-01</th>\n",
       "      <td>0.058833</td>\n",
       "    </tr>\n",
       "    <tr>\n",
       "      <th>1850-03-01</th>\n",
       "      <td>0.033485</td>\n",
       "    </tr>\n",
       "    <tr>\n",
       "      <th>1850-04-01</th>\n",
       "      <td>0.044435</td>\n",
       "    </tr>\n",
       "    <tr>\n",
       "      <th>1850-05-01</th>\n",
       "      <td>0.057271</td>\n",
       "    </tr>\n",
       "    <tr>\n",
       "      <th>1850-06-01</th>\n",
       "      <td>0.054556</td>\n",
       "    </tr>\n",
       "    <tr>\n",
       "      <th>...</th>\n",
       "      <td>...</td>\n",
       "    </tr>\n",
       "    <tr>\n",
       "      <th>2015-08-01</th>\n",
       "      <td>-0.001249</td>\n",
       "    </tr>\n",
       "    <tr>\n",
       "      <th>2015-09-01</th>\n",
       "      <td>-0.030701</td>\n",
       "    </tr>\n",
       "    <tr>\n",
       "      <th>2015-10-01</th>\n",
       "      <td>-0.044519</td>\n",
       "    </tr>\n",
       "    <tr>\n",
       "      <th>2015-11-01</th>\n",
       "      <td>-0.063720</td>\n",
       "    </tr>\n",
       "    <tr>\n",
       "      <th>2015-12-01</th>\n",
       "      <td>-0.031340</td>\n",
       "    </tr>\n",
       "  </tbody>\n",
       "</table>\n",
       "<p>1991 rows × 1 columns</p>\n",
       "</div>"
      ],
      "text/plain": [
       "            LandAndOceanAverageTemperature\n",
       "dt                                        \n",
       "1850-02-01                        0.058833\n",
       "1850-03-01                        0.033485\n",
       "1850-04-01                        0.044435\n",
       "1850-05-01                        0.057271\n",
       "1850-06-01                        0.054556\n",
       "...                                    ...\n",
       "2015-08-01                       -0.001249\n",
       "2015-09-01                       -0.030701\n",
       "2015-10-01                       -0.044519\n",
       "2015-11-01                       -0.063720\n",
       "2015-12-01                       -0.031340\n",
       "\n",
       "[1991 rows x 1 columns]"
      ]
     },
     "execution_count": 7,
     "metadata": {},
     "output_type": "execute_result"
    }
   ],
   "source": [
    "global_temp_diff"
   ]
  },
  {
   "cell_type": "code",
   "execution_count": 8,
   "metadata": {},
   "outputs": [
    {
     "data": {
      "text/plain": [
       "<matplotlib.axes._subplots.AxesSubplot at 0x124f98bd0>"
      ]
     },
     "execution_count": 8,
     "metadata": {},
     "output_type": "execute_result"
    },
    {
     "data": {
      "image/png": "[encoded data removed]",
      "text/plain": [
       "<Figure size 432x288 with 1 Axes>"
      ]
     },
     "metadata": {},
     "output_type": "display_data"
    }
   ],
   "source": [
    "global_temp_diff['LandAndOceanAverageTemperature'].plot(kind='kde')"
   ]
  },
  {
   "cell_type": "code",
   "execution_count": 9,
   "metadata": {},
   "outputs": [
    {
     "data": {
      "text/plain": [
       "<matplotlib.axes._subplots.AxesSubplot at 0x124f4c790>"
      ]
     },
     "execution_count": 9,
     "metadata": {},
     "output_type": "execute_result"
    },
    {
     "data": {
      "image/png": "[encoded data removed]",
      "text/plain": [
       "<Figure size 432x288 with 1 Axes>"
      ]
     },
     "metadata": {},
     "output_type": "display_data"
    }
   ],
   "source": [
    "global_temp_diff['LandAndOceanAverageTemperature'].plot()"
   ]
  },
  {
   "cell_type": "code",
   "execution_count": 10,
   "metadata": {},
   "outputs": [
    {
     "data": {
      "image/png": "[encoded data removed]",
      "text/plain": [
       "<Figure size 432x288 with 4 Axes>"
      ]
     },
     "metadata": {},
     "output_type": "display_data"
    }
   ],
   "source": [
    "s_decomp = seasonal_decompose(global_temp_diff['LandAndOceanAverageTemperature'], model='additive', period=12)\n",
    "s_decomp.plot()\n",
    "plt.show()"
   ]
  },
  {
   "cell_type": "code",
   "execution_count": 11,
   "metadata": {},
   "outputs": [
    {
     "data": {
      "image/png": "[encoded data removed]",
      "text/plain": [
       "<Figure size 1440x720 with 1 Axes>"
      ]
     },
     "metadata": {},
     "output_type": "display_data"
    }
   ],
   "source": [
    "fig, ax = plt.subplots(figsize=(20,10))\n",
    "\n",
    "ax = plot_acf(global_temp_diff['LandAndOceanAverageTemperature'], ax, title='Global Temperature 1st Difference Autocorrelation')\n",
    "\n",
    "plt.show()"
   ]
  },
  {
   "cell_type": "markdown",
   "metadata": {},
   "source": [
    "## creating lagged DF"
   ]
  },
  {
   "cell_type": "code",
   "execution_count": 12,
   "metadata": {},
   "outputs": [],
   "source": [
    "lagged_df = pd.DataFrame()"
   ]
  },
  {
   "cell_type": "code",
   "execution_count": 13,
   "metadata": {},
   "outputs": [],
   "source": [
    "for i in range(12, 0, -1):\n",
    "    lagged_df[['t-' + str(i)]] = global_temp_diff.shift(i)\n"
   ]
  },
  {
   "cell_type": "code",
   "execution_count": 14,
   "metadata": {},
   "outputs": [],
   "source": [
    "lagged_df['t'] = global_temp_diff['LandAndOceanAverageTemperature']"
   ]
  },
  {
   "cell_type": "code",
   "execution_count": 15,
   "metadata": {},
   "outputs": [
    {
     "data": {
      "text/html": [
       "<div>\n",
       "<style scoped>\n",
       "    .dataframe tbody tr th:only-of-type {\n",
       "        vertical-align: middle;\n",
       "    }\n",
       "\n",
       "    .dataframe tbody tr th {\n",
       "        vertical-align: top;\n",
       "    }\n",
       "\n",
       "    .dataframe thead th {\n",
       "        text-align: right;\n",
       "    }\n",
       "</style>\n",
       "<table border=\"1\" class=\"dataframe\">\n",
       "  <thead>\n",
       "    <tr style=\"text-align: right;\">\n",
       "      <th></th>\n",
       "      <th>t-12</th>\n",
       "      <th>t-11</th>\n",
       "      <th>t-10</th>\n",
       "      <th>t-9</th>\n",
       "      <th>t-8</th>\n",
       "      <th>t-7</th>\n",
       "      <th>t-6</th>\n",
       "      <th>t-5</th>\n",
       "      <th>t-4</th>\n",
       "      <th>t-3</th>\n",
       "      <th>t-2</th>\n",
       "      <th>t-1</th>\n",
       "      <th>t</th>\n",
       "    </tr>\n",
       "    <tr>\n",
       "      <th>dt</th>\n",
       "      <th></th>\n",
       "      <th></th>\n",
       "      <th></th>\n",
       "      <th></th>\n",
       "      <th></th>\n",
       "      <th></th>\n",
       "      <th></th>\n",
       "      <th></th>\n",
       "      <th></th>\n",
       "      <th></th>\n",
       "      <th></th>\n",
       "      <th></th>\n",
       "      <th></th>\n",
       "    </tr>\n",
       "  </thead>\n",
       "  <tbody>\n",
       "    <tr>\n",
       "      <th>1850-02-01</th>\n",
       "      <td>NaN</td>\n",
       "      <td>NaN</td>\n",
       "      <td>NaN</td>\n",
       "      <td>NaN</td>\n",
       "      <td>NaN</td>\n",
       "      <td>NaN</td>\n",
       "      <td>NaN</td>\n",
       "      <td>NaN</td>\n",
       "      <td>NaN</td>\n",
       "      <td>NaN</td>\n",
       "      <td>NaN</td>\n",
       "      <td>NaN</td>\n",
       "      <td>0.058833</td>\n",
       "    </tr>\n",
       "    <tr>\n",
       "      <th>1850-03-01</th>\n",
       "      <td>NaN</td>\n",
       "      <td>NaN</td>\n",
       "      <td>NaN</td>\n",
       "      <td>NaN</td>\n",
       "      <td>NaN</td>\n",
       "      <td>NaN</td>\n",
       "      <td>NaN</td>\n",
       "      <td>NaN</td>\n",
       "      <td>NaN</td>\n",
       "      <td>NaN</td>\n",
       "      <td>NaN</td>\n",
       "      <td>0.058833</td>\n",
       "      <td>0.033485</td>\n",
       "    </tr>\n",
       "    <tr>\n",
       "      <th>1850-04-01</th>\n",
       "      <td>NaN</td>\n",
       "      <td>NaN</td>\n",
       "      <td>NaN</td>\n",
       "      <td>NaN</td>\n",
       "      <td>NaN</td>\n",
       "      <td>NaN</td>\n",
       "      <td>NaN</td>\n",
       "      <td>NaN</td>\n",
       "      <td>NaN</td>\n",
       "      <td>NaN</td>\n",
       "      <td>0.058833</td>\n",
       "      <td>0.033485</td>\n",
       "      <td>0.044435</td>\n",
       "    </tr>\n",
       "    <tr>\n",
       "      <th>1850-05-01</th>\n",
       "      <td>NaN</td>\n",
       "      <td>NaN</td>\n",
       "      <td>NaN</td>\n",
       "      <td>NaN</td>\n",
       "      <td>NaN</td>\n",
       "      <td>NaN</td>\n",
       "      <td>NaN</td>\n",
       "      <td>NaN</td>\n",
       "      <td>NaN</td>\n",
       "      <td>0.058833</td>\n",
       "      <td>0.033485</td>\n",
       "      <td>0.044435</td>\n",
       "      <td>0.057271</td>\n",
       "    </tr>\n",
       "    <tr>\n",
       "      <th>1850-06-01</th>\n",
       "      <td>NaN</td>\n",
       "      <td>NaN</td>\n",
       "      <td>NaN</td>\n",
       "      <td>NaN</td>\n",
       "      <td>NaN</td>\n",
       "      <td>NaN</td>\n",
       "      <td>NaN</td>\n",
       "      <td>NaN</td>\n",
       "      <td>0.058833</td>\n",
       "      <td>0.033485</td>\n",
       "      <td>0.044435</td>\n",
       "      <td>0.057271</td>\n",
       "      <td>0.054556</td>\n",
       "    </tr>\n",
       "    <tr>\n",
       "      <th>...</th>\n",
       "      <td>...</td>\n",
       "      <td>...</td>\n",
       "      <td>...</td>\n",
       "      <td>...</td>\n",
       "      <td>...</td>\n",
       "      <td>...</td>\n",
       "      <td>...</td>\n",
       "      <td>...</td>\n",
       "      <td>...</td>\n",
       "      <td>...</td>\n",
       "      <td>...</td>\n",
       "      <td>...</td>\n",
       "      <td>...</td>\n",
       "    </tr>\n",
       "    <tr>\n",
       "      <th>2015-08-01</th>\n",
       "      <td>0.005655</td>\n",
       "      <td>-0.035895</td>\n",
       "      <td>-0.055729</td>\n",
       "      <td>-0.070497</td>\n",
       "      <td>-0.032821</td>\n",
       "      <td>-0.010756</td>\n",
       "      <td>0.021677</td>\n",
       "      <td>0.043189</td>\n",
       "      <td>0.050615</td>\n",
       "      <td>0.050871</td>\n",
       "      <td>0.036724</td>\n",
       "      <td>0.012708</td>\n",
       "      <td>-0.001249</td>\n",
       "    </tr>\n",
       "    <tr>\n",
       "      <th>2015-09-01</th>\n",
       "      <td>-0.035895</td>\n",
       "      <td>-0.055729</td>\n",
       "      <td>-0.070497</td>\n",
       "      <td>-0.032821</td>\n",
       "      <td>-0.010756</td>\n",
       "      <td>0.021677</td>\n",
       "      <td>0.043189</td>\n",
       "      <td>0.050615</td>\n",
       "      <td>0.050871</td>\n",
       "      <td>0.036724</td>\n",
       "      <td>0.012708</td>\n",
       "      <td>-0.001249</td>\n",
       "      <td>-0.030701</td>\n",
       "    </tr>\n",
       "    <tr>\n",
       "      <th>2015-10-01</th>\n",
       "      <td>-0.055729</td>\n",
       "      <td>-0.070497</td>\n",
       "      <td>-0.032821</td>\n",
       "      <td>-0.010756</td>\n",
       "      <td>0.021677</td>\n",
       "      <td>0.043189</td>\n",
       "      <td>0.050615</td>\n",
       "      <td>0.050871</td>\n",
       "      <td>0.036724</td>\n",
       "      <td>0.012708</td>\n",
       "      <td>-0.001249</td>\n",
       "      <td>-0.030701</td>\n",
       "      <td>-0.044519</td>\n",
       "    </tr>\n",
       "    <tr>\n",
       "      <th>2015-11-01</th>\n",
       "      <td>-0.070497</td>\n",
       "      <td>-0.032821</td>\n",
       "      <td>-0.010756</td>\n",
       "      <td>0.021677</td>\n",
       "      <td>0.043189</td>\n",
       "      <td>0.050615</td>\n",
       "      <td>0.050871</td>\n",
       "      <td>0.036724</td>\n",
       "      <td>0.012708</td>\n",
       "      <td>-0.001249</td>\n",
       "      <td>-0.030701</td>\n",
       "      <td>-0.044519</td>\n",
       "      <td>-0.063720</td>\n",
       "    </tr>\n",
       "    <tr>\n",
       "      <th>2015-12-01</th>\n",
       "      <td>-0.032821</td>\n",
       "      <td>-0.010756</td>\n",
       "      <td>0.021677</td>\n",
       "      <td>0.043189</td>\n",
       "      <td>0.050615</td>\n",
       "      <td>0.050871</td>\n",
       "      <td>0.036724</td>\n",
       "      <td>0.012708</td>\n",
       "      <td>-0.001249</td>\n",
       "      <td>-0.030701</td>\n",
       "      <td>-0.044519</td>\n",
       "      <td>-0.063720</td>\n",
       "      <td>-0.031340</td>\n",
       "    </tr>\n",
       "  </tbody>\n",
       "</table>\n",
       "<p>1991 rows × 13 columns</p>\n",
       "</div>"
      ],
      "text/plain": [
       "                t-12      t-11      t-10       t-9       t-8       t-7  \\\n",
       "dt                                                                       \n",
       "1850-02-01       NaN       NaN       NaN       NaN       NaN       NaN   \n",
       "1850-03-01       NaN       NaN       NaN       NaN       NaN       NaN   \n",
       "1850-04-01       NaN       NaN       NaN       NaN       NaN       NaN   \n",
       "1850-05-01       NaN       NaN       NaN       NaN       NaN       NaN   \n",
       "1850-06-01       NaN       NaN       NaN       NaN       NaN       NaN   \n",
       "...              ...       ...       ...       ...       ...       ...   \n",
       "2015-08-01  0.005655 -0.035895 -0.055729 -0.070497 -0.032821 -0.010756   \n",
       "2015-09-01 -0.035895 -0.055729 -0.070497 -0.032821 -0.010756  0.021677   \n",
       "2015-10-01 -0.055729 -0.070497 -0.032821 -0.010756  0.021677  0.043189   \n",
       "2015-11-01 -0.070497 -0.032821 -0.010756  0.021677  0.043189  0.050615   \n",
       "2015-12-01 -0.032821 -0.010756  0.021677  0.043189  0.050615  0.050871   \n",
       "\n",
       "                 t-6       t-5       t-4       t-3       t-2       t-1  \\\n",
       "dt                                                                       \n",
       "1850-02-01       NaN       NaN       NaN       NaN       NaN       NaN   \n",
       "1850-03-01       NaN       NaN       NaN       NaN       NaN  0.058833   \n",
       "1850-04-01       NaN       NaN       NaN       NaN  0.058833  0.033485   \n",
       "1850-05-01       NaN       NaN       NaN  0.058833  0.033485  0.044435   \n",
       "1850-06-01       NaN       NaN  0.058833  0.033485  0.044435  0.057271   \n",
       "...              ...       ...       ...       ...       ...       ...   \n",
       "2015-08-01  0.021677  0.043189  0.050615  0.050871  0.036724  0.012708   \n",
       "2015-09-01  0.043189  0.050615  0.050871  0.036724  0.012708 -0.001249   \n",
       "2015-10-01  0.050615  0.050871  0.036724  0.012708 -0.001249 -0.030701   \n",
       "2015-11-01  0.050871  0.036724  0.012708 -0.001249 -0.030701 -0.044519   \n",
       "2015-12-01  0.036724  0.012708 -0.001249 -0.030701 -0.044519 -0.063720   \n",
       "\n",
       "                   t  \n",
       "dt                    \n",
       "1850-02-01  0.058833  \n",
       "1850-03-01  0.033485  \n",
       "1850-04-01  0.044435  \n",
       "1850-05-01  0.057271  \n",
       "1850-06-01  0.054556  \n",
       "...              ...  \n",
       "2015-08-01 -0.001249  \n",
       "2015-09-01 -0.030701  \n",
       "2015-10-01 -0.044519  \n",
       "2015-11-01 -0.063720  \n",
       "2015-12-01 -0.031340  \n",
       "\n",
       "[1991 rows x 13 columns]"
      ]
     },
     "execution_count": 15,
     "metadata": {},
     "output_type": "execute_result"
    }
   ],
   "source": [
    "lagged_df"
   ]
  },
  {
   "cell_type": "code",
   "execution_count": 16,
   "metadata": {},
   "outputs": [],
   "source": [
    "lagged_df.dropna(axis=0, inplace=True)"
   ]
  },
  {
   "cell_type": "markdown",
   "metadata": {},
   "source": [
    "### features and target"
   ]
  },
  {
   "cell_type": "code",
   "execution_count": 17,
   "metadata": {},
   "outputs": [
    {
     "data": {
      "text/html": [
       "<div>\n",
       "<style scoped>\n",
       "    .dataframe tbody tr th:only-of-type {\n",
       "        vertical-align: middle;\n",
       "    }\n",
       "\n",
       "    .dataframe tbody tr th {\n",
       "        vertical-align: top;\n",
       "    }\n",
       "\n",
       "    .dataframe thead th {\n",
       "        text-align: right;\n",
       "    }\n",
       "</style>\n",
       "<table border=\"1\" class=\"dataframe\">\n",
       "  <thead>\n",
       "    <tr style=\"text-align: right;\">\n",
       "      <th></th>\n",
       "      <th>t-12</th>\n",
       "      <th>t-11</th>\n",
       "      <th>t-10</th>\n",
       "      <th>t-9</th>\n",
       "      <th>t-8</th>\n",
       "      <th>t-7</th>\n",
       "      <th>t-6</th>\n",
       "      <th>t-5</th>\n",
       "      <th>t-4</th>\n",
       "      <th>t-3</th>\n",
       "      <th>t-2</th>\n",
       "      <th>t-1</th>\n",
       "    </tr>\n",
       "    <tr>\n",
       "      <th>dt</th>\n",
       "      <th></th>\n",
       "      <th></th>\n",
       "      <th></th>\n",
       "      <th></th>\n",
       "      <th></th>\n",
       "      <th></th>\n",
       "      <th></th>\n",
       "      <th></th>\n",
       "      <th></th>\n",
       "      <th></th>\n",
       "      <th></th>\n",
       "      <th></th>\n",
       "    </tr>\n",
       "  </thead>\n",
       "  <tbody>\n",
       "    <tr>\n",
       "      <th>1851-02-01</th>\n",
       "      <td>0.058833</td>\n",
       "      <td>0.033485</td>\n",
       "      <td>0.044435</td>\n",
       "      <td>0.057271</td>\n",
       "      <td>0.054556</td>\n",
       "      <td>0.026295</td>\n",
       "      <td>-0.003873</td>\n",
       "      <td>-0.049767</td>\n",
       "      <td>-0.066411</td>\n",
       "      <td>-0.062976</td>\n",
       "      <td>-0.042959</td>\n",
       "      <td>-0.004135</td>\n",
       "    </tr>\n",
       "    <tr>\n",
       "      <th>1851-03-01</th>\n",
       "      <td>0.033485</td>\n",
       "      <td>0.044435</td>\n",
       "      <td>0.057271</td>\n",
       "      <td>0.054556</td>\n",
       "      <td>0.026295</td>\n",
       "      <td>-0.003873</td>\n",
       "      <td>-0.049767</td>\n",
       "      <td>-0.066411</td>\n",
       "      <td>-0.062976</td>\n",
       "      <td>-0.042959</td>\n",
       "      <td>-0.004135</td>\n",
       "      <td>0.006493</td>\n",
       "    </tr>\n",
       "    <tr>\n",
       "      <th>1851-04-01</th>\n",
       "      <td>0.044435</td>\n",
       "      <td>0.057271</td>\n",
       "      <td>0.054556</td>\n",
       "      <td>0.026295</td>\n",
       "      <td>-0.003873</td>\n",
       "      <td>-0.049767</td>\n",
       "      <td>-0.066411</td>\n",
       "      <td>-0.062976</td>\n",
       "      <td>-0.042959</td>\n",
       "      <td>-0.004135</td>\n",
       "      <td>0.006493</td>\n",
       "      <td>0.042457</td>\n",
       "    </tr>\n",
       "    <tr>\n",
       "      <th>1851-05-01</th>\n",
       "      <td>0.057271</td>\n",
       "      <td>0.054556</td>\n",
       "      <td>0.026295</td>\n",
       "      <td>-0.003873</td>\n",
       "      <td>-0.049767</td>\n",
       "      <td>-0.066411</td>\n",
       "      <td>-0.062976</td>\n",
       "      <td>-0.042959</td>\n",
       "      <td>-0.004135</td>\n",
       "      <td>0.006493</td>\n",
       "      <td>0.042457</td>\n",
       "      <td>0.053465</td>\n",
       "    </tr>\n",
       "    <tr>\n",
       "      <th>1851-06-01</th>\n",
       "      <td>0.054556</td>\n",
       "      <td>0.026295</td>\n",
       "      <td>-0.003873</td>\n",
       "      <td>-0.049767</td>\n",
       "      <td>-0.066411</td>\n",
       "      <td>-0.062976</td>\n",
       "      <td>-0.042959</td>\n",
       "      <td>-0.004135</td>\n",
       "      <td>0.006493</td>\n",
       "      <td>0.042457</td>\n",
       "      <td>0.053465</td>\n",
       "      <td>0.077254</td>\n",
       "    </tr>\n",
       "    <tr>\n",
       "      <th>...</th>\n",
       "      <td>...</td>\n",
       "      <td>...</td>\n",
       "      <td>...</td>\n",
       "      <td>...</td>\n",
       "      <td>...</td>\n",
       "      <td>...</td>\n",
       "      <td>...</td>\n",
       "      <td>...</td>\n",
       "      <td>...</td>\n",
       "      <td>...</td>\n",
       "      <td>...</td>\n",
       "      <td>...</td>\n",
       "    </tr>\n",
       "    <tr>\n",
       "      <th>2015-08-01</th>\n",
       "      <td>0.005655</td>\n",
       "      <td>-0.035895</td>\n",
       "      <td>-0.055729</td>\n",
       "      <td>-0.070497</td>\n",
       "      <td>-0.032821</td>\n",
       "      <td>-0.010756</td>\n",
       "      <td>0.021677</td>\n",
       "      <td>0.043189</td>\n",
       "      <td>0.050615</td>\n",
       "      <td>0.050871</td>\n",
       "      <td>0.036724</td>\n",
       "      <td>0.012708</td>\n",
       "    </tr>\n",
       "    <tr>\n",
       "      <th>2015-09-01</th>\n",
       "      <td>-0.035895</td>\n",
       "      <td>-0.055729</td>\n",
       "      <td>-0.070497</td>\n",
       "      <td>-0.032821</td>\n",
       "      <td>-0.010756</td>\n",
       "      <td>0.021677</td>\n",
       "      <td>0.043189</td>\n",
       "      <td>0.050615</td>\n",
       "      <td>0.050871</td>\n",
       "      <td>0.036724</td>\n",
       "      <td>0.012708</td>\n",
       "      <td>-0.001249</td>\n",
       "    </tr>\n",
       "    <tr>\n",
       "      <th>2015-10-01</th>\n",
       "      <td>-0.055729</td>\n",
       "      <td>-0.070497</td>\n",
       "      <td>-0.032821</td>\n",
       "      <td>-0.010756</td>\n",
       "      <td>0.021677</td>\n",
       "      <td>0.043189</td>\n",
       "      <td>0.050615</td>\n",
       "      <td>0.050871</td>\n",
       "      <td>0.036724</td>\n",
       "      <td>0.012708</td>\n",
       "      <td>-0.001249</td>\n",
       "      <td>-0.030701</td>\n",
       "    </tr>\n",
       "    <tr>\n",
       "      <th>2015-11-01</th>\n",
       "      <td>-0.070497</td>\n",
       "      <td>-0.032821</td>\n",
       "      <td>-0.010756</td>\n",
       "      <td>0.021677</td>\n",
       "      <td>0.043189</td>\n",
       "      <td>0.050615</td>\n",
       "      <td>0.050871</td>\n",
       "      <td>0.036724</td>\n",
       "      <td>0.012708</td>\n",
       "      <td>-0.001249</td>\n",
       "      <td>-0.030701</td>\n",
       "      <td>-0.044519</td>\n",
       "    </tr>\n",
       "    <tr>\n",
       "      <th>2015-12-01</th>\n",
       "      <td>-0.032821</td>\n",
       "      <td>-0.010756</td>\n",
       "      <td>0.021677</td>\n",
       "      <td>0.043189</td>\n",
       "      <td>0.050615</td>\n",
       "      <td>0.050871</td>\n",
       "      <td>0.036724</td>\n",
       "      <td>0.012708</td>\n",
       "      <td>-0.001249</td>\n",
       "      <td>-0.030701</td>\n",
       "      <td>-0.044519</td>\n",
       "      <td>-0.063720</td>\n",
       "    </tr>\n",
       "  </tbody>\n",
       "</table>\n",
       "<p>1979 rows × 12 columns</p>\n",
       "</div>"
      ],
      "text/plain": [
       "                t-12      t-11      t-10       t-9       t-8       t-7  \\\n",
       "dt                                                                       \n",
       "1851-02-01  0.058833  0.033485  0.044435  0.057271  0.054556  0.026295   \n",
       "1851-03-01  0.033485  0.044435  0.057271  0.054556  0.026295 -0.003873   \n",
       "1851-04-01  0.044435  0.057271  0.054556  0.026295 -0.003873 -0.049767   \n",
       "1851-05-01  0.057271  0.054556  0.026295 -0.003873 -0.049767 -0.066411   \n",
       "1851-06-01  0.054556  0.026295 -0.003873 -0.049767 -0.066411 -0.062976   \n",
       "...              ...       ...       ...       ...       ...       ...   \n",
       "2015-08-01  0.005655 -0.035895 -0.055729 -0.070497 -0.032821 -0.010756   \n",
       "2015-09-01 -0.035895 -0.055729 -0.070497 -0.032821 -0.010756  0.021677   \n",
       "2015-10-01 -0.055729 -0.070497 -0.032821 -0.010756  0.021677  0.043189   \n",
       "2015-11-01 -0.070497 -0.032821 -0.010756  0.021677  0.043189  0.050615   \n",
       "2015-12-01 -0.032821 -0.010756  0.021677  0.043189  0.050615  0.050871   \n",
       "\n",
       "                 t-6       t-5       t-4       t-3       t-2       t-1  \n",
       "dt                                                                      \n",
       "1851-02-01 -0.003873 -0.049767 -0.066411 -0.062976 -0.042959 -0.004135  \n",
       "1851-03-01 -0.049767 -0.066411 -0.062976 -0.042959 -0.004135  0.006493  \n",
       "1851-04-01 -0.066411 -0.062976 -0.042959 -0.004135  0.006493  0.042457  \n",
       "1851-05-01 -0.062976 -0.042959 -0.004135  0.006493  0.042457  0.053465  \n",
       "1851-06-01 -0.042959 -0.004135  0.006493  0.042457  0.053465  0.077254  \n",
       "...              ...       ...       ...       ...       ...       ...  \n",
       "2015-08-01  0.021677  0.043189  0.050615  0.050871  0.036724  0.012708  \n",
       "2015-09-01  0.043189  0.050615  0.050871  0.036724  0.012708 -0.001249  \n",
       "2015-10-01  0.050615  0.050871  0.036724  0.012708 -0.001249 -0.030701  \n",
       "2015-11-01  0.050871  0.036724  0.012708 -0.001249 -0.030701 -0.044519  \n",
       "2015-12-01  0.036724  0.012708 -0.001249 -0.030701 -0.044519 -0.063720  \n",
       "\n",
       "[1979 rows x 12 columns]"
      ]
     },
     "execution_count": 17,
     "metadata": {},
     "output_type": "execute_result"
    }
   ],
   "source": [
    "lagged_df.iloc[:, :-1]"
   ]
  },
  {
   "cell_type": "code",
   "execution_count": 18,
   "metadata": {},
   "outputs": [
    {
     "data": {
      "text/html": [
       "<div>\n",
       "<style scoped>\n",
       "    .dataframe tbody tr th:only-of-type {\n",
       "        vertical-align: middle;\n",
       "    }\n",
       "\n",
       "    .dataframe tbody tr th {\n",
       "        vertical-align: top;\n",
       "    }\n",
       "\n",
       "    .dataframe thead th {\n",
       "        text-align: right;\n",
       "    }\n",
       "</style>\n",
       "<table border=\"1\" class=\"dataframe\">\n",
       "  <thead>\n",
       "    <tr style=\"text-align: right;\">\n",
       "      <th></th>\n",
       "      <th>t</th>\n",
       "    </tr>\n",
       "    <tr>\n",
       "      <th>dt</th>\n",
       "      <th></th>\n",
       "    </tr>\n",
       "  </thead>\n",
       "  <tbody>\n",
       "    <tr>\n",
       "      <th>1851-02-01</th>\n",
       "      <td>0.006493</td>\n",
       "    </tr>\n",
       "    <tr>\n",
       "      <th>1851-03-01</th>\n",
       "      <td>0.042457</td>\n",
       "    </tr>\n",
       "    <tr>\n",
       "      <th>1851-04-01</th>\n",
       "      <td>0.053465</td>\n",
       "    </tr>\n",
       "    <tr>\n",
       "      <th>1851-05-01</th>\n",
       "      <td>0.077254</td>\n",
       "    </tr>\n",
       "    <tr>\n",
       "      <th>1851-06-01</th>\n",
       "      <td>0.045970</td>\n",
       "    </tr>\n",
       "    <tr>\n",
       "      <th>...</th>\n",
       "      <td>...</td>\n",
       "    </tr>\n",
       "    <tr>\n",
       "      <th>2015-08-01</th>\n",
       "      <td>-0.001249</td>\n",
       "    </tr>\n",
       "    <tr>\n",
       "      <th>2015-09-01</th>\n",
       "      <td>-0.030701</td>\n",
       "    </tr>\n",
       "    <tr>\n",
       "      <th>2015-10-01</th>\n",
       "      <td>-0.044519</td>\n",
       "    </tr>\n",
       "    <tr>\n",
       "      <th>2015-11-01</th>\n",
       "      <td>-0.063720</td>\n",
       "    </tr>\n",
       "    <tr>\n",
       "      <th>2015-12-01</th>\n",
       "      <td>-0.031340</td>\n",
       "    </tr>\n",
       "  </tbody>\n",
       "</table>\n",
       "<p>1979 rows × 1 columns</p>\n",
       "</div>"
      ],
      "text/plain": [
       "                   t\n",
       "dt                  \n",
       "1851-02-01  0.006493\n",
       "1851-03-01  0.042457\n",
       "1851-04-01  0.053465\n",
       "1851-05-01  0.077254\n",
       "1851-06-01  0.045970\n",
       "...              ...\n",
       "2015-08-01 -0.001249\n",
       "2015-09-01 -0.030701\n",
       "2015-10-01 -0.044519\n",
       "2015-11-01 -0.063720\n",
       "2015-12-01 -0.031340\n",
       "\n",
       "[1979 rows x 1 columns]"
      ]
     },
     "execution_count": 18,
     "metadata": {},
     "output_type": "execute_result"
    }
   ],
   "source": [
    "lagged_df.iloc[:, -1:]"
   ]
  },
  {
   "cell_type": "code",
   "execution_count": 19,
   "metadata": {},
   "outputs": [],
   "source": [
    "X = lagged_df.iloc[:, :-1].values\n",
    "y = lagged_df.iloc[:, -1:].values"
   ]
  },
  {
   "cell_type": "code",
   "execution_count": 20,
   "metadata": {},
   "outputs": [],
   "source": [
    "train_size = int(len(X) * 0.8)"
   ]
  },
  {
   "cell_type": "code",
   "execution_count": 21,
   "metadata": {},
   "outputs": [],
   "source": [
    "X_train, X_test, y_train, y_test = X[0:train_size], X[train_size:len(X)], y[0:train_size], y[train_size:len(X)]"
   ]
  },
  {
   "cell_type": "code",
   "execution_count": 22,
   "metadata": {},
   "outputs": [
    {
     "name": "stdout",
     "output_type": "stream",
     "text": [
      "train size 1583\n",
      "test size 396\n"
     ]
    }
   ],
   "source": [
    "print('train size ' +str(len(X_train) ))\n",
    "\n",
    "print('test size ' +str(len(X_test) ))"
   ]
  },
  {
   "cell_type": "markdown",
   "metadata": {},
   "source": [
    "## Decicion Tree\n",
    "\n",
    "does not work well with data w trend"
   ]
  },
  {
   "cell_type": "code",
   "execution_count": 23,
   "metadata": {},
   "outputs": [
    {
     "data": {
      "text/plain": [
       "DecisionTreeRegressor(max_depth=5)"
      ]
     },
     "execution_count": 23,
     "metadata": {},
     "output_type": "execute_result"
    }
   ],
   "source": [
    "global_temp_tree = DecisionTreeRegressor(max_depth= 5)\n",
    "global_temp_tree.fit(X_train, y_train)"
   ]
  },
  {
   "cell_type": "code",
   "execution_count": 24,
   "metadata": {},
   "outputs": [
    {
     "data": {
      "text/plain": [
       "0.9607051766464941"
      ]
     },
     "execution_count": 24,
     "metadata": {},
     "output_type": "execute_result"
    }
   ],
   "source": [
    "global_temp_tree.score(X_train, y_train)"
   ]
  },
  {
   "cell_type": "code",
   "execution_count": 25,
   "metadata": {},
   "outputs": [
    {
     "data": {
      "text/plain": [
       "0.9510554528250295"
      ]
     },
     "execution_count": 25,
     "metadata": {},
     "output_type": "execute_result"
    }
   ],
   "source": [
    "global_temp_tree.score(X_test, y_test)"
   ]
  },
  {
   "cell_type": "code",
   "execution_count": 26,
   "metadata": {},
   "outputs": [
    {
     "data": {
      "image/png": "[encoded data removed]",
      "text/plain": [
       "<Figure size 720x720 with 1 Axes>"
      ]
     },
     "metadata": {},
     "output_type": "display_data"
    }
   ],
   "source": [
    "plt.subplots(figsize=(10,10))\n",
    "\n",
    "# making predictions\n",
    "train_prediction = global_temp_tree.predict(X_train)\n",
    "test_prediction = global_temp_tree.predict(X_test)\n",
    "\n",
    "# scatter with predictions and actual values\n",
    "\n",
    "\n",
    "plt.scatter(y_train, train_prediction, label='train')\n",
    "plt.scatter(y_test, test_prediction, label='test')\n",
    "plt.legend()\n",
    "plt.show()"
   ]
  },
  {
   "cell_type": "markdown",
   "metadata": {},
   "source": [
    "## Random Forest"
   ]
  },
  {
   "cell_type": "code",
   "execution_count": 42,
   "metadata": {},
   "outputs": [
    {
     "data": {
      "text/plain": [
       "RandomForestRegressor(n_estimators=200, random_state=42)"
      ]
     },
     "execution_count": 42,
     "metadata": {},
     "output_type": "execute_result"
    }
   ],
   "source": [
    "rfr = RandomForestRegressor(n_estimators=200, random_state=42)\n",
    "rfr.fit(X_train, y_train.ravel())"
   ]
  },
  {
   "cell_type": "code",
   "execution_count": 43,
   "metadata": {},
   "outputs": [
    {
     "data": {
      "text/plain": [
       "0.9933541834276679"
      ]
     },
     "execution_count": 43,
     "metadata": {},
     "output_type": "execute_result"
    }
   ],
   "source": [
    "rfr.score(X_train, y_train)"
   ]
  },
  {
   "cell_type": "code",
   "execution_count": 44,
   "metadata": {},
   "outputs": [
    {
     "data": {
      "text/plain": [
       "0.9646418082635759"
      ]
     },
     "execution_count": 44,
     "metadata": {},
     "output_type": "execute_result"
    }
   ],
   "source": [
    "rfr.score(X_test, y_test)"
   ]
  },
  {
   "cell_type": "markdown",
   "metadata": {},
   "source": [
    "### grid search"
   ]
  },
  {
   "cell_type": "code",
   "execution_count": 30,
   "metadata": {},
   "outputs": [],
   "source": [
    "grid = {'n_estimators': [50, 100, 200], 'max_depth': {3, 5, 7}, 'max_features': [2,3,4,5,6,7,8,9,10,11,12], 'random_state': [42]}\n",
    "test_scores = []"
   ]
  },
  {
   "cell_type": "code",
   "execution_count": 31,
   "metadata": {},
   "outputs": [],
   "source": [
    "for g in ParameterGrid(grid):\n",
    "    rfr.set_params(**g)\n",
    "    rfr.fit(X_train, y_train.ravel())\n",
    "    test_scores.append(rfr.score(X_test, y_test))"
   ]
  },
  {
   "cell_type": "code",
   "execution_count": 61,
   "metadata": {},
   "outputs": [],
   "source": [
    "best_score_index = np.argmax(test_scores)"
   ]
  },
  {
   "cell_type": "code",
   "execution_count": 62,
   "metadata": {},
   "outputs": [],
   "source": [
    "bestGrid = list(ParameterGrid(grid))[best_score_index]"
   ]
  },
  {
   "cell_type": "code",
   "execution_count": 63,
   "metadata": {},
   "outputs": [
    {
     "name": "stdout",
     "output_type": "stream",
     "text": [
      "0.9651212708077237 {'max_depth': 7, 'max_features': 5, 'n_estimators': 100, 'random_state': 42}\n"
     ]
    }
   ],
   "source": [
    "print(test_scores[best_score_index], bestGrid)"
   ]
  },
  {
   "cell_type": "code",
   "execution_count": 64,
   "metadata": {},
   "outputs": [
    {
     "data": {
      "text/plain": [
       "RandomForestRegressor(max_depth=7, max_features=5, random_state=42)"
      ]
     },
     "execution_count": 64,
     "metadata": {},
     "output_type": "execute_result"
    }
   ],
   "source": [
    "rfr.set_params(**bestGrid)\n",
    "rfr.fit(X_train, y_train.ravel())"
   ]
  },
  {
   "cell_type": "code",
   "execution_count": 65,
   "metadata": {},
   "outputs": [
    {
     "data": {
      "text/plain": [
       "0.9742495628867105"
      ]
     },
     "execution_count": 65,
     "metadata": {},
     "output_type": "execute_result"
    }
   ],
   "source": [
    "rfr.score(X_train, y_train)"
   ]
  },
  {
   "cell_type": "code",
   "execution_count": 66,
   "metadata": {},
   "outputs": [
    {
     "data": {
      "text/plain": [
       "0.9651212708077237"
      ]
     },
     "execution_count": 66,
     "metadata": {},
     "output_type": "execute_result"
    }
   ],
   "source": [
    "rfr.score(X_test, y_test)"
   ]
  },
  {
   "cell_type": "code",
   "execution_count": 40,
   "metadata": {},
   "outputs": [
    {
     "data": {
      "image/png": "[encoded data removed]",
      "text/plain": [
       "<Figure size 720x720 with 1 Axes>"
      ]
     },
     "metadata": {},
     "output_type": "display_data"
    }
   ],
   "source": [
    "plt.subplots(figsize=(10,10))\n",
    "\n",
    "# making predictions\n",
    "train_prediction = rfr.predict(X_train)\n",
    "test_prediction = rfr.predict(X_test)\n",
    "\n",
    "# scatter with predictions and actual values\n",
    "plt.scatter(y_train, train_prediction, label='train')\n",
    "plt.scatter(y_test, test_prediction, label='test')\n",
    "plt.legend()\n",
    "plt.show()"
   ]
  },
  {
   "cell_type": "code",
   "execution_count": 41,
   "metadata": {},
   "outputs": [
    {
     "data": {
      "image/png": "[encoded data removed]",
      "text/plain": [
       "<Figure size 432x288 with 1 Axes>"
      ]
     },
     "metadata": {},
     "output_type": "display_data"
    }
   ],
   "source": [
    "# importances of each feature in the model\n",
    "importances = rfr.feature_importances_\n",
    "\n",
    "# sort index by importances\n",
    "sorted_index = np.argsort(importances)[::-1]\n",
    "x = range(len(importances))\n",
    "\n",
    "# label names\n",
    "names = ['t-12','t-11','t-10','t-9','t-8','t-7','t-6','t-5','t-4','t-3','t-2','t-1']\n",
    "# labels to importances\n",
    "labels = np.array(names)[sorted_index]\n",
    "\n",
    "plt.bar(x, importances[sorted_index], tick_label=labels)\n",
    "\n",
    "plt.show()"
   ]
  },
  {
   "cell_type": "code",
   "execution_count": null,
   "metadata": {},
   "outputs": [],
   "source": []
  }
 ],
 "metadata": {
  "kernelspec": {
   "display_name": "Python 3",
   "language": "python",
   "name": "python3"
  },
  "language_info": {
   "codemirror_mode": {
    "name": "ipython",
    "version": 3
   },
   "file_extension": ".py",
   "mimetype": "text/x-python",
   "name": "python",
   "nbconvert_exporter": "python",
   "pygments_lexer": "ipython3",
   "version": "3.7.7"
  }
 },
 "nbformat": 4,
 "nbformat_minor": 4
}
