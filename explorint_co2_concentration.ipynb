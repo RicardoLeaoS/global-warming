{
 "cells": [
  {
   "cell_type": "markdown",
   "metadata": {},
   "source": [
    "# importing"
   ]
  },
  {
   "cell_type": "code",
   "execution_count": 1,
   "metadata": {},
   "outputs": [],
   "source": [
    "from scipy import stats\n",
    "import matplotlib.pyplot as plt\n",
    "import seaborn as sns\n",
    "\n",
    "import pandas as pd\n",
    "import numpy as np\n",
    "import datetime\n",
    "\n",
    "\n",
    "from statsmodels.graphics.tsaplots import plot_pacf\n",
    "from statsmodels.graphics.tsaplots import plot_acf\n",
    "sns.set(style=\"darkgrid\")"
   ]
  },
  {
   "cell_type": "markdown",
   "metadata": {},
   "source": [
    "# CO2 concentration"
   ]
  },
  {
   "cell_type": "code",
   "execution_count": 2,
   "metadata": {},
   "outputs": [],
   "source": [
    "co2_concentration_df = pd.read_csv('data/co2_concentration.csv')"
   ]
  },
  {
   "cell_type": "code",
   "execution_count": 3,
   "metadata": {},
   "outputs": [
    {
     "name": "stdout",
     "output_type": "stream",
     "text": [
      "<class 'pandas.core.frame.DataFrame'>\n",
      "RangeIndex: 24180 entries, 0 to 24179\n",
      "Data columns (total 8 columns):\n",
      " #   Column            Non-Null Count  Dtype  \n",
      "---  ------            --------------  -----  \n",
      " 0   datenum           24180 non-null  int64  \n",
      " 1   year              24180 non-null  int64  \n",
      " 2   month             24180 non-null  int64  \n",
      " 3   day               24180 non-null  int64  \n",
      " 4   datetime          24180 non-null  object \n",
      " 5   data_mean_global  24180 non-null  float64\n",
      " 6   data_mean_nh      24180 non-null  float64\n",
      " 7   data_mean_sh      24180 non-null  float64\n",
      "dtypes: float64(3), int64(4), object(1)\n",
      "memory usage: 1.5+ MB\n"
     ]
    }
   ],
   "source": [
    "co2_concentration_df.info()"
   ]
  },
  {
   "cell_type": "code",
   "execution_count": 4,
   "metadata": {},
   "outputs": [
    {
     "data": {
      "text/html": [
       "<div>\n",
       "<style scoped>\n",
       "    .dataframe tbody tr th:only-of-type {\n",
       "        vertical-align: middle;\n",
       "    }\n",
       "\n",
       "    .dataframe tbody tr th {\n",
       "        vertical-align: top;\n",
       "    }\n",
       "\n",
       "    .dataframe thead th {\n",
       "        text-align: right;\n",
       "    }\n",
       "</style>\n",
       "<table border=\"1\" class=\"dataframe\">\n",
       "  <thead>\n",
       "    <tr style=\"text-align: right;\">\n",
       "      <th></th>\n",
       "      <th>datenum</th>\n",
       "      <th>year</th>\n",
       "      <th>month</th>\n",
       "      <th>day</th>\n",
       "      <th>data_mean_global</th>\n",
       "      <th>data_mean_nh</th>\n",
       "      <th>data_mean_sh</th>\n",
       "    </tr>\n",
       "  </thead>\n",
       "  <tbody>\n",
       "    <tr>\n",
       "      <th>count</th>\n",
       "      <td>24180.000000</td>\n",
       "      <td>24180.000000</td>\n",
       "      <td>24180.000000</td>\n",
       "      <td>24180.0</td>\n",
       "      <td>24180.000000</td>\n",
       "      <td>24180.000000</td>\n",
       "      <td>24180.000000</td>\n",
       "    </tr>\n",
       "    <tr>\n",
       "      <th>mean</th>\n",
       "      <td>367981.278908</td>\n",
       "      <td>1007.000000</td>\n",
       "      <td>6.500000</td>\n",
       "      <td>15.0</td>\n",
       "      <td>282.609005</td>\n",
       "      <td>282.649649</td>\n",
       "      <td>282.568361</td>\n",
       "    </tr>\n",
       "    <tr>\n",
       "      <th>std</th>\n",
       "      <td>212458.753155</td>\n",
       "      <td>581.692353</td>\n",
       "      <td>3.452124</td>\n",
       "      <td>0.0</td>\n",
       "      <td>13.293774</td>\n",
       "      <td>13.697621</td>\n",
       "      <td>13.018358</td>\n",
       "    </tr>\n",
       "    <tr>\n",
       "      <th>min</th>\n",
       "      <td>15.000000</td>\n",
       "      <td>0.000000</td>\n",
       "      <td>1.000000</td>\n",
       "      <td>15.0</td>\n",
       "      <td>273.830262</td>\n",
       "      <td>271.497654</td>\n",
       "      <td>276.028855</td>\n",
       "    </tr>\n",
       "    <tr>\n",
       "      <th>25%</th>\n",
       "      <td>183997.500000</td>\n",
       "      <td>503.000000</td>\n",
       "      <td>3.750000</td>\n",
       "      <td>15.0</td>\n",
       "      <td>278.019756</td>\n",
       "      <td>277.614363</td>\n",
       "      <td>278.058685</td>\n",
       "    </tr>\n",
       "    <tr>\n",
       "      <th>50%</th>\n",
       "      <td>367980.000000</td>\n",
       "      <td>1007.000000</td>\n",
       "      <td>6.500000</td>\n",
       "      <td>15.0</td>\n",
       "      <td>279.807560</td>\n",
       "      <td>280.284309</td>\n",
       "      <td>279.414571</td>\n",
       "    </tr>\n",
       "    <tr>\n",
       "      <th>75%</th>\n",
       "      <td>551962.750000</td>\n",
       "      <td>1511.000000</td>\n",
       "      <td>9.250000</td>\n",
       "      <td>15.0</td>\n",
       "      <td>281.964426</td>\n",
       "      <td>282.660256</td>\n",
       "      <td>281.791037</td>\n",
       "    </tr>\n",
       "    <tr>\n",
       "      <th>max</th>\n",
       "      <td>735948.000000</td>\n",
       "      <td>2014.000000</td>\n",
       "      <td>12.000000</td>\n",
       "      <td>15.0</td>\n",
       "      <td>399.179692</td>\n",
       "      <td>403.127557</td>\n",
       "      <td>396.164296</td>\n",
       "    </tr>\n",
       "  </tbody>\n",
       "</table>\n",
       "</div>"
      ],
      "text/plain": [
       "             datenum          year         month      day  data_mean_global  \\\n",
       "count   24180.000000  24180.000000  24180.000000  24180.0      24180.000000   \n",
       "mean   367981.278908   1007.000000      6.500000     15.0        282.609005   \n",
       "std    212458.753155    581.692353      3.452124      0.0         13.293774   \n",
       "min        15.000000      0.000000      1.000000     15.0        273.830262   \n",
       "25%    183997.500000    503.000000      3.750000     15.0        278.019756   \n",
       "50%    367980.000000   1007.000000      6.500000     15.0        279.807560   \n",
       "75%    551962.750000   1511.000000      9.250000     15.0        281.964426   \n",
       "max    735948.000000   2014.000000     12.000000     15.0        399.179692   \n",
       "\n",
       "       data_mean_nh  data_mean_sh  \n",
       "count  24180.000000  24180.000000  \n",
       "mean     282.649649    282.568361  \n",
       "std       13.697621     13.018358  \n",
       "min      271.497654    276.028855  \n",
       "25%      277.614363    278.058685  \n",
       "50%      280.284309    279.414571  \n",
       "75%      282.660256    281.791037  \n",
       "max      403.127557    396.164296  "
      ]
     },
     "execution_count": 4,
     "metadata": {},
     "output_type": "execute_result"
    }
   ],
   "source": [
    "co2_concentration_df.describe()"
   ]
  },
  {
   "cell_type": "code",
   "execution_count": 5,
   "metadata": {},
   "outputs": [
    {
     "data": {
      "text/plain": [
       "datenum               int64\n",
       "year                  int64\n",
       "month                 int64\n",
       "day                   int64\n",
       "datetime             object\n",
       "data_mean_global    float64\n",
       "data_mean_nh        float64\n",
       "data_mean_sh        float64\n",
       "dtype: object"
      ]
     },
     "execution_count": 5,
     "metadata": {},
     "output_type": "execute_result"
    }
   ],
   "source": [
    "co2_concentration_df.dtypes"
   ]
  },
  {
   "cell_type": "code",
   "execution_count": 6,
   "metadata": {},
   "outputs": [
    {
     "data": {
      "text/html": [
       "<div>\n",
       "<style scoped>\n",
       "    .dataframe tbody tr th:only-of-type {\n",
       "        vertical-align: middle;\n",
       "    }\n",
       "\n",
       "    .dataframe tbody tr th {\n",
       "        vertical-align: top;\n",
       "    }\n",
       "\n",
       "    .dataframe thead th {\n",
       "        text-align: right;\n",
       "    }\n",
       "</style>\n",
       "<table border=\"1\" class=\"dataframe\">\n",
       "  <thead>\n",
       "    <tr style=\"text-align: right;\">\n",
       "      <th></th>\n",
       "      <th>datenum</th>\n",
       "      <th>year</th>\n",
       "      <th>month</th>\n",
       "      <th>day</th>\n",
       "      <th>datetime</th>\n",
       "      <th>data_mean_global</th>\n",
       "      <th>data_mean_nh</th>\n",
       "      <th>data_mean_sh</th>\n",
       "    </tr>\n",
       "  </thead>\n",
       "  <tbody>\n",
       "    <tr>\n",
       "      <th>0</th>\n",
       "      <td>15</td>\n",
       "      <td>0</td>\n",
       "      <td>1</td>\n",
       "      <td>15</td>\n",
       "      <td>15-Jan-0000 00:00:00</td>\n",
       "      <td>278.366439</td>\n",
       "      <td>279.045659</td>\n",
       "      <td>277.687219</td>\n",
       "    </tr>\n",
       "    <tr>\n",
       "      <th>1</th>\n",
       "      <td>46</td>\n",
       "      <td>0</td>\n",
       "      <td>2</td>\n",
       "      <td>15</td>\n",
       "      <td>15-Feb-0000 00:00:00</td>\n",
       "      <td>278.713058</td>\n",
       "      <td>279.665398</td>\n",
       "      <td>277.760718</td>\n",
       "    </tr>\n",
       "    <tr>\n",
       "      <th>2</th>\n",
       "      <td>75</td>\n",
       "      <td>0</td>\n",
       "      <td>3</td>\n",
       "      <td>15</td>\n",
       "      <td>15-Mar-0000 00:00:00</td>\n",
       "      <td>279.013835</td>\n",
       "      <td>280.266779</td>\n",
       "      <td>277.760892</td>\n",
       "    </tr>\n",
       "  </tbody>\n",
       "</table>\n",
       "</div>"
      ],
      "text/plain": [
       "   datenum  year  month  day              datetime  data_mean_global  \\\n",
       "0       15     0      1   15  15-Jan-0000 00:00:00        278.366439   \n",
       "1       46     0      2   15  15-Feb-0000 00:00:00        278.713058   \n",
       "2       75     0      3   15  15-Mar-0000 00:00:00        279.013835   \n",
       "\n",
       "   data_mean_nh  data_mean_sh  \n",
       "0    279.045659    277.687219  \n",
       "1    279.665398    277.760718  \n",
       "2    280.266779    277.760892  "
      ]
     },
     "execution_count": 6,
     "metadata": {},
     "output_type": "execute_result"
    }
   ],
   "source": [
    "co2_concentration_df.head(3)"
   ]
  },
  {
   "cell_type": "markdown",
   "metadata": {},
   "source": [
    "### missing data"
   ]
  },
  {
   "cell_type": "code",
   "execution_count": 7,
   "metadata": {},
   "outputs": [
    {
     "data": {
      "text/plain": [
       "datenum             0\n",
       "year                0\n",
       "month               0\n",
       "day                 0\n",
       "datetime            0\n",
       "data_mean_global    0\n",
       "data_mean_nh        0\n",
       "data_mean_sh        0\n",
       "dtype: int64"
      ]
     },
     "execution_count": 7,
     "metadata": {},
     "output_type": "execute_result"
    }
   ],
   "source": [
    "co2_concentration_df.isnull().sum()"
   ]
  },
  {
   "cell_type": "code",
   "execution_count": 8,
   "metadata": {},
   "outputs": [
    {
     "data": {
      "text/plain": [
       "datenum             0.0\n",
       "year                0.0\n",
       "month               0.0\n",
       "day                 0.0\n",
       "datetime            0.0\n",
       "data_mean_global    0.0\n",
       "data_mean_nh        0.0\n",
       "data_mean_sh        0.0\n",
       "dtype: float64"
      ]
     },
     "execution_count": 8,
     "metadata": {},
     "output_type": "execute_result"
    }
   ],
   "source": [
    "co2_concentration_df.isnull().mean()"
   ]
  },
  {
   "cell_type": "code",
   "execution_count": 9,
   "metadata": {},
   "outputs": [],
   "source": [
    "#co2_concentration_df['datetime'] = pd.to_datetime(co2_concentration_df['datetime'], errors = 'coerce', format='%d-%b-%Y %H:%M:%S')"
   ]
  },
  {
   "cell_type": "code",
   "execution_count": 10,
   "metadata": {},
   "outputs": [],
   "source": [
    "co2_data = co2_concentration_df.iloc[:, [1, -1,-2,-3]]"
   ]
  },
  {
   "cell_type": "code",
   "execution_count": 11,
   "metadata": {},
   "outputs": [],
   "source": [
    "co2_data = co2_data[co2_data['year'] >= 1750]"
   ]
  },
  {
   "cell_type": "code",
   "execution_count": 12,
   "metadata": {},
   "outputs": [],
   "source": [
    "co2_data.set_index('year', inplace=True)"
   ]
  },
  {
   "cell_type": "code",
   "execution_count": 13,
   "metadata": {},
   "outputs": [
    {
     "data": {
      "image/png": "[encoded data removed]",
      "text/plain": [
       "<Figure size 1080x720 with 1 Axes>"
      ]
     },
     "metadata": {},
     "output_type": "display_data"
    }
   ],
   "source": [
    "plt.subplots(figsize=(15,10))\n",
    "\n",
    "plt.title('Historical CO2 Concentration')\n",
    "\n",
    "ax = sns.lineplot(data=co2_data,ci=40, lw=3)\n",
    "\n",
    "ax.set(xlabel='Year', ylabel='CO2 Concentration')\n",
    "\n",
    "plt.savefig('co2_historical.pdf')\n",
    "\n",
    "plt.show()"
   ]
  },
  {
   "cell_type": "markdown",
   "metadata": {},
   "source": [
    "## autocorr"
   ]
  },
  {
   "cell_type": "code",
   "execution_count": 15,
   "metadata": {},
   "outputs": [
    {
     "data": {
      "image/png": "[encoded data removed]",
      "text/plain": [
       "<Figure size 1440x720 with 1 Axes>"
      ]
     },
     "metadata": {},
     "output_type": "display_data"
    }
   ],
   "source": [
    "fig, ax = plt.subplots(figsize=(20,10))\n",
    "\n",
    "ax = plot_acf(co2_data['data_mean_global'], ax, title='CO2 Concentration Autocorrelation')\n",
    "\n",
    "ax.savefig('co2_auto_corr.pdf')\n",
    "\n",
    "plt.show()"
   ]
  },
  {
   "cell_type": "code",
   "execution_count": null,
   "metadata": {},
   "outputs": [],
   "source": [
    "## est"
   ]
  }
 ],
 "metadata": {
  "kernelspec": {
   "display_name": "Python 3",
   "language": "python",
   "name": "python3"
  },
  "language_info": {
   "codemirror_mode": {
    "name": "ipython",
    "version": 3
   },
   "file_extension": ".py",
   "mimetype": "text/x-python",
   "name": "python",
   "nbconvert_exporter": "python",
   "pygments_lexer": "ipython3",
   "version": "3.7.7"
  }
 },
 "nbformat": 4,
 "nbformat_minor": 4
}
